{
  "cells": [
    {
      "cell_type": "markdown",
      "metadata": {
        "id": "view-in-github",
        "colab_type": "text"
      },
      "source": [
        "<a href=\"https://colab.research.google.com/github/LadislavVasina1/AudioAugmentor_public/blob/main/OrbitalMechanics_HW.ipynb\" target=\"_parent\"><img src=\"https://colab.research.google.com/assets/colab-badge.svg\" alt=\"Open In Colab\"/></a>"
      ]
    },
    {
      "cell_type": "code",
      "execution_count": null,
      "metadata": {
        "colab": {
          "base_uri": "https://localhost:8080/"
        },
        "id": "P5DzWcOe2X-H",
        "outputId": "ad230482-015f-4881-8abf-7a63329b5434"
      },
      "outputs": [
        {
          "output_type": "stream",
          "name": "stdout",
          "text": [
            "Requirement already satisfied: scipy in /usr/local/lib/python3.10/dist-packages (1.13.1)\n",
            "Requirement already satisfied: numpy in /usr/local/lib/python3.10/dist-packages (1.26.4)\n",
            "Collecting poliastro\n",
            "  Downloading poliastro-0.17.0-py3-none-any.whl.metadata (11 kB)\n",
            "Requirement already satisfied: astropy in /usr/local/lib/python3.10/dist-packages (6.1.4)\n",
            "Requirement already satisfied: numba in /usr/local/lib/python3.10/dist-packages (0.60.0)\n",
            "Requirement already satisfied: plotly in /usr/local/lib/python3.10/dist-packages (5.24.1)\n",
            "Requirement already satisfied: matplotlib in /usr/local/lib/python3.10/dist-packages (3.8.0)\n",
            "Requirement already satisfied: pandas in /usr/local/lib/python3.10/dist-packages (2.2.2)\n",
            "Collecting astropy\n",
            "  Downloading astropy-5.3.4-cp310-cp310-manylinux_2_17_x86_64.manylinux2014_x86_64.whl.metadata (9.4 kB)\n",
            "Collecting astroquery>=0.3.9 (from poliastro)\n",
            "  Downloading astroquery-0.4.7-py3-none-any.whl.metadata (7.2 kB)\n",
            "Collecting jplephem (from poliastro)\n",
            "  Downloading jplephem-2.22-py3-none-any.whl.metadata (22 kB)\n",
            "Requirement already satisfied: pyerfa in /usr/local/lib/python3.10/dist-packages (from poliastro) (2.0.1.4)\n",
            "Requirement already satisfied: PyYAML>=3.13 in /usr/local/lib/python3.10/dist-packages (from astropy) (6.0.2)\n",
            "Requirement already satisfied: packaging>=19.0 in /usr/local/lib/python3.10/dist-packages (from astropy) (24.1)\n",
            "Requirement already satisfied: llvmlite<0.44,>=0.43.0dev0 in /usr/local/lib/python3.10/dist-packages (from numba) (0.43.0)\n",
            "Requirement already satisfied: tenacity>=6.2.0 in /usr/local/lib/python3.10/dist-packages (from plotly) (9.0.0)\n",
            "Requirement already satisfied: contourpy>=1.0.1 in /usr/local/lib/python3.10/dist-packages (from matplotlib) (1.3.0)\n",
            "Requirement already satisfied: cycler>=0.10 in /usr/local/lib/python3.10/dist-packages (from matplotlib) (0.12.1)\n",
            "Requirement already satisfied: fonttools>=4.22.0 in /usr/local/lib/python3.10/dist-packages (from matplotlib) (4.54.1)\n",
            "Requirement already satisfied: kiwisolver>=1.0.1 in /usr/local/lib/python3.10/dist-packages (from matplotlib) (1.4.7)\n",
            "Requirement already satisfied: pillow>=6.2.0 in /usr/local/lib/python3.10/dist-packages (from matplotlib) (10.4.0)\n",
            "Requirement already satisfied: pyparsing>=2.3.1 in /usr/local/lib/python3.10/dist-packages (from matplotlib) (3.2.0)\n",
            "Requirement already satisfied: python-dateutil>=2.7 in /usr/local/lib/python3.10/dist-packages (from matplotlib) (2.8.2)\n",
            "Requirement already satisfied: pytz>=2020.1 in /usr/local/lib/python3.10/dist-packages (from pandas) (2024.2)\n",
            "Requirement already satisfied: tzdata>=2022.7 in /usr/local/lib/python3.10/dist-packages (from pandas) (2024.2)\n",
            "Requirement already satisfied: requests>=2.19 in /usr/local/lib/python3.10/dist-packages (from astroquery>=0.3.9->poliastro) (2.32.3)\n",
            "Requirement already satisfied: beautifulsoup4>=4.8 in /usr/local/lib/python3.10/dist-packages (from astroquery>=0.3.9->poliastro) (4.12.3)\n",
            "Requirement already satisfied: html5lib>=0.999 in /usr/local/lib/python3.10/dist-packages (from astroquery>=0.3.9->poliastro) (1.1)\n",
            "Requirement already satisfied: keyring>=15.0 in /usr/lib/python3/dist-packages (from astroquery>=0.3.9->poliastro) (23.5.0)\n",
            "Collecting pyvo>=1.1 (from astroquery>=0.3.9->poliastro)\n",
            "  Downloading pyvo-1.6-py3-none-any.whl.metadata (4.8 kB)\n",
            "Requirement already satisfied: six>=1.5 in /usr/local/lib/python3.10/dist-packages (from python-dateutil>=2.7->matplotlib) (1.16.0)\n",
            "Requirement already satisfied: soupsieve>1.2 in /usr/local/lib/python3.10/dist-packages (from beautifulsoup4>=4.8->astroquery>=0.3.9->poliastro) (2.6)\n",
            "Requirement already satisfied: webencodings in /usr/local/lib/python3.10/dist-packages (from html5lib>=0.999->astroquery>=0.3.9->poliastro) (0.5.1)\n",
            "Requirement already satisfied: charset-normalizer<4,>=2 in /usr/local/lib/python3.10/dist-packages (from requests>=2.19->astroquery>=0.3.9->poliastro) (3.4.0)\n",
            "Requirement already satisfied: idna<4,>=2.5 in /usr/local/lib/python3.10/dist-packages (from requests>=2.19->astroquery>=0.3.9->poliastro) (3.10)\n",
            "Requirement already satisfied: urllib3<3,>=1.21.1 in /usr/local/lib/python3.10/dist-packages (from requests>=2.19->astroquery>=0.3.9->poliastro) (2.2.3)\n",
            "Requirement already satisfied: certifi>=2017.4.17 in /usr/local/lib/python3.10/dist-packages (from requests>=2.19->astroquery>=0.3.9->poliastro) (2024.8.30)\n",
            "Downloading poliastro-0.17.0-py3-none-any.whl (162 kB)\n",
            "\u001b[2K   \u001b[90m━━━━━━━━━━━━━━━━━━━━━━━━━━━━━━━━━━━━━━━━\u001b[0m \u001b[32m162.7/162.7 kB\u001b[0m \u001b[31m5.5 MB/s\u001b[0m eta \u001b[36m0:00:00\u001b[0m\n",
            "\u001b[?25hDownloading astropy-5.3.4-cp310-cp310-manylinux_2_17_x86_64.manylinux2014_x86_64.whl (10.2 MB)\n",
            "\u001b[2K   \u001b[90m━━━━━━━━━━━━━━━━━━━━━━━━━━━━━━━━━━━━━━━━\u001b[0m \u001b[32m10.2/10.2 MB\u001b[0m \u001b[31m28.4 MB/s\u001b[0m eta \u001b[36m0:00:00\u001b[0m\n",
            "\u001b[?25hDownloading astroquery-0.4.7-py3-none-any.whl (5.3 MB)\n",
            "\u001b[2K   \u001b[90m━━━━━━━━━━━━━━━━━━━━━━━━━━━━━━━━━━━━━━━━\u001b[0m \u001b[32m5.3/5.3 MB\u001b[0m \u001b[31m26.9 MB/s\u001b[0m eta \u001b[36m0:00:00\u001b[0m\n",
            "\u001b[?25hDownloading jplephem-2.22-py3-none-any.whl (47 kB)\n",
            "\u001b[2K   \u001b[90m━━━━━━━━━━━━━━━━━━━━━━━━━━━━━━━━━━━━━━━━\u001b[0m \u001b[32m47.2/47.2 kB\u001b[0m \u001b[31m1.4 MB/s\u001b[0m eta \u001b[36m0:00:00\u001b[0m\n",
            "\u001b[?25hDownloading pyvo-1.6-py3-none-any.whl (994 kB)\n",
            "\u001b[2K   \u001b[90m━━━━━━━━━━━━━━━━━━━━━━━━━━━━━━━━━━━━━━━━\u001b[0m \u001b[32m994.8/994.8 kB\u001b[0m \u001b[31m23.2 MB/s\u001b[0m eta \u001b[36m0:00:00\u001b[0m\n",
            "\u001b[?25hInstalling collected packages: jplephem, astropy, pyvo, astroquery, poliastro\n",
            "  Attempting uninstall: astropy\n",
            "    Found existing installation: astropy 6.1.4\n",
            "    Uninstalling astropy-6.1.4:\n",
            "      Successfully uninstalled astropy-6.1.4\n",
            "Successfully installed astropy-5.3.4 astroquery-0.4.7 jplephem-2.22 poliastro-0.17.0 pyvo-1.6\n"
          ]
        }
      ],
      "source": [
        "!pip install scipy numpy poliastro astropy numba plotly matplotlib pandas"
      ]
    },
    {
      "cell_type": "markdown",
      "metadata": {
        "id": "731Ko4TvBqjx"
      },
      "source": [
        "Import needed libraries"
      ]
    },
    {
      "cell_type": "code",
      "execution_count": null,
      "metadata": {
        "id": "QQ1hktiHEcWP"
      },
      "outputs": [],
      "source": [
        "import pprint\n",
        "import pandas as pd\n",
        "import matplotlib.pyplot as plt\n",
        "import seaborn as sns\n",
        "import numpy as np\n",
        "from astroquery.jplsbdb import SBDB\n",
        "from poliastro.bodies import Sun\n",
        "from poliastro.twobody import Orbit\n",
        "from poliastro.plotting import StaticOrbitPlotter\n",
        "from poliastro.frames import Planes\n",
        "from astropy.time import Time\n",
        "from astropy import units as u\n",
        "from IPython.display import display, HTML\n",
        "\n",
        "sin = np.sin\n",
        "cos = np.cos\n",
        "tan = np.tan\n",
        "arctan = np.arctan\n",
        "pi = np.pi"
      ]
    },
    {
      "cell_type": "markdown",
      "metadata": {
        "id": "TfhOdkFbB09R"
      },
      "source": [
        "Setup needed parameters"
      ]
    },
    {
      "cell_type": "code",
      "execution_count": null,
      "metadata": {
        "colab": {
          "base_uri": "https://localhost:8080/"
        },
        "id": "luJW-JaNUHGp",
        "outputId": "71a50c02-69fc-4f8d-92b0-a89730b5256e"
      },
      "outputs": [
        {
          "output_type": "stream",
          "name": "stdout",
          "text": [
            "{'a': 149597870.691, 'e': 0.0167, 'i': 0.0, 'raan': -0.1965352438817743, 'lower_omega': 1.9933026650579555, 'T0': 2451547.5191}\n",
            "{'a': 196227526.98538473, 'e': 0.4316, 'i': 0.2875115783395299, 'raan': 4.301908484266647, 'lower_omega': 4.829088675490039, 'T0': 2459305.24448}\n"
          ]
        }
      ],
      "source": [
        "EARTH_PARAMS = {\n",
        "    # 'a':           1, # semi-major axis [AU]\n",
        "    'a':           1 * 149597870.691, # semi-major axis [km]\n",
        "    'e':           0.0167, # eccentricity\n",
        "    # 'i':           0, # inclination [deg]\n",
        "    'i':           np.deg2rad(0), # inclination [rad]\n",
        "    # 'raan':       -11.26064, # longitude of ascending node Ω [deg]\n",
        "    'raan':       np.deg2rad(-11.26064), # longitude of ascending node Ω [rad]\n",
        "    # 'lower_omega': 114.20783, # argument of perihel ω [deg]\n",
        "    'lower_omega': np.deg2rad(114.20783), # argument of perihel ω [rad]\n",
        "    'T0':          2451547.5191, # time of passage through perighel [JDT]\n",
        "}\n",
        "\n",
        "LV2021_PARAMS = {\n",
        "    # 'a':           1.3117, # semi-major axis [AU]\n",
        "    'a':           1.3117 * 149597870.691, # semi-major axis [km]196227526.98538473\n",
        "    'e':           0.4316, # eccentricity\n",
        "    # 'i':           16.4732, # inclination [deg]\n",
        "    'i':           np.deg2rad(16.4732), # inclination [rad]\n",
        "    # 'raan':        246.4812, # longitude of ascending node Ω [deg]\n",
        "    'raan':        np.deg2rad(246.4812), # longitude of ascending node Ω [rad]\n",
        "    # 'lower_omega': 276.6864, # argument of perihel ω [deg]\n",
        "    'lower_omega': np.deg2rad(276.6864), # argument of perihel ω [rad]\n",
        "    'T0':          2459305.24448, # time of passage through perighel [JDT]\n",
        "}\n",
        "\n",
        "May_27_2021_1320_JDT = 2459362.0555\n",
        "print(EARTH_PARAMS)\n",
        "print(LV2021_PARAMS)"
      ]
    },
    {
      "cell_type": "markdown",
      "metadata": {
        "id": "icxup4kpB4df"
      },
      "source": [
        "Define transformation matrices"
      ]
    },
    {
      "cell_type": "code",
      "execution_count": null,
      "metadata": {
        "id": "-kWQ9TnvEgIq"
      },
      "outputs": [],
      "source": [
        "def create_transform_ge_p(ω, Ω, i):\n",
        "  return np.matrix([\n",
        "      [\n",
        "          cos(ω)*cos(Ω)-sin(ω)*sin(Ω)*cos(i),\n",
        "          cos(ω)*sin(Ω)+sin(ω)*cos(Ω)*cos(i),\n",
        "          sin(ω)*sin(i)\n",
        "      ],\n",
        "      [\n",
        "          -sin(ω)*cos(Ω)-cos(ω)*sin(Ω)*cos(i),\n",
        "          -sin(ω)*sin(Ω)+cos(ω)*cos(Ω)*cos(i),\n",
        "          cos(ω)*sin(i)\n",
        "      ],\n",
        "      [\n",
        "          sin(Ω)*sin(i),\n",
        "          -cos(Ω)*sin(i),\n",
        "          cos(i)\n",
        "      ]\n",
        "  ])"
      ]
    },
    {
      "cell_type": "code",
      "execution_count": null,
      "metadata": {
        "id": "kYrB_J67fmoi"
      },
      "outputs": [],
      "source": [
        "def create_transform_p_ge(ω, Ω, i):\n",
        "  return np.matrix([\n",
        "      [\n",
        "          cos(ω)*cos(Ω)-sin(ω)*sin(Ω)*cos(i),\n",
        "          -sin(ω)*cos(Ω)-cos(ω)*sin(Ω)*cos(i),\n",
        "          sin(Ω)*sin(i)\n",
        "      ],\n",
        "      [\n",
        "          cos(ω)*sin(Ω)+sin(ω)*cos(Ω)*cos(i),\n",
        "          -sin(ω)*sin(Ω)+cos(ω)*cos(Ω)*cos(i),\n",
        "          -cos(Ω)*sin(i)\n",
        "      ],\n",
        "      [\n",
        "          sin(ω)*sin(i),\n",
        "          cos(ω)*sin(i),\n",
        "          cos(i)\n",
        "      ]\n",
        "  ])"
      ]
    },
    {
      "cell_type": "code",
      "execution_count": null,
      "metadata": {
        "id": "XrBilliHewTn"
      },
      "outputs": [],
      "source": [
        "Transform_GE_P_earth = create_transform_ge_p(\n",
        "    ω=EARTH_PARAMS['lower_omega'],\n",
        "    Ω=EARTH_PARAMS['raan'],\n",
        "    i=EARTH_PARAMS['i']\n",
        ")\n",
        "\n",
        "Transform_GE_P_lv2021 = create_transform_ge_p(\n",
        "    ω=LV2021_PARAMS['lower_omega'],\n",
        "    Ω=LV2021_PARAMS['raan'],\n",
        "    i=LV2021_PARAMS['i']\n",
        ")\n",
        "# print(f'Transform_GE_P_earth:\\n {Transform_GE_P_earth}\\n')\n",
        "# print(f'Transform_GE_P_lv2021:\\n {Transform_GE_P_lv2021}\\n')\n",
        "\n",
        "Transform_P_GE_earth = create_transform_p_ge(\n",
        "    ω=EARTH_PARAMS['lower_omega'],\n",
        "    Ω=EARTH_PARAMS['raan'],\n",
        "    i=EARTH_PARAMS['i']\n",
        ")\n",
        "\n",
        "Transform_P_GE_lv2021 = create_transform_p_ge(\n",
        "    ω=LV2021_PARAMS['lower_omega'],\n",
        "    Ω=LV2021_PARAMS['raan'],\n",
        "    i=LV2021_PARAMS['i']\n",
        ")\n",
        "\n",
        "\n",
        "# print(f'Transform_P_GE_earth:\\n {Transform_P_GE_earth}\\n')\n",
        "# print(f'Transform_P_GE_lv2021:\\n {Transform_P_GE_lv2021}\\n')"
      ]
    },
    {
      "cell_type": "markdown",
      "metadata": {
        "id": "XuwxZTON1p-7"
      },
      "source": [
        "# Kepler's equation $$M = E - e  sin  E$$\n",
        "\n",
        "**M** [rad] ... Mean anomaly defined as $$ M = n(t-T_0)$$\n",
        "*where*\n",
        "\n",
        "**n** [rad/s] ... mean motion defined as $$ n = 2\\pi T = \\sqrt{(\\mu /a^3)}$$\n",
        "**t** ... time for which the mean anomaly is calculated\n",
        "\n",
        "**T_0** ... origin of time integration (usualy taken as time of perigee passage)\n",
        "\n",
        "\n",
        "$$\\mu_{Earth} = 398 600 km^3/s^2$$\n",
        "$$\\mu_{Sun} = 1.32712440018 × 10^{11} km^3/s^2$$"
      ]
    },
    {
      "cell_type": "code",
      "execution_count": null,
      "metadata": {
        "id": "bFnsPWi_5d1S"
      },
      "outputs": [],
      "source": [
        "μ_Earth = 398600 # km^3/s^2\n",
        "μ_Sun = 1.32712440018e+11 # km^3/s^2\n",
        "# μ_Sun = 2.959122083e-4 # AU^3/day^2\n"
      ]
    },
    {
      "cell_type": "code",
      "execution_count": null,
      "metadata": {
        "id": "_BMtJgqAU3af"
      },
      "outputs": [],
      "source": [
        "def mean_motion_n(μ, a):\n",
        "  n = np.sqrt(μ/np.power(a, 3))\n",
        "  return n"
      ]
    },
    {
      "cell_type": "code",
      "execution_count": null,
      "metadata": {
        "id": "1Dq-rH57VPw0"
      },
      "outputs": [],
      "source": [
        "def mean_anomaly_M(n, t, T0):\n",
        "  M = n * (t - T0)\n",
        "  return M"
      ]
    },
    {
      "cell_type": "code",
      "execution_count": null,
      "metadata": {
        "colab": {
          "base_uri": "https://localhost:8080/"
        },
        "id": "6d0PMdLzUGnl",
        "outputId": "b2ff194d-9cbc-4177-9b48-f86531619a19"
      },
      "outputs": [
        {
          "output_type": "stream",
          "name": "stdout",
          "text": [
            "mean motion for Earth  n = 1.990983674768616e-07 [rad/s]\n",
            "mean motion for Earth  n = 0.017202098950000844 [rad/day]\n",
            "mean anomaly for Earth M = 134.4264284011756 [rad]\n",
            "mean anomaly for Earth M = 7702.067002404904 [deg]\n"
          ]
        }
      ],
      "source": [
        "n = mean_motion_n(μ_Sun, EARTH_PARAMS['a'])\n",
        "M = mean_anomaly_M(n=n, t=May_27_2021_1320_JDT * 86400, T0=EARTH_PARAMS['T0'] * 86400)\n",
        "\n",
        "print(f'mean motion for Earth  n = {n} [rad/s]')\n",
        "print(f'mean motion for Earth  n = {n*86400} [rad/day]')\n",
        "print(f'mean anomaly for Earth M = {M} [rad]')\n",
        "print(f'mean anomaly for Earth M = {M*180/np.pi} [deg]')"
      ]
    },
    {
      "cell_type": "markdown",
      "metadata": {
        "id": "7GkFuouSAPEs"
      },
      "source": [
        "Kepler equation cannot be solved directly thus we use iterative method below:\n",
        "$$ E_0 = M $$\n",
        "$$ E_{i+1} = M + esinE_i $$"
      ]
    },
    {
      "cell_type": "code",
      "execution_count": null,
      "metadata": {
        "colab": {
          "base_uri": "https://localhost:8080/"
        },
        "id": "qZ2nV_Oszj1r",
        "outputId": "598f4cd7-697d-4a43-a0f1-586ba1b4c97b"
      },
      "outputs": [
        {
          "output_type": "stream",
          "name": "stdout",
          "text": [
            "EARTH\n",
            "E after 0. iterations = 134.43669455157521 [rad]\n",
            "E after 5. iterations = 134.4365605680827 [rad]\n",
            "E after 10. iterations = 134.43656056808277 [rad]\n",
            "E after 10. iterations = 7702.647532806008 [deg]\n"
          ]
        }
      ],
      "source": [
        "def iterative_method_for_E(M, e, num_iter, verbose=False):\n",
        "  final_E = M\n",
        "  for i in range(num_iter):\n",
        "    final_E = M + e*sin(final_E)\n",
        "    if i%5 == 0:\n",
        "        print(f'E after {i}. iterations = {final_E} [rad]') if verbose else None\n",
        "  print(f'E after {num_iter}. iterations = {final_E} [rad]') if verbose else None\n",
        "  print(f'E after {num_iter}. iterations = {final_E*180/np.pi} [deg]') if verbose else None\n",
        "  return final_E\n",
        "\n",
        "print('EARTH')\n",
        "E = iterative_method_for_E(M, EARTH_PARAMS['e'], 10, verbose=True)"
      ]
    },
    {
      "cell_type": "markdown",
      "metadata": {
        "id": "f7c1hB6CDAQu"
      },
      "source": [
        "Now we need to calculate true anomaly using this expresion:\n",
        "$$ tan \\frac{\\theta}{2} = \\sqrt{(\\frac{1+e}{1-e})}tan \\frac{E}{2}  $$\n",
        "$$ ⇓ $$\n",
        "$$ \\theta = 2 arctan(\\sqrt{(\\frac{1+e}{1-e})}tan \\frac{E}{2})$$"
      ]
    },
    {
      "cell_type": "code",
      "execution_count": null,
      "metadata": {
        "id": "RvpOwHySVhp5"
      },
      "outputs": [],
      "source": [
        "def true_anomaly_θ(E, e):\n",
        "  θ = 2*arctan(np.sqrt((1+e)/(1-e))*tan(E/2))\n",
        "  return θ\n"
      ]
    },
    {
      "cell_type": "code",
      "execution_count": null,
      "metadata": {
        "colab": {
          "base_uri": "https://localhost:8080/"
        },
        "id": "pxdxgL9kzjvr",
        "outputId": "7d23efec-a626-42f4-e15e-f09ddef27d66"
      },
      "outputs": [
        {
          "output_type": "stream",
          "name": "stdout",
          "text": [
            "True anomaly of Earth θ = 2.4997350869892982 [rad]\n",
            "True anomaly of Earth θ = 143.2242703852545 [deg]\n"
          ]
        }
      ],
      "source": [
        "θ = true_anomaly_θ(E, EARTH_PARAMS['e'])\n",
        "print(f'True anomaly of Earth θ = {θ} [rad]')\n",
        "print(f'True anomaly of Earth θ = {θ*180/np.pi} [deg]')"
      ]
    },
    {
      "cell_type": "markdown",
      "metadata": {
        "id": "WHwBq8qGICLq"
      },
      "source": [
        "Now we calculate the state position vector\n",
        "$$\\begin{pmatrix}x \\\\y \\\\z\\end{pmatrix} = r * \\begin{pmatrix}cos(θ) \\\\sin(\\theta) \\\\0\\end{pmatrix} $$\n",
        "\n",
        "\n",
        "**r** ... radius is calulated as $$ r = \\frac{p}{1+ecos(\\theta)} $$\n",
        "**p** ... orbit parameter is calculated from the 1st Kepler law using $$ p=a(1-e^2) $$\n"
      ]
    },
    {
      "cell_type": "code",
      "execution_count": null,
      "metadata": {
        "id": "wD4Rnp2OV0I_"
      },
      "outputs": [],
      "source": [
        "def orbit_parameter_p(a, e):\n",
        "  return a * (1 - np.power(e, 2))"
      ]
    },
    {
      "cell_type": "code",
      "execution_count": null,
      "metadata": {
        "id": "rBW4P1PoV7qL"
      },
      "outputs": [],
      "source": [
        "def radius_r(p, e, θ):\n",
        "  return (p)/(1 + (e * cos(θ)))"
      ]
    },
    {
      "cell_type": "code",
      "execution_count": null,
      "metadata": {
        "colab": {
          "base_uri": "https://localhost:8080/"
        },
        "id": "Gyb7fOWczjo_",
        "outputId": "adb1a7fc-997d-4311-b229-e5981f24dce3"
      },
      "outputs": [
        {
          "output_type": "stream",
          "name": "stdout",
          "text": [
            "p = 149556149.340843 [km]\n",
            "p = 0.9997211100000002 [AU]\n",
            "\n",
            "r = 151583802.53278545 [km]\n",
            "r = 1.0132751344161006 [AU]\n",
            "\n",
            "x_y_z_vector [km]= \n",
            "[[-1.21416359e+08]\n",
            " [ 9.07508513e+07]\n",
            " [ 0.00000000e+00]]\n",
            "x_y_z_vector [AU]= \n",
            "[[-0.81161823]\n",
            " [ 0.60663197]\n",
            " [ 0.        ]]\n"
          ]
        }
      ],
      "source": [
        "p = orbit_parameter_p(a=EARTH_PARAMS['a'], e=EARTH_PARAMS['e'])\n",
        "print(f'p = {p} [km]')\n",
        "print(f'p = {p * 6.6845871226706E-9} [AU]\\n')\n",
        "\n",
        "r = radius_r(p=p, e=EARTH_PARAMS['e'], θ=θ)\n",
        "print(f'r = {r} [km]')\n",
        "print(f'r = {r * 6.6845871226706E-9} [AU]\\n')\n",
        "\n",
        "cosTheta_sinTheta_0_vector = np.matrix([\n",
        "    [cos(θ)],\n",
        "    [sin(θ)],\n",
        "    [0]\n",
        "]\n",
        ")\n",
        "\n",
        "x_y_z_vector = r * cosTheta_sinTheta_0_vector\n",
        "print(f'x_y_z_vector [km]= \\n{x_y_z_vector}')\n",
        "print(f'x_y_z_vector [AU]= \\n{x_y_z_vector * 6.6845871226706E-9}')"
      ]
    },
    {
      "cell_type": "markdown",
      "metadata": {
        "id": "hjNkjQLRMaJl"
      },
      "source": [
        "Now we calculate the state velocity vector\n",
        "$$\\begin{pmatrix}V_x \\\\V_y \\\\V_z\\end{pmatrix} = \\sqrt{(\\frac{\\mu}{p})} * \\begin{pmatrix}-sin(θ) \\\\e+cos(\\theta) \\\\0\\end{pmatrix} $$\n",
        "\n",
        "\n",
        "**p** ... orbit parameter is calculated from the 1st Kepler law using $$ p=a(1-e^2) $$\n"
      ]
    },
    {
      "cell_type": "code",
      "execution_count": null,
      "metadata": {
        "colab": {
          "base_uri": "https://localhost:8080/"
        },
        "id": "Yue7YqJCzjmT",
        "outputId": "27c5a501-2784-421c-b1ee-2106e4cedeef"
      },
      "outputs": [
        {
          "output_type": "stream",
          "name": "stdout",
          "text": [
            "p = 149556149.340843 [km]\n",
            "p = 0.9997211100000002 [AU]\n",
            "\n",
            "Vx_Vy_Vz_vector [km/s] = \n",
            "[[-17.83411611]\n",
            " [-23.36294643]\n",
            " [  0.        ]]\n",
            "Vx_Vy_Vz_vector [AU/s] = \n",
            "[[-1.19213703e-07]\n",
            " [-1.56171651e-07]\n",
            " [ 0.00000000e+00]]\n"
          ]
        }
      ],
      "source": [
        "p = orbit_parameter_p(a=EARTH_PARAMS['a'], e=EARTH_PARAMS['e'])\n",
        "print(f'p = {p} [km]')\n",
        "print(f'p = {p * 6.6845871226706E-9} [AU]\\n')\n",
        "\n",
        "\n",
        "minuSinusTheta_ePlusCosTheta_vector = np.matrix([\n",
        "    [-sin(θ)],\n",
        "    [EARTH_PARAMS['e'] + cos(θ)],\n",
        "    [0]\n",
        "]\n",
        ")\n",
        "\n",
        "Vx_Vy_Vz_vector = np.sqrt(μ_Sun/p) * minuSinusTheta_ePlusCosTheta_vector\n",
        "print(f'Vx_Vy_Vz_vector [km/s] = \\n{Vx_Vy_Vz_vector}')\n",
        "print(f'Vx_Vy_Vz_vector [AU/s] = \\n{Vx_Vy_Vz_vector * 6.6845871226706E-9}')"
      ]
    },
    {
      "cell_type": "markdown",
      "metadata": {
        "id": "uAjGlBUBO6QE"
      },
      "source": [
        "Now when we have a state vector in perifocal coordinate system we convert it to geocentric equiatorial coordinate system using transformation matrix $$T_{P→GE}$$ which is defined at the begining of this file."
      ]
    },
    {
      "cell_type": "code",
      "execution_count": null,
      "metadata": {
        "colab": {
          "base_uri": "https://localhost:8080/"
        },
        "id": "6AbJel9qO46v",
        "outputId": "5b384bdc-5bc5-469f-eee2-0cf060f402c9"
      },
      "outputs": [
        {
          "output_type": "stream",
          "name": "stdout",
          "text": [
            "Transform_P_GE_earth matrix = \n",
            "[[-0.22405287 -0.97457699 -0.        ]\n",
            " [ 0.97457699 -0.22405287 -0.        ]\n",
            " [ 0.         -0.          1.        ]]\n",
            "\n",
            "Final Earth coordinates [km] = \n",
            " [[-6.12400074e+07]\n",
            " [-1.38662579e+08]\n",
            " [ 0.00000000e+00]]\n",
            "Final Earth coordinates [AU] = \n",
            " [[-0.40936416]\n",
            " [-0.92690209]\n",
            " [ 0.        ]]\n",
            "\n",
            "Final Earth velocity [km/s] = \n",
            " [[ 26.76477498]\n",
            " [-12.14618391]\n",
            " [  0.        ]]\n",
            "Final Earth velocity [AU/s] = \n",
            " [[ 1.78911470e-07]\n",
            " [-8.11922246e-08]\n",
            " [ 0.00000000e+00]]\n"
          ]
        }
      ],
      "source": [
        "Transform_P_GE_earth = create_transform_p_ge(\n",
        "    ω=EARTH_PARAMS['lower_omega'],\n",
        "    Ω=EARTH_PARAMS['raan'],\n",
        "    i=EARTH_PARAMS['i']\n",
        ")\n",
        "print(f'Transform_P_GE_earth matrix = \\n{Transform_P_GE_earth}\\n')\n",
        "\n",
        "final_earth_coordinates = Transform_P_GE_earth * x_y_z_vector\n",
        "print(f'Final Earth coordinates [km] = \\n {final_earth_coordinates}')\n",
        "print(f'Final Earth coordinates [AU] = \\n {final_earth_coordinates * 6.6845871226706E-9}\\n')\n",
        "\n",
        "\n",
        "final_earth_velocity = Transform_P_GE_earth * Vx_Vy_Vz_vector\n",
        "print(f'Final Earth velocity [km/s] = \\n {final_earth_velocity}')\n",
        "print(f'Final Earth velocity [AU/s] = \\n {final_earth_velocity * 6.6845871226706E-9}')"
      ]
    },
    {
      "cell_type": "code",
      "execution_count": null,
      "metadata": {
        "id": "_Tn7veUvtynO"
      },
      "outputs": [],
      "source": [
        "def prepare_data(body_params, result, time_in_JDT):\n",
        "  result = [result]\n",
        "  data = {\n",
        "    'time_in_JDT': {\n",
        "        'time_in_JDT': time_in_JDT\n",
        "      },\n",
        "     'body_given_values': {\n",
        "         'a [km]': body_params['a'],\n",
        "         'e': body_params['e'],\n",
        "         'i [rad]': body_params['i'],\n",
        "         'raan [rad]': body_params['raan'],\n",
        "         'lower_omega [rad]': body_params['lower_omega'],\n",
        "         'T0 [JDT]': body_params['T0'],\n",
        "     },\n",
        "     'body_calculated_values': {\n",
        "         'n [rad/s]': result[0]['n'],\n",
        "         'M [rad]': result[0]['M'],\n",
        "         'E [rad]': result[0]['E'],\n",
        "         'θ [rad]': result[0]['θ'],\n",
        "         'p [km]': result[0]['p'],\n",
        "         'r [km]': result[0]['r'],\n",
        "         # Unpack the vectors into separate columns\n",
        "         'x_p': result[0]['x_y_z_vector_perifocal'].tolist()[0][0], # Accessing elements of the matrices\n",
        "         'y_p': result[0]['x_y_z_vector_perifocal'].tolist()[1][0],\n",
        "         'z_p': result[0]['x_y_z_vector_perifocal'].tolist()[2][0],\n",
        "         'Vx_p': result[0]['Vx_Vy_Vz_vector_perifocal'].tolist()[0][0],\n",
        "         'Vy_p': result[0]['Vx_Vy_Vz_vector_perifocal'].tolist()[1][0],\n",
        "         'Vz_p': result[0]['Vx_Vy_Vz_vector_perifocal'].tolist()[2][0],\n",
        "         'x_ge': result[0]['final_body_coordinates_ge'].tolist()[0][0],\n",
        "         'y_ge': result[0]['final_body_coordinates_ge'].tolist()[1][0],\n",
        "         'z_ge': result[0]['final_body_coordinates_ge'].tolist()[2][0],\n",
        "         'Vx_ge': result[0]['final_body_velocity_ge'].tolist()[0][0],\n",
        "         'Vy_ge': result[0]['final_body_velocity_ge'].tolist()[1][0],\n",
        "         'Vz_ge': result[0]['final_body_velocity_ge'].tolist()[2][0],\n",
        "     }\n",
        "  }\n",
        "\n",
        "  return data\n",
        "\n",
        "\n",
        "def plot_data(BODY_1_PARAMS, BODY_2_PARAMS, result, time_in_JDT):\n",
        "  body_0_data = prepare_data(BODY_1_PARAMS, result[0], time_in_JDT)\n",
        "  body_1_data = prepare_data(BODY_2_PARAMS, result[1], time_in_JDT)\n",
        "  num_of_decimals = 10\n",
        "\n",
        "  # Create DataFrames\n",
        "  df1_body0 = pd.DataFrame(body_0_data['time_in_JDT'], index=['Time of the calculation']).T\n",
        "  df2_body0 = pd.DataFrame(body_0_data['body_given_values'], index=[f'body_0_given_values']).T\n",
        "  df3_body0 = pd.DataFrame(body_0_data['body_calculated_values'], index=[f'body_0_calculated_values']).T\n",
        "\n",
        "  df1_body1 = pd.DataFrame(body_1_data['time_in_JDT'], index=['Time of the calculation']).T\n",
        "  df2_body1 = pd.DataFrame(body_1_data['body_given_values'], index=[f'body_1_given_values']).T\n",
        "  df3_body1 = pd.DataFrame(body_1_data['body_calculated_values'], index=[f'body_1_calculated_values']).T\n",
        "\n",
        "  # Set float format\n",
        "  pd.set_option('display.float_format', lambda x: f'%.{num_of_decimals}f' % x)\n",
        "\n",
        "  # Display tables side-by-side using HTML\n",
        "  display(HTML(f\"<table><tr><td>{df1_body0.to_html()}</td><td>{df2_body0.to_html()}</td><td>{df2_body1.to_html()}</td><td>{df3_body0.to_html()}</td><td>{df3_body1.to_html()}</td></tr></table>\"))\n",
        "\n",
        "def plot_orbits_2d(bodies_params, result, time_in_JDT):\n",
        "  # Get user input for orbital parameters\n",
        "  # For simplicity, I'm using default values, but you should replace them with user input\n",
        "  a1 = (bodies_params[0]['a'] * u.km).to(u.AU)\n",
        "  ecc1 = bodies_params[0]['e'] * u.dimensionless_unscaled\n",
        "  inc1 = (bodies_params[0]['i'] * u.rad).to(u.deg)\n",
        "  raan1 = (bodies_params[0]['raan'] * u.rad).to(u.deg)\n",
        "  argp1 = (bodies_params[0]['lower_omega'] * u.rad).to(u.deg)\n",
        "  nu1 = (result[0]['θ'] * u.rad).to(u.deg)\n",
        "\n",
        "  a2 = (bodies_params[1]['a'] * u.km).to(u.AU)\n",
        "  ecc2 = bodies_params[1]['e'] * u.dimensionless_unscaled\n",
        "  inc2 = (bodies_params[1]['i'] * u.rad).to(u.deg)\n",
        "  raan2 = (bodies_params[1]['raan'] * u.rad).to(u.deg)\n",
        "  argp2 = (bodies_params[1]['lower_omega'] * u.rad).to(u.deg)\n",
        "  nu2 = (result[1]['θ'] * u.rad).to(u.deg)\n",
        "\n",
        "  # Define the epoch\n",
        "\n",
        "  # epoch = Time(\"2021-05-27 13:20:00\", scale=\"utc\")\n",
        "  epoch = Time(time_in_JDT, format=\"jd\", scale=\"tt\")\n",
        "\n",
        "\n",
        "  # Create the orbit objects\n",
        "  orbit1 = Orbit.from_classical(Sun, a1, ecc1, inc1, raan1, argp1, nu1, epoch=epoch)\n",
        "  orbit2 = Orbit.from_classical(Sun, a2, ecc2, inc2, raan2, argp2, nu2, epoch=epoch)\n",
        "\n",
        "  # Create the plotter and plot the orbits\n",
        "  plotter = StaticOrbitPlotter(plane=Planes.EARTH_ECLIPTIC)\n",
        "  plotter.plot(orbit1, label=\"Body#1 orbit\", color=\"blue\")\n",
        "  plotter.plot(orbit2, label=\"Body#2 orbit\", color=\"red\")\n",
        "\n",
        "  return orbit1, orbit2\n",
        "\n",
        "  # TrueAnomaly Earth = 143.2242703852545 deg\n",
        "  # TrueAnomaly LV2021 = 83.04451694635759 deg\n"
      ]
    },
    {
      "cell_type": "code",
      "execution_count": null,
      "metadata": {
        "id": "luhIkmKRST8F"
      },
      "outputs": [],
      "source": [
        "def calculate_positions_velocities_of_two_bodies_orbiting_sun(\n",
        "    BODY_1_PARAMS,\n",
        "    BODY_2_PARAMS,\n",
        "    time_in_JDT,\n",
        "    verbose=False,\n",
        "):\n",
        "  init_dict = {\n",
        "        'n': None,\n",
        "        'M': None,\n",
        "        'E': None,\n",
        "        'θ': None,\n",
        "        'p': None,\n",
        "        'r': None,\n",
        "        'x_y_z_vector_perifocal': None,\n",
        "        'Vx_Vy_Vz_vector_perifocal': None,\n",
        "        'final_body_coordinates_ge': None,\n",
        "        'final_body_velocity_ge': None,\n",
        "      }\n",
        "\n",
        "  result = [init_dict, init_dict]\n",
        "\n",
        "  μ_Sun = 1.32712440018e+11 # km^3/s^2\n",
        "\n",
        "  param_enum = [BODY_1_PARAMS, BODY_2_PARAMS]\n",
        "\n",
        "  for i, current_body_params in enumerate(param_enum):\n",
        "    # n,M,E,θ,p,r,x_y_z_vector_perifocal,Vx_Vy_Vz_vector_perifocal,final_body_coordinates_ge,final_body_velocity_ge = 0,0,0,0,0,0,0,0,0,0\n",
        "    print(f'\\n\\n\\nBODY NO. {i}\\nGIVEN PARAMS: {current_body_params}\\n') if verbose else None\n",
        "\n",
        "    ### Kepler's equation part\n",
        "\n",
        "    # Getting mean motion and anomaly\n",
        "    n = mean_motion_n(μ_Sun, current_body_params['a'])\n",
        "    M = mean_anomaly_M(n, time_in_JDT*86400, current_body_params['T0']*86400)\n",
        "    print(f'mean motion for body no. {i}  n = {n} [rad/s]') if verbose else None\n",
        "    print(f'mean motion for body no. {i}  n = {n * 86400} [rad/day]') if verbose else None\n",
        "    print(f'mean anomaly for body no. {i} M = {M} [rad]') if verbose else None\n",
        "\n",
        "    # Using iterative method for getting E\n",
        "    E = iterative_method_for_E(M, current_body_params['e'], 10, verbose=verbose)\n",
        "\n",
        "    # Calculating true anomaly\n",
        "    θ = true_anomaly_θ(E, current_body_params['e'])\n",
        "    print(f'True anomaly θ = {θ} [rad]') if verbose else None\n",
        "    print(f'True anomaly θ = {θ * 180/np.pi} [deg]') if verbose else None\n",
        "\n",
        "    # Calculating state position vector\n",
        "    p = orbit_parameter_p(current_body_params['a'], current_body_params['e'])\n",
        "    print(f'p = {p} [km]') if verbose else None\n",
        "    print(f'p = {p * 6.6845871226706E-9} [AU]') if verbose else None\n",
        "    r = radius_r(p, current_body_params['e'], θ)\n",
        "    print(f'r = {r} [km]') if verbose else None\n",
        "    print(f'r = {r * 6.6845871226706E-9} [AU]\\n') if verbose else None\n",
        "    cosTheta_sinTheta_0_vector = np.matrix([\n",
        "        [cos(θ)],\n",
        "        [sin(θ)],\n",
        "        [0]\n",
        "    ])\n",
        "    x_y_z_vector_perifocal = r * cosTheta_sinTheta_0_vector\n",
        "    print(f'x_y_z_vector [km]= \\n{x_y_z_vector_perifocal}\\n') if verbose else None\n",
        "    print(f'x_y_z_vector [AU]= \\n{x_y_z_vector_perifocal * 6.6845871226706E-9}\\n') if verbose else None\n",
        "\n",
        "    # Calculating state velocity vector\n",
        "    minuSinusTheta_ePlusCosTheta_vector = np.matrix([\n",
        "        [-sin(θ)],\n",
        "        [current_body_params['e'] + cos(θ)],\n",
        "        [0]\n",
        "    ])\n",
        "\n",
        "    Vx_Vy_Vz_vector_perifocal = np.sqrt(μ_Sun/p) * minuSinusTheta_ePlusCosTheta_vector\n",
        "    print(f'Vx_Vy_Vz_vector [km/s] = \\n{Vx_Vy_Vz_vector_perifocal}\\n') if verbose else None\n",
        "    print(f'Vx_Vy_Vz_vector [AU/s] = \\n{Vx_Vy_Vz_vector_perifocal * 6.6845871226706E-9}\\n') if verbose else None\n",
        "\n",
        "    # Convert state vector in perifocal to geocentric equiatorial coordinate system using transformation matrix 𝑇_{𝑃→𝐺𝐸}\n",
        "    # Calculate transformation Matrix from Perifocal to Geocentric Equiatorial coordinate system\n",
        "    Transform_P_GE = create_transform_p_ge(\n",
        "        ω=current_body_params['lower_omega'],\n",
        "        Ω=current_body_params['raan'],\n",
        "        i=current_body_params['i']\n",
        "    )\n",
        "    print(f'Transform_P_GE_BODY_{i}:\\n {Transform_P_GE}\\n') if verbose else None\n",
        "\n",
        "    # Finish\n",
        "    final_body_coordinates_ge = Transform_P_GE * x_y_z_vector_perifocal\n",
        "    print(f'Final body no. {i} coordinates [km] = \\n {final_body_coordinates_ge}\\n') if verbose else None\n",
        "    print(f'Final body no. {i} coordinates [AU] = \\n {final_body_coordinates_ge * 6.6845871226706E-9}\\n') if verbose else None\n",
        "\n",
        "    final_body_velocity_ge = Transform_P_GE * Vx_Vy_Vz_vector_perifocal\n",
        "    print(f'Final body no. {i} velocity [km/s] = \\n {final_body_velocity_ge}') if verbose else None\n",
        "    print(f'Final body no. {i} velocity [AU/s] = \\n {final_body_velocity_ge * 6.6845871226706E-9}') if verbose else None\n",
        "\n",
        "    result[i] = {\n",
        "        'n': n,\n",
        "        'M': M,\n",
        "        'E': E,\n",
        "        'θ': θ,\n",
        "        'p': p,\n",
        "        'r': r,\n",
        "        'x_y_z_vector_perifocal': x_y_z_vector_perifocal,\n",
        "        'Vx_Vy_Vz_vector_perifocal': Vx_Vy_Vz_vector_perifocal,\n",
        "        'final_body_coordinates_ge': final_body_coordinates_ge,\n",
        "        'final_body_velocity_ge': final_body_velocity_ge,\n",
        "      }\n",
        "    print()\n",
        "\n",
        "\n",
        "  plot_data(BODY_1_PARAMS, BODY_2_PARAMS, result, time_in_JDT)\n",
        "\n",
        "\n",
        "  return result"
      ]
    },
    {
      "cell_type": "code",
      "source": [
        "def program_init():\n",
        "  decision = int(input(f\"\"\"{'*'*70}\\n??? Do you want to enter your own parameters of BODY_1 and BODY_2 ???\n",
        "{'*'*70}\\n\n",
        "if YES type 1\\n\\n\n",
        "if NO type 0 \\n(Default values will be selected ->\\n-> BODY_1 = EARTH and BODY_2 = LV2021 asteroid on 27.5.2021 13:20 UTC)\\n\\nConfirm by pressing ENTER key.\n",
        "\\n\\n\"\"\"))\n",
        "\n",
        "  if decision == 1:\n",
        "    BODY0_PARAMS = {\n",
        "        'a':           float(input(\"Enter semi-major axis of body no. 1 (in AU): \")) * 149597870.691, # semi-major axis [km]\n",
        "        'e':           float(input(\"Enter eccentricity of body no. 1 orbit: \")), # eccentricity\n",
        "        'i':           np.deg2rad(float(input(\"Enter inclination of body no. 1 orbit (in °): \"))), # inclination [rad]\n",
        "        'raan':        np.deg2rad(float(input(\"Enter RAAN of body no. 1 orbit (in °): \"))), # longitude of ascending node Ω [rad]\n",
        "        'lower_omega': np.deg2rad(float(input(\"Enter argument of perihel of body no. 1 orbit (in °): \"))), # argument of perihel ω [rad]\n",
        "        'T0':          float(input(\"Enter time of passage through perihel of body no. 1 (in JDT): \")), # time of passage through perighel [JDT]\n",
        "    }\n",
        "\n",
        "    BODY1_PARAMS = {\n",
        "        'a':           float(input(\"Enter semi-major axis of body no. 2 (in AU): \")) * 149597870.691, # semi-major axis [km]\n",
        "        'e':           float(input(\"Enter eccentricity of body no. 2 orbit: \")), # eccentricity\n",
        "        'i':           np.deg2rad(float(input(\"Enter inclination of body no. 2 orbit (in °): \"))), # inclination [rad]\n",
        "        'raan':        np.deg2rad(float(input(\"Enter RAAN of body no. 2 orbit (in °): \"))), # longitude of ascending node Ω [rad]\n",
        "        'lower_omega': np.deg2rad(float(input(\"Enter argument of perihel of body no. 2 orbit (in °): \"))), # argument of perihel ω [rad]\n",
        "        'T0':          float(input(\"Enter time of passage through perihel of body no. 2 (in JDT): \")), # time of passage through perighel [JDT]\n",
        "    }\n",
        "    TIME_OF_CALCULATION_IN_JDT = float(input(\"Enter time of calculation (in JDT): \"))\n",
        "\n",
        "  elif decision == 0:\n",
        "    May_27_2021_1320_JDT = 2459362.0555\n",
        "\n",
        "    BODY0_PARAMS = EARTH_PARAMS\n",
        "    BODY1_PARAMS = LV2021_PARAMS\n",
        "    TIME_OF_CALCULATION_IN_JDT = May_27_2021_1320_JDT\n",
        "  else:\n",
        "    print('Wrong input!!!')\n",
        "\n",
        "  return BODY0_PARAMS, BODY1_PARAMS, TIME_OF_CALCULATION_IN_JDT"
      ],
      "metadata": {
        "id": "ZPxDvQq5EHF3"
      },
      "execution_count": null,
      "outputs": []
    },
    {
      "cell_type": "code",
      "source": [
        "BODY_1_PARAMS, BODY_2_PARAMS, TIME_OF_CALCULATION_IN_JDT = program_init()\n",
        "\n",
        "result = calculate_positions_velocities_of_two_bodies_orbiting_sun(\n",
        "    BODY_1_PARAMS=BODY_1_PARAMS,\n",
        "    BODY_2_PARAMS=BODY_2_PARAMS,\n",
        "    time_in_JDT=TIME_OF_CALCULATION_IN_JDT,\n",
        "    verbose=False,\n",
        ")\n",
        "\n",
        "\n",
        "# Distance calculation\n",
        "d = np.sqrt(np.power((result[0]['final_body_coordinates_ge'][0] - result[1]['final_body_coordinates_ge'][0]), 2) + np.power((result[0]['final_body_coordinates_ge'][1] - result[1]['final_body_coordinates_ge'][1]), 2) + np.power((result[0]['final_body_coordinates_ge'][2] - result[1]['final_body_coordinates_ge'][2]), 2))\n",
        "print(f'Distance between bodies = {d[0, 0]:.10f} [km]')  # Format with 5 decimal places\n",
        "print(f'Distance between bodies = {(d * 6.6845871226706E-9)[0, 0]:.10f} [AU]')  # Format with 5 decimal places\n",
        "\n",
        "# Velocity calculation\n",
        "d = np.sqrt(np.power((result[0]['final_body_velocity_ge'][0] - result[1]['final_body_velocity_ge'][0]), 2) + np.power((result[0]['final_body_velocity_ge'][1] - result[1]['final_body_velocity_ge'][1]), 2) + np.power((result[0]['final_body_velocity_ge'][2] - result[1]['final_body_velocity_ge'][2]), 2))\n",
        "print(f'Velocity between bodies = {d[0, 0]:.10f} [km/s]/n')  # Format with 5 decimal places\n"
      ],
      "metadata": {
        "colab": {
          "base_uri": "https://localhost:8080/",
          "height": 966
        },
        "id": "i7YF2VxMDBz4",
        "outputId": "95e3ec91-5910-4ebe-cb9f-089c966898ce"
      },
      "execution_count": null,
      "outputs": [
        {
          "output_type": "stream",
          "name": "stdout",
          "text": [
            "**********************************************************************\n",
            "??? Do you want to enter your own parameters of BODY_1 and BODY_2 ???\n",
            "**********************************************************************\n",
            "\n",
            "if YES type 1\n",
            "\n",
            "\n",
            "if NO type 0 \n",
            "(Default values will be selected ->\n",
            "-> BODY_1 = EARTH and BODY_2 = LV2021 asteroid on 27.5.2021 13:20 UTC)\n",
            "\n",
            "Confirm by pressing ENTER key.\n",
            "\n",
            "\n",
            "0\n",
            "\n",
            "\n"
          ]
        },
        {
          "output_type": "display_data",
          "data": {
            "text/plain": [
              "<IPython.core.display.HTML object>"
            ],
            "text/html": [
              "<table><tr><td><table border=\"1\" class=\"dataframe\">\n",
              "  <thead>\n",
              "    <tr style=\"text-align: right;\">\n",
              "      <th></th>\n",
              "      <th>Time of the calculation</th>\n",
              "    </tr>\n",
              "  </thead>\n",
              "  <tbody>\n",
              "    <tr>\n",
              "      <th>time_in_JDT</th>\n",
              "      <td>2459362.0554999998</td>\n",
              "    </tr>\n",
              "  </tbody>\n",
              "</table></td><td><table border=\"1\" class=\"dataframe\">\n",
              "  <thead>\n",
              "    <tr style=\"text-align: right;\">\n",
              "      <th></th>\n",
              "      <th>body_0_given_values</th>\n",
              "    </tr>\n",
              "  </thead>\n",
              "  <tbody>\n",
              "    <tr>\n",
              "      <th>a [km]</th>\n",
              "      <td>149597870.6910000145</td>\n",
              "    </tr>\n",
              "    <tr>\n",
              "      <th>e</th>\n",
              "      <td>0.0167000000</td>\n",
              "    </tr>\n",
              "    <tr>\n",
              "      <th>i [rad]</th>\n",
              "      <td>0.0000000000</td>\n",
              "    </tr>\n",
              "    <tr>\n",
              "      <th>raan [rad]</th>\n",
              "      <td>-0.1965352439</td>\n",
              "    </tr>\n",
              "    <tr>\n",
              "      <th>lower_omega [rad]</th>\n",
              "      <td>1.9933026651</td>\n",
              "    </tr>\n",
              "    <tr>\n",
              "      <th>T0 [JDT]</th>\n",
              "      <td>2451547.5191000002</td>\n",
              "    </tr>\n",
              "  </tbody>\n",
              "</table></td><td><table border=\"1\" class=\"dataframe\">\n",
              "  <thead>\n",
              "    <tr style=\"text-align: right;\">\n",
              "      <th></th>\n",
              "      <th>body_1_given_values</th>\n",
              "    </tr>\n",
              "  </thead>\n",
              "  <tbody>\n",
              "    <tr>\n",
              "      <th>a [km]</th>\n",
              "      <td>196227526.9853847325</td>\n",
              "    </tr>\n",
              "    <tr>\n",
              "      <th>e</th>\n",
              "      <td>0.4316000000</td>\n",
              "    </tr>\n",
              "    <tr>\n",
              "      <th>i [rad]</th>\n",
              "      <td>0.2875115783</td>\n",
              "    </tr>\n",
              "    <tr>\n",
              "      <th>raan [rad]</th>\n",
              "      <td>4.3019084843</td>\n",
              "    </tr>\n",
              "    <tr>\n",
              "      <th>lower_omega [rad]</th>\n",
              "      <td>4.8290886755</td>\n",
              "    </tr>\n",
              "    <tr>\n",
              "      <th>T0 [JDT]</th>\n",
              "      <td>2459305.2444799999</td>\n",
              "    </tr>\n",
              "  </tbody>\n",
              "</table></td><td><table border=\"1\" class=\"dataframe\">\n",
              "  <thead>\n",
              "    <tr style=\"text-align: right;\">\n",
              "      <th></th>\n",
              "      <th>body_0_calculated_values</th>\n",
              "    </tr>\n",
              "  </thead>\n",
              "  <tbody>\n",
              "    <tr>\n",
              "      <th>n [rad/s]</th>\n",
              "      <td>0.0000001991</td>\n",
              "    </tr>\n",
              "    <tr>\n",
              "      <th>M [rad]</th>\n",
              "      <td>134.4264284012</td>\n",
              "    </tr>\n",
              "    <tr>\n",
              "      <th>E [rad]</th>\n",
              "      <td>134.4365605681</td>\n",
              "    </tr>\n",
              "    <tr>\n",
              "      <th>θ [rad]</th>\n",
              "      <td>2.4997350870</td>\n",
              "    </tr>\n",
              "    <tr>\n",
              "      <th>p [km]</th>\n",
              "      <td>149556149.3408429921</td>\n",
              "    </tr>\n",
              "    <tr>\n",
              "      <th>r [km]</th>\n",
              "      <td>151583802.5327854455</td>\n",
              "    </tr>\n",
              "    <tr>\n",
              "      <th>x_p</th>\n",
              "      <td>-121416358.7989490032</td>\n",
              "    </tr>\n",
              "    <tr>\n",
              "      <th>y_p</th>\n",
              "      <td>90750851.2704061121</td>\n",
              "    </tr>\n",
              "    <tr>\n",
              "      <th>z_p</th>\n",
              "      <td>0.0000000000</td>\n",
              "    </tr>\n",
              "    <tr>\n",
              "      <th>Vx_p</th>\n",
              "      <td>-17.8341161141</td>\n",
              "    </tr>\n",
              "    <tr>\n",
              "      <th>Vy_p</th>\n",
              "      <td>-23.3629464290</td>\n",
              "    </tr>\n",
              "    <tr>\n",
              "      <th>Vz_p</th>\n",
              "      <td>0.0000000000</td>\n",
              "    </tr>\n",
              "    <tr>\n",
              "      <th>x_ge</th>\n",
              "      <td>-61240007.3606151193</td>\n",
              "    </tr>\n",
              "    <tr>\n",
              "      <th>y_ge</th>\n",
              "      <td>-138662578.5450793505</td>\n",
              "    </tr>\n",
              "    <tr>\n",
              "      <th>z_ge</th>\n",
              "      <td>0.0000000000</td>\n",
              "    </tr>\n",
              "    <tr>\n",
              "      <th>Vx_ge</th>\n",
              "      <td>26.7647749798</td>\n",
              "    </tr>\n",
              "    <tr>\n",
              "      <th>Vy_ge</th>\n",
              "      <td>-12.1461839150</td>\n",
              "    </tr>\n",
              "    <tr>\n",
              "      <th>Vz_ge</th>\n",
              "      <td>0.0000000000</td>\n",
              "    </tr>\n",
              "  </tbody>\n",
              "</table></td><td><table border=\"1\" class=\"dataframe\">\n",
              "  <thead>\n",
              "    <tr style=\"text-align: right;\">\n",
              "      <th></th>\n",
              "      <th>body_1_calculated_values</th>\n",
              "    </tr>\n",
              "  </thead>\n",
              "  <tbody>\n",
              "    <tr>\n",
              "      <th>n [rad/s]</th>\n",
              "      <td>0.0000001325</td>\n",
              "    </tr>\n",
              "    <tr>\n",
              "      <th>M [rad]</th>\n",
              "      <td>0.6505223923</td>\n",
              "    </tr>\n",
              "    <tr>\n",
              "      <th>E [rad]</th>\n",
              "      <td>1.0177925442</td>\n",
              "    </tr>\n",
              "    <tr>\n",
              "      <th>θ [rad]</th>\n",
              "      <td>1.4494002464</td>\n",
              "    </tr>\n",
              "    <tr>\n",
              "      <th>p [km]</th>\n",
              "      <td>159674545.8261861205</td>\n",
              "    </tr>\n",
              "    <tr>\n",
              "      <th>r [km]</th>\n",
              "      <td>151743525.7997711897</td>\n",
              "    </tr>\n",
              "    <tr>\n",
              "      <th>x_p</th>\n",
              "      <td>18375857.3364572041</td>\n",
              "    </tr>\n",
              "    <tr>\n",
              "      <th>y_p</th>\n",
              "      <td>150626775.4726761580</td>\n",
              "    </tr>\n",
              "    <tr>\n",
              "      <th>z_p</th>\n",
              "      <td>0.0000000000</td>\n",
              "    </tr>\n",
              "    <tr>\n",
              "      <th>Vx_p</th>\n",
              "      <td>-28.6173872597</td>\n",
              "    </tr>\n",
              "    <tr>\n",
              "      <th>Vy_p</th>\n",
              "      <td>15.9340423861</td>\n",
              "    </tr>\n",
              "    <tr>\n",
              "      <th>Vz_p</th>\n",
              "      <td>0.0000000000</td>\n",
              "    </tr>\n",
              "    <tr>\n",
              "      <th>x_ge</th>\n",
              "      <td>-61179200.6800383031</td>\n",
              "    </tr>\n",
              "    <tr>\n",
              "      <th>y_ge</th>\n",
              "      <td>-138863826.0640517473</td>\n",
              "    </tr>\n",
              "    <tr>\n",
              "      <th>z_ge</th>\n",
              "      <td>-202082.0382940962</td>\n",
              "    </tr>\n",
              "    <tr>\n",
              "      <th>Vx_ge</th>\n",
              "      <td>21.6376368025</td>\n",
              "    </tr>\n",
              "    <tr>\n",
              "      <th>Vy_ge</th>\n",
              "      <td>-23.0422339541</td>\n",
              "    </tr>\n",
              "    <tr>\n",
              "      <th>Vz_ge</th>\n",
              "      <td>8.5858423199</td>\n",
              "    </tr>\n",
              "  </tbody>\n",
              "</table></td></tr></table>"
            ]
          },
          "metadata": {}
        },
        {
          "output_type": "stream",
          "name": "stdout",
          "text": [
            "Distance between bodies = 291607.8985494268 [km]\n",
            "Distance between bodies = 0.0019492784 [AU]\n",
            "Velocity between bodies = 14.7894604596 [km/s]/n\n"
          ]
        }
      ]
    },
    {
      "cell_type": "code",
      "source": [
        "orbit1, orbit2 = plot_orbits_2d(bodies_params=[BODY_1_PARAMS, BODY_2_PARAMS], result=result, time_in_JDT=TIME_OF_CALCULATION_IN_JDT)"
      ],
      "metadata": {
        "colab": {
          "base_uri": "https://localhost:8080/",
          "height": 559
        },
        "id": "FM0dwk1AKoig",
        "outputId": "aff3f7ce-0634-4a2d-afde-b74d00705021"
      },
      "execution_count": null,
      "outputs": [
        {
          "output_type": "display_data",
          "data": {
            "text/plain": [
              "<Figure size 1400x600 with 1 Axes>"
            ],
            "image/png": "[encoded data removed]"
          },
          "metadata": {}
        }
      ]
    },
    {
      "cell_type": "code",
      "execution_count": null,
      "metadata": {
        "id": "kXS-STVySThi",
        "colab": {
          "base_uri": "https://localhost:8080/",
          "height": 542
        },
        "outputId": "5d6a0237-fae6-406e-fa17-d0f8dee4833e"
      },
      "outputs": [
        {
          "output_type": "display_data",
          "data": {
            "text/html": [
              "<html>\n",
              "<head><meta charset=\"utf-8\" /></head>\n",
              "<body>\n",
              "    <div>            <script src=\"https://cdnjs.cloudflare.com/ajax/libs/mathjax/2.7.5/MathJax.js?config=TeX-AMS-MML_SVG\"></script><script type=\"text/javascript\">if (window.MathJax && window.MathJax.Hub && window.MathJax.Hub.Config) {window.MathJax.Hub.Config({SVG: {font: \"STIX-Web\"}});}</script>                <script type=\"text/javascript\">window.PlotlyConfig = {MathJaxConfig: 'local'};</script>\n",
              "        <script charset=\"utf-8\" src=\"https://cdn.plot.ly/plotly-2.35.2.min.js\"></script>                <div id=\"7cd0ff20-e998-4e15-8faa-ace55b6d168e\" class=\"plotly-graph-div\" style=\"height:525px; width:100%;\"></div>            <script type=\"text/javascript\">                                    window.PLOTLYENV=window.PLOTLYENV || {};                                    if (document.getElementById(\"7cd0ff20-e998-4e15-8faa-ace55b6d168e\")) {                    Plotly.newPlot(                        \"7cd0ff20-e998-4e15-8faa-ace55b6d168e\",                        [{\"cauto\":false,\"cmax\":1,\"cmin\":1,\"colorscale\":[[0,\"#ffcc00\"],[1,\"#ffcc00\"]],\"name\":\"Sun\",\"showscale\":false,\"x\":[[0.0,0.0,0.0,0.0,0.0,0.0,0.0,0.0,0.0,0.0,0.0,0.0,0.0,0.0,0.0,0.0,0.0,0.0,0.0,0.0],[7164473.811447242,6776282.858579463,5653776.513122599,3918595.755087434,1758774.343710625,-591637.5580029789,-2877936.3501043776,-4852366.0828884505,-6300966.658374158,-7066759.726853772,-7066759.726853773,-6300966.658374159,-4852366.082888454,-2877936.350104382,-591637.5580029823,1758774.3437106218,3918595.755087431,5653776.513122598,6776282.858579463,7164473.811447242],[13552565.71715893,12818250.324569842,10694878.613666898,7412550.856833226,3326958.1970844553,-1119162.0063937537,-5444003.640891429,-9178903.008478535,-11919125.809742223,-13367726.385227932,-13367726.385227934,-11919125.809742225,-9178903.008478543,-5444003.640891437,-1119162.0063937602,3326958.1970844488,7412550.85683322,10694878.613666896,12818250.324569842,13552565.71715893],[18472026.83769244,17471161.47224636,14577024.668280466,10103241.055663921,4534614.506728847,-1525407.8858039973,-7420128.664767911,-12510763.367745202,-16245662.735332308,-18220092.46811638,-18220092.468116384,-16245662.735332312,-12510763.367745211,-7420128.664767922,-1525407.8858040061,4534614.506728838,10103241.055663913,14577024.668280464,17471161.47224636,18472026.83769244],[21389757.227333795,20230801.181403063,16879523.91424338,11699088.31817609,5250874.972775469,-1766352.1516453132,-8592167.612657769,-14486888.391621683,-18811730.02611936,-21098028.81822076,-21098028.818220764,-18811730.026119363,-14486888.391621694,-8592167.61265778,-1766352.1516453235,5250874.972775458,11699088.318176081,16879523.914243378,20230801.181403063,21389757.227333795],[21989575.52511369,20798119.669330813,17352864.831298687,12027157.831354935,5398121.659801931,-1815884.7540783056,-8833111.878499085,-14893134.271031927,-19339254.474510137,-21689666.37622374,-21689666.376223743,-19339254.47451014,-14893134.271031938,-8833111.878499096,-1815884.754078316,5398121.659801921,12027157.831354925,17352864.831298683,20798119.669330813,21989575.52511369],[20206482.11132784,19111639.17500931,15945753.586442364,11051898.172924532,4960398.10450116,-1668638.0670518435,-8116851.412452464,-13685477.961387537,-17771070.621136308,-19930892.03251312,-19930892.032513123,-17771070.62113631,-13685477.961387549,-8116851.412452475,-1668638.067051853,4960398.104501151,11051898.172924524,15945753.586442363,19111639.17500931,20206482.11132784],[16233702.824904937,15354116.028439388,12810672.516635155,8878993.859588595,3985138.446070757,-1340568.553873001,-6521004.149940296,-10994787.762556845,-14277115.51939052,-16012296.277425688,-16012296.27742569,-14277115.519390523,-10994787.762556855,-6521004.149940305,-1340568.5538730088,3985138.44607075,8878993.85958859,12810672.516635153,15354116.028439388,16233702.824904937],[10501749.945550935,9932736.166530775,8287356.301585614,5743912.789781382,2578027.201214433,-867227.6368176972,-4218504.90397738,-7112641.7079432765,-9236013.418846222,-10358519.764303088,-10358519.76430309,-9236013.418846224,-7112641.707943282,-4218504.903977387,-867227.6368177022,2578027.2012144285,5743912.789781378,8287356.301585612,9932736.166530775,10501749.945550935],[3631769.508156617,3434990.218697162,2865976.4396770024,1986389.6432114544,891546.706892928,-299909.1488899475,-1458865.1948206776,-2459730.560266758,-3194045.952855845,-3582236.9057236244,-3582236.905723625,-3194045.952855846,-2459730.5602667592,-1458865.1948206797,-299909.14888994925,891546.7068929264,1986389.643211453,2865976.439677002,3434990.218697162,3631769.508156617],[-3631769.5081566116,-3434990.2186971568,-2865976.439676998,-1986389.6432114514,-891546.7068929267,299909.14888994704,1458865.1948206755,2459730.5602667537,3194045.9528558403,3582236.905723619,3582236.9057236193,3194045.952855841,2459730.5602667555,1458865.1948206776,299909.1488899488,-891546.706892925,-1986389.64321145,-2865976.4396769977,-3434990.2186971568,-3631769.5081566116],[-10501749.945550932,-9932736.166530771,-8287356.301585611,-5743912.78978138,-2578027.2012144323,867227.636817697,4218504.903977378,7112641.707943274,9236013.418846218,10358519.764303084,10358519.764303086,9236013.41884622,7112641.707943279,4218504.903977385,867227.636817702,-2578027.2012144276,-5743912.789781376,-8287356.301585609,-9932736.166530771,-10501749.945550932],[-16233702.824904924,-15354116.028439375,-12810672.516635146,-8878993.85958859,-3985138.4460707544,1340568.553873,6521004.1499402905,10994787.762556838,14277115.51939051,16012296.277425675,16012296.277425678,14277115.519390512,10994787.762556845,6521004.149940301,1340568.5538730077,-3985138.446070747,-8878993.859588582,-12810672.516635142,-15354116.028439375,-16233702.824904924],[-20206482.111327834,-19111639.175009307,-15945753.58644236,-11051898.17292453,-4960398.104501159,1668638.067051843,8116851.412452461,13685477.961387534,17771070.621136304,19930892.03251311,19930892.032513116,17771070.621136308,13685477.961387545,8116851.412452473,1668638.0670518526,-4960398.10450115,-11051898.17292452,-15945753.586442357,-19111639.175009307,-20206482.111327834],[-21989575.52511369,-20798119.669330813,-17352864.831298687,-12027157.831354935,-5398121.659801931,1815884.7540783056,8833111.878499085,14893134.271031927,19339254.474510137,21689666.37622374,21689666.376223743,19339254.47451014,14893134.271031938,8833111.878499096,1815884.754078316,-5398121.659801921,-12027157.831354925,-17352864.831298683,-20798119.669330813,-21989575.52511369],[-21389757.2273338,-20230801.181403067,-16879523.914243385,-11699088.318176093,-5250874.972775469,1766352.1516453135,8592167.612657769,14486888.391621685,18811730.026119363,21098028.818220764,21098028.818220768,18811730.026119366,14486888.391621696,8592167.612657782,1766352.1516453237,-5250874.972775459,-11699088.318176083,-16879523.91424338,-20230801.181403067,-21389757.2273338],[-18472026.837692447,-17471161.472246364,-14577024.668280471,-10103241.055663925,-4534614.5067288475,1525407.8858039977,7420128.664767913,12510763.367745204,16245662.735332312,18220092.468116388,18220092.46811639,16245662.735332316,12510763.367745215,7420128.664767924,1525407.8858040066,-4534614.506728839,-10103241.055663915,-14577024.668280467,-17471161.472246364,-18472026.837692447],[-13552565.717158934,-12818250.324569846,-10694878.613666901,-7412550.856833229,-3326958.197084456,1119162.0063937542,5444003.640891432,9178903.008478539,11919125.809742227,13367726.385227935,13367726.385227937,11919125.809742229,9178903.008478547,5444003.640891439,1119162.0063937604,-3326958.19708445,-7412550.856833223,-10694878.6136669,-12818250.324569846,-13552565.717158934],[-7164473.811447249,-6776282.858579469,-5653776.513122603,-3918595.755087437,-1758774.3437106265,591637.5580029795,2877936.35010438,4852366.082888455,6300966.658374163,7066759.726853778,7066759.726853779,6300966.658374164,4852366.082888459,2877936.350104384,591637.5580029829,-1758774.3437106232,-3918595.7550874343,-5653776.513122602,-6776282.858579469,-7164473.811447249],[-5.4043512557964775e-9,-5.111528597938785e-9,-4.264792502956271e-9,-2.955899965204509e-9,-1.3266898007091885e-9,4.4628778940625e-10,2.170903172670974e-9,3.6602675121433847e-9,4.752985071772827e-9,5.330642948713552e-9,5.330642948713553e-9,4.752985071772828e-9,3.6602675121433876e-9,2.1709031726709772e-9,4.462877894062526e-10,-1.326689800709186e-9,-2.9558999652045066e-9,-4.26479250295627e-9,-5.111528597938785e-9,-5.4043512557964775e-9]],\"y\":[[0.0,0.0,0.0,0.0,0.0,0.0,0.0,0.0,0.0,0.0,0.0,0.0,0.0,0.0,0.0,0.0,0.0,0.0,0.0,0.0],[0.0,2326300.8437077748,4400510.894723095,5997857.309333403,6945242.818132325,7140003.501040714,6561034.016042081,5271074.690473204,3409912.633040702,1179233.631572208,-1179233.631572206,-3409912.633040701,-5271074.690473199,-6561034.016042079,-7140003.501040714,-6945242.818132326,-5997857.309333405,-4400510.894723096,-2326300.843707777,-1.7547899841527807e-9],[0.0,4400510.894723094,8324158.15304118,11345753.71285542,13137860.810374118,13506276.834174406,12411078.191513918,9970946.649082785,6450308.322045411,2230679.0014684964,-2230679.001468493,-6450308.322045409,-9970946.649082776,-12411078.191513915,-13506276.834174406,-13137860.81037412,-11345753.712855425,-8324158.153041182,-4400510.894723099,-3.3194212451505673e-9],[0.0,5997857.309333403,11345753.712855421,15464161.654081892,17906787.7288975,18408935.50084732,16916189.46721511,13590311.823086128,8791713.017510578,3040395.6890047104,-3040395.6890047058,-8791713.017510574,-13590311.823086116,-16916189.467215106,-18408935.50084732,-17906787.728897505,-15464161.654081898,-11345753.712855425,-5997857.309333408,-4.5243417081088104e-9],[0.0,6945242.818132324,13137860.810374118,17906787.728897497,20735236.344555095,21316700.3619382,19588169.132419527,15736955.835642904,10180399.190045426,3520638.327037376,-3520638.3270373703,-10180399.190045422,-15736955.835642893,-19588169.132419523,-21316700.3619382,-20735236.3445551,-17906787.728897505,-13137860.810374122,-6945242.818132331,-5.238979544598659e-9],[0.0,7140003.501040714,13506276.834174408,18408935.500847317,21316700.3619382,21914469.976127304,20137466.730366,16178256.49937883,10465881.145169701,3619365.174003345,-3619365.1740033394,-10465881.145169698,-16178256.499378817,-20137466.730365995,-21914469.976127304,-21316700.361938205,-18408935.500847325,-13506276.834174411,-7140003.50104072,-5.385892656287892e-9],[0.0,6561034.016042081,12411078.191513918,16916189.467215106,19588169.13241953,20137466.730366,18504557.343086604,14866392.039892798,9617222.483336749,3325877.644128987,-3325877.644128982,-9617222.483336745,-14866392.039892787,-18504557.3430866,-20137466.730366,-19588169.132419534,-16916189.467215113,-12411078.191513922,-6561034.016042086,-4.949160727933178e-9],[0.0,5271074.690473203,9970946.649082785,13590311.823086126,15736955.835642904,16178256.49937883,14866392.039892798,11943523.327044528,7726388.5388520835,2671979.665204423,-2671979.665204419,-7726388.538852081,-11943523.327044519,-14866392.039892795,-16178256.49937883,-15736955.835642908,-13590311.823086131,-9970946.649082787,-5271074.690473208,-3.9761104405658355e-9],[0.0,3409912.633040702,6450308.322045412,8791713.017510576,10180399.190045426,10465881.145169701,9617222.483336749,7726388.5388520835,4998280.508912198,1728531.229518677,-1728531.2295186745,-4998280.508912196,-7726388.538852077,-9617222.483336747,-10465881.145169701,-10180399.190045428,-8791713.01751058,-6450308.322045414,-3409912.6330407048,-2.572186891252969e-9],[0.0,1179233.6315722077,2230679.0014684964,3040395.6890047104,3520638.3270373754,3619365.174003345,3325877.644128987,2671979.665204423,1728531.229518677,597769.6141891014,-597769.6141891005,-1728531.2295186764,-2671979.6652044207,-3325877.6441289866,-3619365.174003345,-3520638.3270373764,-3040395.6890047113,-2230679.0014684973,-1179233.6315722088,-8.895269806809917e-10],[0.0,-1179233.631572206,-2230679.001468493,-3040395.6890047058,-3520638.3270373703,-3619365.1740033394,-3325877.644128982,-2671979.665204419,-1728531.2295186745,-597769.6141891005,597769.6141890995,1728531.2295186738,2671979.6652044165,3325877.6441289815,3619365.1740033394,3520638.3270373708,3040395.6890047067,2230679.0014684936,1179233.631572207,8.895269806809903e-10],[0.0,-3409912.6330407006,-6450308.322045409,-8791713.017510574,-10180399.190045422,-10465881.145169698,-9617222.483336745,-7726388.538852081,-4998280.508912196,-1728531.2295186766,1728531.2295186738,4998280.5089121945,7726388.538852074,9617222.483336743,10465881.145169698,10180399.190045424,8791713.017510578,6450308.322045411,3409912.633040704,2.5721868912529677e-9],[0.0,-5271074.690473199,-9970946.649082778,-13590311.823086116,-15736955.835642893,-16178256.499378819,-14866392.039892787,-11943523.327044519,-7726388.538852077,-2671979.6652044207,2671979.665204417,7726388.538852074,11943523.32704451,14866392.039892783,16178256.499378819,15736955.835642895,13590311.82308612,9970946.64908278,5271074.690473204,3.976110440565832e-9],[0.0,-6561034.016042079,-12411078.191513916,-16916189.467215102,-19588169.132419523,-20137466.73036599,-18504557.3430866,-14866392.039892795,-9617222.483336747,-3325877.6441289866,3325877.6441289815,9617222.483336743,14866392.039892783,18504557.343086597,20137466.73036599,19588169.132419527,16916189.46721511,12411078.191513918,6561034.016042084,4.949160727933176e-9],[0.0,-7140003.501040714,-13506276.834174408,-18408935.500847317,-21316700.3619382,-21914469.976127304,-20137466.730366,-16178256.49937883,-10465881.145169701,-3619365.174003345,3619365.1740033394,10465881.145169698,16178256.499378817,20137466.730365995,21914469.976127304,21316700.361938205,18408935.500847325,13506276.834174411,7140003.50104072,5.385892656287892e-9],[0.0,-6945242.818132325,-13137860.81037412,-17906787.7288975,-20735236.3445551,-21316700.361938205,-19588169.13241953,-15736955.835642906,-10180399.190045426,-3520638.3270373764,3520638.3270373708,10180399.190045422,15736955.835642895,19588169.132419527,21316700.361938205,20735236.344555102,17906787.72889751,13137860.810374124,6945242.818132332,5.23897954459866e-9],[0.0,-5997857.3093334045,-11345753.712855425,-15464161.654081896,-17906787.728897505,-18408935.500847325,-16916189.467215113,-13590311.823086131,-8791713.01751058,-3040395.6890047113,3040395.6890047067,8791713.017510576,13590311.82308612,16916189.46721511,18408935.500847325,17906787.72889751,15464161.654081902,11345753.712855427,5997857.30933341,4.524341708108812e-9],[0.0,-4400510.894723096,-8324158.153041183,-11345753.712855423,-13137860.810374122,-13506276.834174411,-12411078.191513922,-9970946.64908279,-6450308.322045414,-2230679.0014684973,2230679.001468494,6450308.322045411,9970946.64908278,12411078.19151392,13506276.834174411,13137860.810374126,11345753.712855428,8324158.153041185,4400510.8947231,3.3194212451505685e-9],[0.0,-2326300.843707777,-4400510.894723099,-5997857.309333407,-6945242.818132331,-7140003.50104072,-6561034.016042086,-5271074.690473208,-3409912.633040705,-1179233.6315722088,1179233.6315722072,3409912.633040704,5271074.690473204,6561034.016042085,7140003.50104072,6945242.8181323325,5997857.30933341,4400510.8947231,2326300.843707779,1.7547899841527821e-9],[0.0,-1.7547899841527807e-9,-3.3194212451505673e-9,-4.5243417081088104e-9,-5.238979544598659e-9,-5.385892656287892e-9,-4.949160727933178e-9,-3.9761104405658355e-9,-2.572186891252969e-9,-8.895269806809917e-10,8.895269806809903e-10,2.5721868912529677e-9,3.976110440565832e-9,4.949160727933177e-9,5.385892656287892e-9,5.23897954459866e-9,4.524341708108812e-9,3.3194212451505685e-9,1.7547899841527821e-9,1.323684293375827e-24]],\"z\":[[22064938.47678856,22064938.47678856,22064938.47678856,22064938.47678856,22064938.47678856,22064938.47678856,22064938.47678856,22064938.47678856,22064938.47678856,22064938.47678856,22064938.47678856,22064938.47678856,22064938.47678856,22064938.47678856,22064938.47678856,22064938.47678856,22064938.47678856,22064938.47678856,22064938.47678856,22064938.47678856],[20869399.24841036,20869399.24841036,20869399.24841036,20869399.24841036,20869399.24841036,20869399.24841036,20869399.24841036,20869399.24841036,20869399.24841036,20869399.24841036,20869399.24841036,20869399.24841036,20869399.24841036,20869399.24841036,20869399.24841036,20869399.24841036,20869399.24841036,20869399.24841036,20869399.24841036,20869399.24841036],[17412336.78937301,17412336.78937301,17412336.78937301,17412336.78937301,17412336.78937301,17412336.78937301,17412336.78937301,17412336.78937301,17412336.78937301,17412336.78937301,17412336.78937301,17412336.78937301,17412336.78937301,17412336.78937301,17412336.78937301,17412336.78937301,17412336.78937301,17412336.78937301,17412336.78937301,17412336.78937301],[12068377.458964175,12068377.458964175,12068377.458964175,12068377.458964175,12068377.458964175,12068377.458964175,12068377.458964175,12068377.458964175,12068377.458964175,12068377.458964175,12068377.458964175,12068377.458964175,12068377.458964175,12068377.458964175,12068377.458964175,12068377.458964175,12068377.458964175,12068377.458964175,12068377.458964175,12068377.458964175],[5416622.170706205,5416622.170706205,5416622.170706205,5416622.170706205,5416622.170706205,5416622.170706205,5416622.170706205,5416622.170706205,5416622.170706205,5416622.170706205,5416622.170706205,5416622.170706205,5416622.170706205,5416622.170706205,5416622.170706205,5416622.170706205,5416622.170706205,5416622.170706205,5416622.170706205,5416622.170706205],[-1822108.1773004795,-1822108.1773004795,-1822108.1773004795,-1822108.1773004795,-1822108.1773004795,-1822108.1773004795,-1822108.1773004795,-1822108.1773004795,-1822108.1773004795,-1822108.1773004795,-1822108.1773004795,-1822108.1773004795,-1822108.1773004795,-1822108.1773004795,-1822108.1773004795,-1822108.1773004795,-1822108.1773004795,-1822108.1773004795,-1822108.1773004795,-1822108.1773004795],[-8863384.831375223,-8863384.831375223,-8863384.831375223,-8863384.831375223,-8863384.831375223,-8863384.831375223,-8863384.831375223,-8863384.831375223,-8863384.831375223,-8863384.831375223,-8863384.831375223,-8863384.831375223,-8863384.831375223,-8863384.831375223,-8863384.831375223,-8863384.831375223,-8863384.831375223,-8863384.831375223,-8863384.831375223,-8863384.831375223],[-14944176.209384639,-14944176.209384639,-14944176.209384639,-14944176.209384639,-14944176.209384639,-14944176.209384639,-14944176.209384639,-14944176.209384639,-14944176.209384639,-14944176.209384639,-14944176.209384639,-14944176.209384639,-14944176.209384639,-14944176.209384639,-14944176.209384639,-14944176.209384639,-14944176.209384639,-14944176.209384639,-14944176.209384639,-14944176.209384639],[-19405534.212321628,-19405534.212321628,-19405534.212321628,-19405534.212321628,-19405534.212321628,-19405534.212321628,-19405534.212321628,-19405534.212321628,-19405534.212321628,-19405534.212321628,-19405534.212321628,-19405534.212321628,-19405534.212321628,-19405534.212321628,-19405534.212321628,-19405534.212321628,-19405534.212321628,-19405534.212321628,-19405534.212321628,-19405534.212321628],[-21764001.475466043,-21764001.475466043,-21764001.475466043,-21764001.475466043,-21764001.475466043,-21764001.475466043,-21764001.475466043,-21764001.475466043,-21764001.475466043,-21764001.475466043,-21764001.475466043,-21764001.475466043,-21764001.475466043,-21764001.475466043,-21764001.475466043,-21764001.475466043,-21764001.475466043,-21764001.475466043,-21764001.475466043,-21764001.475466043],[-21764001.475466046,-21764001.475466046,-21764001.475466046,-21764001.475466046,-21764001.475466046,-21764001.475466046,-21764001.475466046,-21764001.475466046,-21764001.475466046,-21764001.475466046,-21764001.475466046,-21764001.475466046,-21764001.475466046,-21764001.475466046,-21764001.475466046,-21764001.475466046,-21764001.475466046,-21764001.475466046,-21764001.475466046,-21764001.475466046],[-19405534.21232163,-19405534.21232163,-19405534.21232163,-19405534.21232163,-19405534.21232163,-19405534.21232163,-19405534.21232163,-19405534.21232163,-19405534.21232163,-19405534.21232163,-19405534.21232163,-19405534.21232163,-19405534.21232163,-19405534.21232163,-19405534.21232163,-19405534.21232163,-19405534.21232163,-19405534.21232163,-19405534.21232163,-19405534.21232163],[-14944176.20938465,-14944176.20938465,-14944176.20938465,-14944176.20938465,-14944176.20938465,-14944176.20938465,-14944176.20938465,-14944176.20938465,-14944176.20938465,-14944176.20938465,-14944176.20938465,-14944176.20938465,-14944176.20938465,-14944176.20938465,-14944176.20938465,-14944176.20938465,-14944176.20938465,-14944176.20938465,-14944176.20938465,-14944176.20938465],[-8863384.831375236,-8863384.831375236,-8863384.831375236,-8863384.831375236,-8863384.831375236,-8863384.831375236,-8863384.831375236,-8863384.831375236,-8863384.831375236,-8863384.831375236,-8863384.831375236,-8863384.831375236,-8863384.831375236,-8863384.831375236,-8863384.831375236,-8863384.831375236,-8863384.831375236,-8863384.831375236,-8863384.831375236,-8863384.831375236],[-1822108.17730049,-1822108.17730049,-1822108.17730049,-1822108.17730049,-1822108.17730049,-1822108.17730049,-1822108.17730049,-1822108.17730049,-1822108.17730049,-1822108.17730049,-1822108.17730049,-1822108.17730049,-1822108.17730049,-1822108.17730049,-1822108.17730049,-1822108.17730049,-1822108.17730049,-1822108.17730049,-1822108.17730049,-1822108.17730049],[5416622.170706195,5416622.170706195,5416622.170706195,5416622.170706195,5416622.170706195,5416622.170706195,5416622.170706195,5416622.170706195,5416622.170706195,5416622.170706195,5416622.170706195,5416622.170706195,5416622.170706195,5416622.170706195,5416622.170706195,5416622.170706195,5416622.170706195,5416622.170706195,5416622.170706195,5416622.170706195],[12068377.458964165,12068377.458964165,12068377.458964165,12068377.458964165,12068377.458964165,12068377.458964165,12068377.458964165,12068377.458964165,12068377.458964165,12068377.458964165,12068377.458964165,12068377.458964165,12068377.458964165,12068377.458964165,12068377.458964165,12068377.458964165,12068377.458964165,12068377.458964165,12068377.458964165,12068377.458964165],[17412336.789373007,17412336.789373007,17412336.789373007,17412336.789373007,17412336.789373007,17412336.789373007,17412336.789373007,17412336.789373007,17412336.789373007,17412336.789373007,17412336.789373007,17412336.789373007,17412336.789373007,17412336.789373007,17412336.789373007,17412336.789373007,17412336.789373007,17412336.789373007,17412336.789373007,17412336.789373007],[20869399.24841036,20869399.24841036,20869399.24841036,20869399.24841036,20869399.24841036,20869399.24841036,20869399.24841036,20869399.24841036,20869399.24841036,20869399.24841036,20869399.24841036,20869399.24841036,20869399.24841036,20869399.24841036,20869399.24841036,20869399.24841036,20869399.24841036,20869399.24841036,20869399.24841036,20869399.24841036],[22064938.47678856,22064938.47678856,22064938.47678856,22064938.47678856,22064938.47678856,22064938.47678856,22064938.47678856,22064938.47678856,22064938.47678856,22064938.47678856,22064938.47678856,22064938.47678856,22064938.47678856,22064938.47678856,22064938.47678856,22064938.47678856,22064938.47678856,22064938.47678856,22064938.47678856,22064938.47678856]],\"type\":\"surface\"},{\"line\":{\"color\":\"rgb(31, 119, 180)\",\"dash\":\"dash\",\"width\":5},\"mode\":\"lines\",\"name\":\"2021-05-27 13:19 (BODY#1)\",\"x\":[-61240007.36061503,-55442738.29693747,-49545898.85666289,-43559973.4051234,-37495604.69932692,-31363574.965525646,-25174786.728809807,-18940243.428816933,-12671029.856017157,-6378292.443360547,-73219.44832579127,6232978.939392995,12529090.5291946,18803921.06443624,25046314.125413876,31245170.965068657,37389470.242154665,43468287.61678114,49470815.17349031,55386380.63733676,61204466.34880237,66914727.963811606,72507012.84559776,77971378.11572011,83298108.33213955,88477732.76291972,93501042.22484282,98359105.457001,103043285.00025307,107545252.5543108,111857003.78515333,115970872.55644108,119879544.55962618,123576070.31852601,127053877.54523878,130306782.82543087,133329002.6122224,136115163.50912243,138660311.82373166,140959922.3752268,143009906.53996688,144806619.52091727,146346866.82796514,147627909.9576069,148647471.26190713,149403737.9980737,149895365.55144808,150121479.82618138,150081678.79934463,149776033.23571122,149205086.56193924,148369853.9003792,147271820.26422313,145912937.91720563,144295622.90254995,142422750.7473314,140297651.34989536,137924103.05941913,135306325.9581452,132448974.35822931,129357128.52654247,126036285.65214288,122492350.07247354,118731622.7756663,114760790.19761465,110586912.33373484,106217410.18655129,101660052.57142566,96922942.30388574,92014501.79311591,86943458.06722055,81718827.25688674,76349898.56503277,70846217.75094444,65217570.15826316,59473963.31700249,53625609.1505248,47682905.81911404,41656419.2324265,35556864.263688534,29395085.699043345,23182038.955917206,16928770.604686536,10646398.728279438,4346093.154629493,-1960944.4028706073,-8263500.2616061745,-14550368.707259817,-20810371.91716176,-27032379.83405116,-33205329.95491138,-39318246.99969738,-45360262.42498187,-51320633.74783041,-57188763.64554259,-62954218.79730603,-68606748.43425955,-74136302.5649867,-79533049.84403293,-84787395.05167963,-89889996.15389457,-94831780.91212721,-99603963.01341788,-104198057.69214189,-108605896.81561284,-112819643.40672427,-116831805.57780974,-120635249.85094474,-124223213.84101073,-127589318.27896912,-130727578.35396844,-133632414.35411972,-136298661.58702114,-138721579.5623918,-140896860.4204911,-142820636.59133592,-144489487.67109883,-145900446.5034614,-147051004.4551098,-147939115.8759934,-148563201.73641568,-148922152.43449157,-149015329.76897907,-148842568.0739778,-148404174.51347688,-147700928.53522855,-146734080.4849186,-145505349.3830973,-144016919.86882368,-142271438.31545663,-140272008.12550035,-138022184.2128673,-135525966.68237135,-132787793.7176871,-129812533.6904218,-126605476.50432755,-123172324.19004636,-119519180.76710665,-115652541.39120026,-111579280.80603263,-107306641.12027809,-102842218.9313768,-98193951.81906039,-93370104.23262537,-88379252.79704359,-83230271.06403635,-77932313.73522316,-72494800.3853963,-66927398.71486053,-61240007.36061503],\"y\":[-138662578.54507938,-141147414.55081603,-143385624.53752616,-145373229.04953223,-147106694.19854575,-148582937.9467909,-149799335.5867561,-150753724.40782735,-151444407.5415094,-151870156.97839552,-152030215.75152394,-151924299.28223708,-151552595.88615203,-150915766.43834248,-150014943.19832677,-148851727.79695204,-147428188.3887526,-145746855.97484696,-143810719.90291026,-141623222.552223,-139188253.2132462,-136510141.1726054,-133593648.0157763,-130443959.1611603,-127066674.64059924,-123467799.1427234,-119653731.33683418,-115631252.49630378,-111407514.44171815,-106990026.82520147,-102386643.77852868,-97605549.9487654,-92655245.94626425,-87544533.23089053,-82282498.46334668,-76878497.349422,-71342138.0058889,-65683263.87762153,-59911936.236310765,-54038416.291889794,-48073146.948477514,-42026734.23727563,-35909928.4594331,-29733605.072402097,-23508745.35377228,-17246416.87695951,-10957753.833464514,-4653937.236686119,1653824.9575114832,7954317.778136613,14236339.17887789,20488719.954934634,26700343.601455268,32860166.07827687,38957235.445826314,44980711.33726853,50919884.23228321,56764194.49820122,62503251.16464633,68126850.3983008,73624993.6449495,78987905.40654348,84206050.62167957,89270151.61859098,94171204.61050941,98900495.70406939,103449616.39229272,107810478.50460672,111975328.58731672,115936761.68896364,119687734.52605724,123221578.00577745,126532009.0833779,129613141.9332102,132459498.41350722,135066017.80631906,137428065.81528503,139541442.80524337,141402391.26902938,143007602.50818622,144354222.5157095,145439857.05036816,146262575.89357755,146820916.281258,147113885.5045757,147140962.6749429,146902099.65013888,146397721.11990488,145628723.8508613,144596475.09208956,143302810.14421287,141750029.09629887,139940892.73638505,137878617.64289847,135566870.4656968,133009761.40689859,130211836.91309364,127178071.59192726,123913859.36742929,120425003.88981412,116717708.2168019,112798563.78480893,108674538.68961413,104352965.29733846,99841527.20776623,95148245.59318487,90281464.93703301,85249838.19771384,80062311.42395087,74728107.84903914,69256711.49227387,63657850.29670985,57941478.83323311,52117760.60169832,46197049.960596435,40189873.71738235,34106912.41219693,27958981.328255005,21757011.26266758,15512029.09188256,9235138.166301332,2937498.5689273737,-3369692.726855456,-9675221.765091348,-15967877.545258073,-22236471.955016512,-28469859.662266012,-34656957.93113783,-40786766.32669603,-46848386.27330845,-52831040.43191649,-58724091.86175142,-64517062.932426,-70199653.95277974,-75761761.48335297,-81193496.29993466,-86485200.97624072,-91627467.05446756,-96611151.77318457,-101427394.3228312,-106067631.59991397,-110523613.43189,-114787417.2456743,-118851462.15368493,-122708522.43238479,-126351740.36935396,-129774638.4560526,-132971130.90459432,-135935534.46805522,-138662578.54507938],\"z\":[0.0,0.0,0.0,0.0,0.0,0.0,0.0,0.0,0.0,0.0,0.0,0.0,0.0,0.0,0.0,0.0,0.0,0.0,0.0,0.0,0.0,0.0,0.0,0.0,0.0,0.0,0.0,0.0,0.0,0.0,0.0,0.0,0.0,0.0,0.0,0.0,0.0,0.0,0.0,0.0,0.0,0.0,0.0,0.0,0.0,0.0,0.0,0.0,0.0,0.0,0.0,0.0,0.0,0.0,0.0,0.0,0.0,0.0,0.0,0.0,0.0,0.0,0.0,0.0,0.0,0.0,0.0,0.0,0.0,0.0,0.0,0.0,0.0,0.0,0.0,0.0,0.0,0.0,0.0,0.0,0.0,0.0,0.0,0.0,0.0,0.0,0.0,0.0,0.0,0.0,0.0,0.0,0.0,0.0,0.0,0.0,0.0,0.0,0.0,0.0,0.0,0.0,0.0,0.0,0.0,0.0,0.0,0.0,0.0,0.0,0.0,0.0,0.0,0.0,0.0,0.0,0.0,0.0,0.0,0.0,0.0,0.0,0.0,0.0,0.0,0.0,0.0,0.0,0.0,0.0,0.0,0.0,0.0,0.0,0.0,0.0,0.0,0.0,0.0,0.0,0.0,0.0,0.0,0.0,0.0,0.0,0.0,0.0,0.0,0.0],\"type\":\"scatter3d\"},{\"cauto\":false,\"cmax\":1,\"cmin\":1,\"colorscale\":[[0,\"rgb(31, 119, 180)\"],[1,\"rgb(31, 119, 180)\"]],\"name\":\"2021-05-27 13:19 (BODY#1)\",\"showscale\":false,\"x\":[[-61240007.36061511,-61240007.36061511,-61240007.36061511,-61240007.36061511,-61240007.36061511,-61240007.36061511,-61240007.36061511,-61240007.36061511,-61240007.36061511,-61240007.36061511,-61240007.36061511,-61240007.36061511,-61240007.36061511,-61240007.36061511,-61240007.36061511,-61240007.36061511,-61240007.36061511,-61240007.36061511,-61240007.36061511,-61240007.36061511],[-57657770.45489149,-57851865.93132538,-58413119.10405381,-59280709.483071394,-60360620.1887598,-61535826.1396166,-62678975.5356673,-63666190.40205934,-64390490.68980219,-64773387.224042,-64773387.224042,-64390490.68980219,-63666190.40205934,-62678975.5356673,-61535826.1396166,-60360620.188759804,-59280709.483071394,-58413119.10405381,-57851865.93132538,-57657770.45489149],[-54463724.50203565,-54830882.198330194,-55892568.053781666,-57533731.9321985,-59576528.26207288,-61799588.36381199,-63962009.18106083,-65829458.86485438,-67199570.26548623,-67923870.55322908,-67923870.55322908,-67199570.26548623,-65829458.86485438,-63962009.18106083,-61799588.36381199,-59576528.26207289,-57533731.9321985,-55892568.053781666,-54830882.198330194,-54463724.50203565],[-52003993.94176889,-52504426.62449193,-53951495.02647488,-56188386.83278315,-58972700.10725069,-62002711.30351711,-64950071.692999065,-67495389.04448771,-69362838.72828126,-70350053.5946733,-70350053.5946733,-69362838.72828127,-67495389.04448771,-64950071.69299907,-62002711.30351712,-58972700.10725069,-56188386.832783155,-53951495.02647488,-52504426.62449193,-52003993.94176889],[-50545128.74694821,-51124606.769913584,-52800245.40349342,-55390463.20152707,-58614569.874227375,-62123183.43643777,-65536091.166944,-68483451.55642596,-70645872.3736748,-71789021.76972549,-71789021.7697255,-70645872.3736748,-68483451.55642596,-65536091.166944005,-62123183.43643777,-58614569.87422738,-55390463.201527074,-52800245.40349342,-51124606.769913584,-50545128.74694821],[-50245219.59805827,-50840947.5259497,-52563574.944965765,-55226428.44493765,-58540946.53071415,-62147949.73765426,-65656563.29986466,-68686574.49613108,-70909634.59787019,-72084840.54872698,-72084840.54872698,-70909634.59787019,-68686574.49613108,-65656563.29986466,-62147949.73765427,-58540946.530714154,-55226428.44493765,-52563574.94496577,-50840947.5259497,-50245219.59805827],[-51136766.30495119,-51684187.77311046,-53267130.56739393,-55714058.274152845,-58759808.30836453,-62074326.39414103,-65298433.06684134,-68082746.34130888,-70125542.67118326,-71205453.37687168,-71205453.37687168,-70125542.67118327,-68082746.34130889,-65298433.06684135,-62074326.39414104,-58759808.30836454,-55714058.27415285,-53267130.56739393,-51684187.77311046,-51136766.30495119],[-53123155.948162645,-53562949.34639542,-54834671.10229754,-56800510.430820815,-59247438.13757973,-61910291.63755161,-64500509.43558526,-66737401.24189354,-68378565.12031037,-69246155.49932796,-69246155.49932796,-68378565.12031037,-66737401.24189354,-64500509.43558527,-61910291.63755161,-59247438.13757974,-56800510.430820815,-54834671.10229754,-53562949.34639542,-53123155.948162645],[-55989132.387839645,-56273639.277349725,-57096329.209822305,-58368050.96572442,-59950993.760007896,-61673621.17902396,-63349259.8126038,-64796328.21458675,-65858014.07003822,-66419267.242766656,-66419267.242766656,-65858014.07003822,-64796328.21458675,-63349259.8126038,-61673621.179023966,-59950993.760007896,-58368050.96572442,-57096329.209822305,-56273639.277349725,-55989132.387839645],[-59424122.606536806,-59522512.25126653,-59807019.14077661,-60246812.539009385,-60794234.00716865,-61389961.935060084,-61969439.95802545,-62469872.64074849,-62837030.33704303,-63031125.81347693,-63031125.81347693,-62837030.33704303,-62469872.64074849,-61969439.958025455,-61389961.935060084,-60794234.00716865,-60246812.539009385,-59807019.14077661,-59522512.25126653,-59424122.606536806],[-63055892.11469342,-62957502.46996369,-62672995.58045361,-62233202.18222084,-61685780.71406157,-61090052.78617014,-60510574.763204776,-60010142.08048174,-59642984.38418719,-59448888.9077533,-59448888.9077533,-59642984.38418719,-60010142.08048174,-60510574.763204776,-61090052.78617014,-61685780.71406157,-62233202.18222084,-62672995.58045361,-62957502.46996369,-63055892.11469342],[-66490882.33339058,-66206375.4438805,-65383685.51140792,-64111963.7555058,-62529020.96122233,-60806393.542206265,-59130754.90862642,-57683686.506643474,-56622000.651192,-56060747.47846357,-56060747.47846357,-56622000.651192,-57683686.506643474,-59130754.90862642,-60806393.54220626,-62529020.96122233,-64111963.7555058,-65383685.51140792,-66206375.4438805,-66490882.33339058],[-69356858.77306758,-68917065.3748348,-67645343.61893268,-65679504.29040941,-63232576.58365049,-60569723.08367861,-57979505.28564496,-55742613.479336694,-54101449.60091986,-53233859.22190227,-53233859.22190227,-54101449.60091986,-55742613.47933669,-57979505.28564496,-60569723.08367861,-63232576.583650485,-65679504.2904094,-67645343.61893268,-68917065.3748348,-69356858.77306758],[-71343248.41627903,-70795826.94811976,-69212884.1538363,-66765956.44707738,-63720206.41286569,-60405688.32708919,-57181581.65438888,-54397268.37992135,-52354472.05004696,-51274561.344358556,-51274561.344358556,-52354472.05004696,-54397268.37992134,-57181581.654388875,-60405688.32708918,-63720206.41286568,-66765956.44707737,-69212884.1538363,-70795826.94811976,-71343248.41627903],[-72234795.12317196,-71639067.19528052,-69916439.77626446,-67253586.27629258,-63939068.19051608,-60332064.98357596,-56823451.42136557,-53793440.22509915,-51570380.123360045,-50395174.17250324,-50395174.17250324,-51570380.12336004,-53793440.22509915,-56823451.42136557,-60332064.983575955,-63939068.19051607,-67253586.27629258,-69916439.77626446,-71639067.19528052,-72234795.12317196],[-71934885.97428201,-71355407.95131664,-69679769.3177368,-67089551.51970316,-63865444.84700285,-60356831.28479245,-56943923.55428623,-53996563.16480427,-51834142.34755543,-50690992.95150473,-50690992.95150473,-51834142.34755543,-53996563.164804265,-56943923.55428622,-60356831.28479245,-63865444.84700284,-67089551.51970315,-69679769.3177368,-71355407.95131664,-71934885.97428201],[-70476020.77946134,-69975588.0967383,-68528519.69475535,-66291627.888447076,-63507314.61397953,-60477303.41771311,-57529943.02823116,-54984625.67674251,-53117175.99294896,-52129961.12655692,-52129961.12655692,-53117175.99294896,-54984625.6767425,-57529943.02823115,-60477303.417713106,-63507314.61397953,-66291627.88844707,-68528519.69475535,-69975588.0967383,-70476020.77946134],[-68016290.21919458,-67649132.52290003,-66587446.667448565,-64946282.78903173,-62903486.45915734,-60680426.35741823,-58518005.540169396,-56650555.85637584,-55280444.455744,-54556144.168001145,-54556144.168001145,-55280444.455744,-56650555.856375836,-58518005.540169396,-60680426.35741823,-62903486.45915734,-64946282.78903172,-66587446.667448565,-67649132.52290003,-68016290.21919458],[-64822244.266338736,-64628148.78990485,-64066895.61717641,-63199305.23815883,-62119394.53247043,-60944188.58161362,-59801039.18556292,-58813824.319170885,-58089524.03142803,-57706627.497188225,-57706627.497188225,-58089524.03142803,-58813824.319170885,-59801039.18556292,-60944188.58161362,-62119394.53247042,-63199305.23815883,-64066895.61717641,-64628148.78990485,-64822244.266338736],[-61240007.36061511,-61240007.36061511,-61240007.36061511,-61240007.36061511,-61240007.36061511,-61240007.36061511,-61240007.36061511,-61240007.36061511,-61240007.36061511,-61240007.36061511,-61240007.36061511,-61240007.36061511,-61240007.36061511,-61240007.36061511,-61240007.36061511,-61240007.36061511,-61240007.36061511,-61240007.36061511,-61240007.36061511,-61240007.36061511]],\"y\":[[-138662578.54507935,-138662578.54507935,-138662578.54507935,-138662578.54507935,-138662578.54507935,-138662578.54507935,-138662578.54507935,-138662578.54507935,-138662578.54507935,-138662578.54507935,-138662578.54507935,-138662578.54507935,-138662578.54507935,-138662578.54507935,-138662578.54507935,-138662578.54507935,-138662578.54507935,-138662578.54507935,-138662578.54507935,-138662578.54507935],[-138662578.54507935,-137499428.12322545,-136462323.0977178,-135663649.89041266,-135189957.13601318,-135092576.794559,-135382061.53705832,-136027041.19984275,-136957622.228559,-138072961.72929326,-139252195.36086544,-140367534.8615997,-141298115.89031595,-141943095.55310038,-142232580.2955997,-142135199.95414552,-141661507.19974604,-140862833.9924409,-139825728.96693325,-138662578.54507935],[-138662578.54507935,-136462323.0977178,-134500499.46855876,-132989701.68865164,-132093648.1398923,-131909440.12799215,-132457039.44932239,-133677105.22053796,-135437424.38405666,-137547239.0443451,-139777918.0458136,-141887732.70610204,-143648051.86962074,-144868117.6408363,-145415716.96216655,-145231508.95026642,-144335455.40150705,-142824657.62159994,-140862833.9924409,-138662578.54507935],[-138662578.54507935,-135663649.89041266,-132989701.68865164,-130930497.71803841,-129709184.6806306,-129458110.7946557,-130204483.81147179,-131867422.63353628,-134266722.03632405,-137142380.700577,-140182776.3895817,-143058435.05383465,-145457734.45662242,-147120673.2786869,-147867046.29550302,-147615972.4095281,-146394659.3721203,-144335455.40150705,-141661507.19974604,-138662578.54507935],[-138662578.54507935,-135189957.13601318,-132093648.1398923,-129709184.6806306,-128294960.37280181,-128004228.36411025,-128868493.97886959,-130794100.6272579,-133572378.95005664,-136902259.38156065,-140422897.70859805,-143752778.14010206,-146531056.4629008,-148456663.1112891,-149320928.72604844,-149030196.7173569,-147615972.4095281,-145231508.95026642,-142135199.95414552,-138662578.54507935],[-138662578.54507935,-135092576.794559,-131909440.12799215,-129458110.7946557,-128004228.36411025,-127705343.5570157,-128593845.17989635,-130573450.29538994,-133429637.9724945,-136852895.95807767,-140472261.13208103,-143895519.1176642,-146751706.79476875,-148731311.91026235,-149619813.533143,-149320928.72604844,-147867046.29550302,-145415716.96216655,-142232580.2955997,-138662578.54507935],[-138662578.54507935,-135382061.53705832,-132457039.44932239,-130204483.81147179,-128868493.97886959,-128593845.17989635,-129410299.87353605,-131229382.52513295,-133853967.30341098,-136999639.72301486,-140325517.36714384,-143471189.78674772,-146095774.56502575,-147914857.21662265,-148731311.91026235,-148456663.1112891,-147120673.2786869,-144868117.6408363,-141943095.5531004,-138662578.54507935],[-138662578.54507935,-136027041.19984275,-133677105.22053796,-131867422.6335363,-130794100.6272579,-130573450.29538994,-131229382.52513295,-132690816.88155709,-134799384.2756533,-137326588.71247715,-139998568.37768155,-142525772.8145054,-144634340.20860162,-146095774.56502575,-146751706.79476875,-146531056.46290082,-145457734.45662242,-143648051.86962074,-141298115.89031595,-138662578.54507935],[-138662578.54507935,-136957622.228559,-135437424.38405666,-134266722.03632405,-133572378.95005664,-133429637.9724945,-133853967.30341098,-134799384.2756533,-136163438.29062325,-137798312.93032002,-139526844.15983868,-141161718.79953545,-142525772.8145054,-143471189.78674772,-143895519.1176642,-143752778.14010206,-143058435.05383465,-141887732.70610204,-140367534.8615997,-138662578.54507935],[-138662578.54507935,-138072961.72929326,-137547239.0443451,-137142380.700577,-136902259.38156065,-136852895.95807767,-136999639.72301486,-137326588.71247715,-137798312.93032002,-138363693.7379848,-138961463.3521739,-139526844.15983868,-139998568.37768155,-140325517.36714384,-140472261.13208103,-140422897.70859805,-140182776.3895817,-139777918.0458136,-139252195.36086544,-138662578.54507935],[-138662578.54507935,-139252195.36086544,-139777918.0458136,-140182776.3895817,-140422897.70859805,-140472261.13208103,-140325517.36714384,-139998568.37768155,-139526844.15983868,-138961463.3521739,-138363693.7379848,-137798312.93032002,-137326588.71247715,-136999639.72301486,-136852895.95807767,-136902259.38156065,-137142380.700577,-137547239.0443451,-138072961.72929326,-138662578.54507935],[-138662578.54507935,-140367534.8615997,-141887732.70610204,-143058435.05383465,-143752778.14010206,-143895519.1176642,-143471189.78674772,-142525772.8145054,-141161718.79953545,-139526844.15983868,-137798312.93032002,-136163438.29062325,-134799384.2756533,-133853967.30341098,-133429637.9724945,-133572378.95005664,-134266722.03632405,-135437424.38405666,-136957622.228559,-138662578.54507935],[-138662578.54507935,-141298115.89031595,-143648051.86962074,-145457734.45662242,-146531056.4629008,-146751706.79476875,-146095774.56502575,-144634340.20860162,-142525772.8145054,-139998568.37768155,-137326588.71247715,-134799384.2756533,-132690816.88155709,-131229382.52513295,-130573450.29538994,-130794100.6272579,-131867422.6335363,-133677105.22053796,-136027041.19984275,-138662578.54507935],[-138662578.54507935,-141943095.55310038,-144868117.6408363,-147120673.2786869,-148456663.1112891,-148731311.91026235,-147914857.21662265,-146095774.56502575,-143471189.78674772,-140325517.36714384,-136999639.72301486,-133853967.30341098,-131229382.52513295,-129410299.87353605,-128593845.17989635,-128868493.97886959,-130204483.81147179,-132457039.44932239,-135382061.5370583,-138662578.54507935],[-138662578.54507935,-142232580.2955997,-145415716.96216655,-147867046.29550302,-149320928.72604844,-149619813.533143,-148731311.91026235,-146751706.79476875,-143895519.1176642,-140472261.13208103,-136852895.95807767,-133429637.9724945,-130573450.29538994,-128593845.17989635,-127705343.5570157,-128004228.36411025,-129458110.79465568,-131909440.12799214,-135092576.794559,-138662578.54507935],[-138662578.54507935,-142135199.95414552,-145231508.95026642,-147615972.4095281,-149030196.7173569,-149320928.72604844,-148456663.1112891,-146531056.46290082,-143752778.14010206,-140422897.70859805,-136902259.38156065,-133572378.95005664,-130794100.6272579,-128868493.97886959,-128004228.36411025,-128294960.3728018,-129709184.6806306,-132093648.1398923,-135189957.13601318,-138662578.54507935],[-138662578.54507935,-141661507.19974604,-144335455.40150705,-146394659.3721203,-147615972.4095281,-147867046.29550302,-147120673.2786869,-145457734.45662242,-143058435.05383465,-140182776.3895817,-137142380.700577,-134266722.03632405,-131867422.6335363,-130204483.81147179,-129458110.79465568,-129709184.6806306,-130930497.7180384,-132989701.68865164,-135663649.89041266,-138662578.54507935],[-138662578.54507935,-140862833.9924409,-142824657.62159994,-144335455.40150705,-145231508.95026642,-145415716.96216655,-144868117.6408363,-143648051.86962074,-141887732.70610204,-139777918.0458136,-137547239.0443451,-135437424.38405666,-133677105.22053796,-132457039.44932239,-131909440.12799214,-132093648.13989228,-132989701.68865164,-134500499.46855876,-136462323.0977178,-138662578.54507935],[-138662578.54507935,-139825728.96693325,-140862833.9924409,-141661507.19974604,-142135199.95414552,-142232580.2955997,-141943095.5531004,-141298115.89031595,-140367534.8615997,-139252195.36086544,-138072961.72929326,-136957622.228559,-136027041.19984275,-135382061.5370583,-135092576.794559,-135189957.13601318,-135663649.89041266,-136462323.0977178,-137499428.12322545,-138662578.54507935],[-138662578.54507935,-138662578.54507935,-138662578.54507935,-138662578.54507935,-138662578.54507935,-138662578.54507935,-138662578.54507935,-138662578.54507935,-138662578.54507935,-138662578.54507935,-138662578.54507935,-138662578.54507935,-138662578.54507935,-138662578.54507935,-138662578.54507935,-138662578.54507935,-138662578.54507935,-138662578.54507935,-138662578.54507935,-138662578.54507935]],\"z\":[[11032469.23839428,11032469.23839428,11032469.23839428,11032469.23839428,11032469.23839428,11032469.23839428,11032469.23839428,11032469.23839428,11032469.23839428,11032469.23839428,11032469.23839428,11032469.23839428,11032469.23839428,11032469.23839428,11032469.23839428,11032469.23839428,11032469.23839428,11032469.23839428,11032469.23839428,11032469.23839428],[10434699.62420518,10434699.62420518,10434699.62420518,10434699.62420518,10434699.62420518,10434699.62420518,10434699.62420518,10434699.62420518,10434699.62420518,10434699.62420518,10434699.62420518,10434699.62420518,10434699.62420518,10434699.62420518,10434699.62420518,10434699.62420518,10434699.62420518,10434699.62420518,10434699.62420518,10434699.62420518],[8706168.394686505,8706168.394686505,8706168.394686505,8706168.394686505,8706168.394686505,8706168.394686505,8706168.394686505,8706168.394686505,8706168.394686505,8706168.394686505,8706168.394686505,8706168.394686505,8706168.394686505,8706168.394686505,8706168.394686505,8706168.394686505,8706168.394686505,8706168.394686505,8706168.394686505,8706168.394686505],[6034188.729482087,6034188.729482087,6034188.729482087,6034188.729482087,6034188.729482087,6034188.729482087,6034188.729482087,6034188.729482087,6034188.729482087,6034188.729482087,6034188.729482087,6034188.729482087,6034188.729482087,6034188.729482087,6034188.729482087,6034188.729482087,6034188.729482087,6034188.729482087,6034188.729482087,6034188.729482087],[2708311.0853531025,2708311.0853531025,2708311.0853531025,2708311.0853531025,2708311.0853531025,2708311.0853531025,2708311.0853531025,2708311.0853531025,2708311.0853531025,2708311.0853531025,2708311.0853531025,2708311.0853531025,2708311.0853531025,2708311.0853531025,2708311.0853531025,2708311.0853531025,2708311.0853531025,2708311.0853531025,2708311.0853531025,2708311.0853531025],[-911054.0886502397,-911054.0886502397,-911054.0886502397,-911054.0886502397,-911054.0886502397,-911054.0886502397,-911054.0886502397,-911054.0886502397,-911054.0886502397,-911054.0886502397,-911054.0886502397,-911054.0886502397,-911054.0886502397,-911054.0886502397,-911054.0886502397,-911054.0886502397,-911054.0886502397,-911054.0886502397,-911054.0886502397,-911054.0886502397],[-4431692.415687611,-4431692.415687611,-4431692.415687611,-4431692.415687611,-4431692.415687611,-4431692.415687611,-4431692.415687611,-4431692.415687611,-4431692.415687611,-4431692.415687611,-4431692.415687611,-4431692.415687611,-4431692.415687611,-4431692.415687611,-4431692.415687611,-4431692.415687611,-4431692.415687611,-4431692.415687611,-4431692.415687611,-4431692.415687611],[-7472088.104692319,-7472088.104692319,-7472088.104692319,-7472088.104692319,-7472088.104692319,-7472088.104692319,-7472088.104692319,-7472088.104692319,-7472088.104692319,-7472088.104692319,-7472088.104692319,-7472088.104692319,-7472088.104692319,-7472088.104692319,-7472088.104692319,-7472088.104692319,-7472088.104692319,-7472088.104692319,-7472088.104692319,-7472088.104692319],[-9702767.106160814,-9702767.106160814,-9702767.106160814,-9702767.106160814,-9702767.106160814,-9702767.106160814,-9702767.106160814,-9702767.106160814,-9702767.106160814,-9702767.106160814,-9702767.106160814,-9702767.106160814,-9702767.106160814,-9702767.106160814,-9702767.106160814,-9702767.106160814,-9702767.106160814,-9702767.106160814,-9702767.106160814,-9702767.106160814],[-10882000.737733021,-10882000.737733021,-10882000.737733021,-10882000.737733021,-10882000.737733021,-10882000.737733021,-10882000.737733021,-10882000.737733021,-10882000.737733021,-10882000.737733021,-10882000.737733021,-10882000.737733021,-10882000.737733021,-10882000.737733021,-10882000.737733021,-10882000.737733021,-10882000.737733021,-10882000.737733021,-10882000.737733021,-10882000.737733021],[-10882000.737733023,-10882000.737733023,-10882000.737733023,-10882000.737733023,-10882000.737733023,-10882000.737733023,-10882000.737733023,-10882000.737733023,-10882000.737733023,-10882000.737733023,-10882000.737733023,-10882000.737733023,-10882000.737733023,-10882000.737733023,-10882000.737733023,-10882000.737733023,-10882000.737733023,-10882000.737733023,-10882000.737733023,-10882000.737733023],[-9702767.106160816,-9702767.106160816,-9702767.106160816,-9702767.106160816,-9702767.106160816,-9702767.106160816,-9702767.106160816,-9702767.106160816,-9702767.106160816,-9702767.106160816,-9702767.106160816,-9702767.106160816,-9702767.106160816,-9702767.106160816,-9702767.106160816,-9702767.106160816,-9702767.106160816,-9702767.106160816,-9702767.106160816,-9702767.106160816],[-7472088.104692325,-7472088.104692325,-7472088.104692325,-7472088.104692325,-7472088.104692325,-7472088.104692325,-7472088.104692325,-7472088.104692325,-7472088.104692325,-7472088.104692325,-7472088.104692325,-7472088.104692325,-7472088.104692325,-7472088.104692325,-7472088.104692325,-7472088.104692325,-7472088.104692325,-7472088.104692325,-7472088.104692325,-7472088.104692325],[-4431692.415687618,-4431692.415687618,-4431692.415687618,-4431692.415687618,-4431692.415687618,-4431692.415687618,-4431692.415687618,-4431692.415687618,-4431692.415687618,-4431692.415687618,-4431692.415687618,-4431692.415687618,-4431692.415687618,-4431692.415687618,-4431692.415687618,-4431692.415687618,-4431692.415687618,-4431692.415687618,-4431692.415687618,-4431692.415687618],[-911054.088650245,-911054.088650245,-911054.088650245,-911054.088650245,-911054.088650245,-911054.088650245,-911054.088650245,-911054.088650245,-911054.088650245,-911054.088650245,-911054.088650245,-911054.088650245,-911054.088650245,-911054.088650245,-911054.088650245,-911054.088650245,-911054.088650245,-911054.088650245,-911054.088650245,-911054.088650245],[2708311.0853530974,2708311.0853530974,2708311.0853530974,2708311.0853530974,2708311.0853530974,2708311.0853530974,2708311.0853530974,2708311.0853530974,2708311.0853530974,2708311.0853530974,2708311.0853530974,2708311.0853530974,2708311.0853530974,2708311.0853530974,2708311.0853530974,2708311.0853530974,2708311.0853530974,2708311.0853530974,2708311.0853530974,2708311.0853530974],[6034188.729482083,6034188.729482083,6034188.729482083,6034188.729482083,6034188.729482083,6034188.729482083,6034188.729482083,6034188.729482083,6034188.729482083,6034188.729482083,6034188.729482083,6034188.729482083,6034188.729482083,6034188.729482083,6034188.729482083,6034188.729482083,6034188.729482083,6034188.729482083,6034188.729482083,6034188.729482083],[8706168.394686503,8706168.394686503,8706168.394686503,8706168.394686503,8706168.394686503,8706168.394686503,8706168.394686503,8706168.394686503,8706168.394686503,8706168.394686503,8706168.394686503,8706168.394686503,8706168.394686503,8706168.394686503,8706168.394686503,8706168.394686503,8706168.394686503,8706168.394686503,8706168.394686503,8706168.394686503],[10434699.62420518,10434699.62420518,10434699.62420518,10434699.62420518,10434699.62420518,10434699.62420518,10434699.62420518,10434699.62420518,10434699.62420518,10434699.62420518,10434699.62420518,10434699.62420518,10434699.62420518,10434699.62420518,10434699.62420518,10434699.62420518,10434699.62420518,10434699.62420518,10434699.62420518,10434699.62420518],[11032469.23839428,11032469.23839428,11032469.23839428,11032469.23839428,11032469.23839428,11032469.23839428,11032469.23839428,11032469.23839428,11032469.23839428,11032469.23839428,11032469.23839428,11032469.23839428,11032469.23839428,11032469.23839428,11032469.23839428,11032469.23839428,11032469.23839428,11032469.23839428,11032469.23839428,11032469.23839428]],\"type\":\"surface\"},{\"cauto\":false,\"cmax\":1,\"cmin\":1,\"colorscale\":[[0,\"#ffcc00\"],[1,\"#ffcc00\"]],\"name\":\"Sun\",\"showscale\":false,\"x\":[[0.0,0.0,0.0,0.0,0.0,0.0,0.0,0.0,0.0,0.0,0.0,0.0,0.0,0.0,0.0,0.0,0.0,0.0,0.0,0.0],[7164473.811447242,6776282.858579463,5653776.513122599,3918595.755087434,1758774.343710625,-591637.5580029789,-2877936.3501043776,-4852366.0828884505,-6300966.658374158,-7066759.726853772,-7066759.726853773,-6300966.658374159,-4852366.082888454,-2877936.350104382,-591637.5580029823,1758774.3437106218,3918595.755087431,5653776.513122598,6776282.858579463,7164473.811447242],[13552565.71715893,12818250.324569842,10694878.613666898,7412550.856833226,3326958.1970844553,-1119162.0063937537,-5444003.640891429,-9178903.008478535,-11919125.809742223,-13367726.385227932,-13367726.385227934,-11919125.809742225,-9178903.008478543,-5444003.640891437,-1119162.0063937602,3326958.1970844488,7412550.85683322,10694878.613666896,12818250.324569842,13552565.71715893],[18472026.83769244,17471161.47224636,14577024.668280466,10103241.055663921,4534614.506728847,-1525407.8858039973,-7420128.664767911,-12510763.367745202,-16245662.735332308,-18220092.46811638,-18220092.468116384,-16245662.735332312,-12510763.367745211,-7420128.664767922,-1525407.8858040061,4534614.506728838,10103241.055663913,14577024.668280464,17471161.47224636,18472026.83769244],[21389757.227333795,20230801.181403063,16879523.91424338,11699088.31817609,5250874.972775469,-1766352.1516453132,-8592167.612657769,-14486888.391621683,-18811730.02611936,-21098028.81822076,-21098028.818220764,-18811730.026119363,-14486888.391621694,-8592167.61265778,-1766352.1516453235,5250874.972775458,11699088.318176081,16879523.914243378,20230801.181403063,21389757.227333795],[21989575.52511369,20798119.669330813,17352864.831298687,12027157.831354935,5398121.659801931,-1815884.7540783056,-8833111.878499085,-14893134.271031927,-19339254.474510137,-21689666.37622374,-21689666.376223743,-19339254.47451014,-14893134.271031938,-8833111.878499096,-1815884.754078316,5398121.659801921,12027157.831354925,17352864.831298683,20798119.669330813,21989575.52511369],[20206482.11132784,19111639.17500931,15945753.586442364,11051898.172924532,4960398.10450116,-1668638.0670518435,-8116851.412452464,-13685477.961387537,-17771070.621136308,-19930892.03251312,-19930892.032513123,-17771070.62113631,-13685477.961387549,-8116851.412452475,-1668638.067051853,4960398.104501151,11051898.172924524,15945753.586442363,19111639.17500931,20206482.11132784],[16233702.824904937,15354116.028439388,12810672.516635155,8878993.859588595,3985138.446070757,-1340568.553873001,-6521004.149940296,-10994787.762556845,-14277115.51939052,-16012296.277425688,-16012296.27742569,-14277115.519390523,-10994787.762556855,-6521004.149940305,-1340568.5538730088,3985138.44607075,8878993.85958859,12810672.516635153,15354116.028439388,16233702.824904937],[10501749.945550935,9932736.166530775,8287356.301585614,5743912.789781382,2578027.201214433,-867227.6368176972,-4218504.90397738,-7112641.7079432765,-9236013.418846222,-10358519.764303088,-10358519.76430309,-9236013.418846224,-7112641.707943282,-4218504.903977387,-867227.6368177022,2578027.2012144285,5743912.789781378,8287356.301585612,9932736.166530775,10501749.945550935],[3631769.508156617,3434990.218697162,2865976.4396770024,1986389.6432114544,891546.706892928,-299909.1488899475,-1458865.1948206776,-2459730.560266758,-3194045.952855845,-3582236.9057236244,-3582236.905723625,-3194045.952855846,-2459730.5602667592,-1458865.1948206797,-299909.14888994925,891546.7068929264,1986389.643211453,2865976.439677002,3434990.218697162,3631769.508156617],[-3631769.5081566116,-3434990.2186971568,-2865976.439676998,-1986389.6432114514,-891546.7068929267,299909.14888994704,1458865.1948206755,2459730.5602667537,3194045.9528558403,3582236.905723619,3582236.9057236193,3194045.952855841,2459730.5602667555,1458865.1948206776,299909.1488899488,-891546.706892925,-1986389.64321145,-2865976.4396769977,-3434990.2186971568,-3631769.5081566116],[-10501749.945550932,-9932736.166530771,-8287356.301585611,-5743912.78978138,-2578027.2012144323,867227.636817697,4218504.903977378,7112641.707943274,9236013.418846218,10358519.764303084,10358519.764303086,9236013.41884622,7112641.707943279,4218504.903977385,867227.636817702,-2578027.2012144276,-5743912.789781376,-8287356.301585609,-9932736.166530771,-10501749.945550932],[-16233702.824904924,-15354116.028439375,-12810672.516635146,-8878993.85958859,-3985138.4460707544,1340568.553873,6521004.1499402905,10994787.762556838,14277115.51939051,16012296.277425675,16012296.277425678,14277115.519390512,10994787.762556845,6521004.149940301,1340568.5538730077,-3985138.446070747,-8878993.859588582,-12810672.516635142,-15354116.028439375,-16233702.824904924],[-20206482.111327834,-19111639.175009307,-15945753.58644236,-11051898.17292453,-4960398.104501159,1668638.067051843,8116851.412452461,13685477.961387534,17771070.621136304,19930892.03251311,19930892.032513116,17771070.621136308,13685477.961387545,8116851.412452473,1668638.0670518526,-4960398.10450115,-11051898.17292452,-15945753.586442357,-19111639.175009307,-20206482.111327834],[-21989575.52511369,-20798119.669330813,-17352864.831298687,-12027157.831354935,-5398121.659801931,1815884.7540783056,8833111.878499085,14893134.271031927,19339254.474510137,21689666.37622374,21689666.376223743,19339254.47451014,14893134.271031938,8833111.878499096,1815884.754078316,-5398121.659801921,-12027157.831354925,-17352864.831298683,-20798119.669330813,-21989575.52511369],[-21389757.2273338,-20230801.181403067,-16879523.914243385,-11699088.318176093,-5250874.972775469,1766352.1516453135,8592167.612657769,14486888.391621685,18811730.026119363,21098028.818220764,21098028.818220768,18811730.026119366,14486888.391621696,8592167.612657782,1766352.1516453237,-5250874.972775459,-11699088.318176083,-16879523.91424338,-20230801.181403067,-21389757.2273338],[-18472026.837692447,-17471161.472246364,-14577024.668280471,-10103241.055663925,-4534614.5067288475,1525407.8858039977,7420128.664767913,12510763.367745204,16245662.735332312,18220092.468116388,18220092.46811639,16245662.735332316,12510763.367745215,7420128.664767924,1525407.8858040066,-4534614.506728839,-10103241.055663915,-14577024.668280467,-17471161.472246364,-18472026.837692447],[-13552565.717158934,-12818250.324569846,-10694878.613666901,-7412550.856833229,-3326958.197084456,1119162.0063937542,5444003.640891432,9178903.008478539,11919125.809742227,13367726.385227935,13367726.385227937,11919125.809742229,9178903.008478547,5444003.640891439,1119162.0063937604,-3326958.19708445,-7412550.856833223,-10694878.6136669,-12818250.324569846,-13552565.717158934],[-7164473.811447249,-6776282.858579469,-5653776.513122603,-3918595.755087437,-1758774.3437106265,591637.5580029795,2877936.35010438,4852366.082888455,6300966.658374163,7066759.726853778,7066759.726853779,6300966.658374164,4852366.082888459,2877936.350104384,591637.5580029829,-1758774.3437106232,-3918595.7550874343,-5653776.513122602,-6776282.858579469,-7164473.811447249],[-5.4043512557964775e-9,-5.111528597938785e-9,-4.264792502956271e-9,-2.955899965204509e-9,-1.3266898007091885e-9,4.4628778940625e-10,2.170903172670974e-9,3.6602675121433847e-9,4.752985071772827e-9,5.330642948713552e-9,5.330642948713553e-9,4.752985071772828e-9,3.6602675121433876e-9,2.1709031726709772e-9,4.462877894062526e-10,-1.326689800709186e-9,-2.9558999652045066e-9,-4.26479250295627e-9,-5.111528597938785e-9,-5.4043512557964775e-9]],\"y\":[[0.0,0.0,0.0,0.0,0.0,0.0,0.0,0.0,0.0,0.0,0.0,0.0,0.0,0.0,0.0,0.0,0.0,0.0,0.0,0.0],[0.0,2326300.8437077748,4400510.894723095,5997857.309333403,6945242.818132325,7140003.501040714,6561034.016042081,5271074.690473204,3409912.633040702,1179233.631572208,-1179233.631572206,-3409912.633040701,-5271074.690473199,-6561034.016042079,-7140003.501040714,-6945242.818132326,-5997857.309333405,-4400510.894723096,-2326300.843707777,-1.7547899841527807e-9],[0.0,4400510.894723094,8324158.15304118,11345753.71285542,13137860.810374118,13506276.834174406,12411078.191513918,9970946.649082785,6450308.322045411,2230679.0014684964,-2230679.001468493,-6450308.322045409,-9970946.649082776,-12411078.191513915,-13506276.834174406,-13137860.81037412,-11345753.712855425,-8324158.153041182,-4400510.894723099,-3.3194212451505673e-9],[0.0,5997857.309333403,11345753.712855421,15464161.654081892,17906787.7288975,18408935.50084732,16916189.46721511,13590311.823086128,8791713.017510578,3040395.6890047104,-3040395.6890047058,-8791713.017510574,-13590311.823086116,-16916189.467215106,-18408935.50084732,-17906787.728897505,-15464161.654081898,-11345753.712855425,-5997857.309333408,-4.5243417081088104e-9],[0.0,6945242.818132324,13137860.810374118,17906787.728897497,20735236.344555095,21316700.3619382,19588169.132419527,15736955.835642904,10180399.190045426,3520638.327037376,-3520638.3270373703,-10180399.190045422,-15736955.835642893,-19588169.132419523,-21316700.3619382,-20735236.3445551,-17906787.728897505,-13137860.810374122,-6945242.818132331,-5.238979544598659e-9],[0.0,7140003.501040714,13506276.834174408,18408935.500847317,21316700.3619382,21914469.976127304,20137466.730366,16178256.49937883,10465881.145169701,3619365.174003345,-3619365.1740033394,-10465881.145169698,-16178256.499378817,-20137466.730365995,-21914469.976127304,-21316700.361938205,-18408935.500847325,-13506276.834174411,-7140003.50104072,-5.385892656287892e-9],[0.0,6561034.016042081,12411078.191513918,16916189.467215106,19588169.13241953,20137466.730366,18504557.343086604,14866392.039892798,9617222.483336749,3325877.644128987,-3325877.644128982,-9617222.483336745,-14866392.039892787,-18504557.3430866,-20137466.730366,-19588169.132419534,-16916189.467215113,-12411078.191513922,-6561034.016042086,-4.949160727933178e-9],[0.0,5271074.690473203,9970946.649082785,13590311.823086126,15736955.835642904,16178256.49937883,14866392.039892798,11943523.327044528,7726388.5388520835,2671979.665204423,-2671979.665204419,-7726388.538852081,-11943523.327044519,-14866392.039892795,-16178256.49937883,-15736955.835642908,-13590311.823086131,-9970946.649082787,-5271074.690473208,-3.9761104405658355e-9],[0.0,3409912.633040702,6450308.322045412,8791713.017510576,10180399.190045426,10465881.145169701,9617222.483336749,7726388.5388520835,4998280.508912198,1728531.229518677,-1728531.2295186745,-4998280.508912196,-7726388.538852077,-9617222.483336747,-10465881.145169701,-10180399.190045428,-8791713.01751058,-6450308.322045414,-3409912.6330407048,-2.572186891252969e-9],[0.0,1179233.6315722077,2230679.0014684964,3040395.6890047104,3520638.3270373754,3619365.174003345,3325877.644128987,2671979.665204423,1728531.229518677,597769.6141891014,-597769.6141891005,-1728531.2295186764,-2671979.6652044207,-3325877.6441289866,-3619365.174003345,-3520638.3270373764,-3040395.6890047113,-2230679.0014684973,-1179233.6315722088,-8.895269806809917e-10],[0.0,-1179233.631572206,-2230679.001468493,-3040395.6890047058,-3520638.3270373703,-3619365.1740033394,-3325877.644128982,-2671979.665204419,-1728531.2295186745,-597769.6141891005,597769.6141890995,1728531.2295186738,2671979.6652044165,3325877.6441289815,3619365.1740033394,3520638.3270373708,3040395.6890047067,2230679.0014684936,1179233.631572207,8.895269806809903e-10],[0.0,-3409912.6330407006,-6450308.322045409,-8791713.017510574,-10180399.190045422,-10465881.145169698,-9617222.483336745,-7726388.538852081,-4998280.508912196,-1728531.2295186766,1728531.2295186738,4998280.5089121945,7726388.538852074,9617222.483336743,10465881.145169698,10180399.190045424,8791713.017510578,6450308.322045411,3409912.633040704,2.5721868912529677e-9],[0.0,-5271074.690473199,-9970946.649082778,-13590311.823086116,-15736955.835642893,-16178256.499378819,-14866392.039892787,-11943523.327044519,-7726388.538852077,-2671979.6652044207,2671979.665204417,7726388.538852074,11943523.32704451,14866392.039892783,16178256.499378819,15736955.835642895,13590311.82308612,9970946.64908278,5271074.690473204,3.976110440565832e-9],[0.0,-6561034.016042079,-12411078.191513916,-16916189.467215102,-19588169.132419523,-20137466.73036599,-18504557.3430866,-14866392.039892795,-9617222.483336747,-3325877.6441289866,3325877.6441289815,9617222.483336743,14866392.039892783,18504557.343086597,20137466.73036599,19588169.132419527,16916189.46721511,12411078.191513918,6561034.016042084,4.949160727933176e-9],[0.0,-7140003.501040714,-13506276.834174408,-18408935.500847317,-21316700.3619382,-21914469.976127304,-20137466.730366,-16178256.49937883,-10465881.145169701,-3619365.174003345,3619365.1740033394,10465881.145169698,16178256.499378817,20137466.730365995,21914469.976127304,21316700.361938205,18408935.500847325,13506276.834174411,7140003.50104072,5.385892656287892e-9],[0.0,-6945242.818132325,-13137860.81037412,-17906787.7288975,-20735236.3445551,-21316700.361938205,-19588169.13241953,-15736955.835642906,-10180399.190045426,-3520638.3270373764,3520638.3270373708,10180399.190045422,15736955.835642895,19588169.132419527,21316700.361938205,20735236.344555102,17906787.72889751,13137860.810374124,6945242.818132332,5.23897954459866e-9],[0.0,-5997857.3093334045,-11345753.712855425,-15464161.654081896,-17906787.728897505,-18408935.500847325,-16916189.467215113,-13590311.823086131,-8791713.01751058,-3040395.6890047113,3040395.6890047067,8791713.017510576,13590311.82308612,16916189.46721511,18408935.500847325,17906787.72889751,15464161.654081902,11345753.712855427,5997857.30933341,4.524341708108812e-9],[0.0,-4400510.894723096,-8324158.153041183,-11345753.712855423,-13137860.810374122,-13506276.834174411,-12411078.191513922,-9970946.64908279,-6450308.322045414,-2230679.0014684973,2230679.001468494,6450308.322045411,9970946.64908278,12411078.19151392,13506276.834174411,13137860.810374126,11345753.712855428,8324158.153041185,4400510.8947231,3.3194212451505685e-9],[0.0,-2326300.843707777,-4400510.894723099,-5997857.309333407,-6945242.818132331,-7140003.50104072,-6561034.016042086,-5271074.690473208,-3409912.633040705,-1179233.6315722088,1179233.6315722072,3409912.633040704,5271074.690473204,6561034.016042085,7140003.50104072,6945242.8181323325,5997857.30933341,4400510.8947231,2326300.843707779,1.7547899841527821e-9],[0.0,-1.7547899841527807e-9,-3.3194212451505673e-9,-4.5243417081088104e-9,-5.238979544598659e-9,-5.385892656287892e-9,-4.949160727933178e-9,-3.9761104405658355e-9,-2.572186891252969e-9,-8.895269806809917e-10,8.895269806809903e-10,2.5721868912529677e-9,3.976110440565832e-9,4.949160727933177e-9,5.385892656287892e-9,5.23897954459866e-9,4.524341708108812e-9,3.3194212451505685e-9,1.7547899841527821e-9,1.323684293375827e-24]],\"z\":[[22064938.47678856,22064938.47678856,22064938.47678856,22064938.47678856,22064938.47678856,22064938.47678856,22064938.47678856,22064938.47678856,22064938.47678856,22064938.47678856,22064938.47678856,22064938.47678856,22064938.47678856,22064938.47678856,22064938.47678856,22064938.47678856,22064938.47678856,22064938.47678856,22064938.47678856,22064938.47678856],[20869399.24841036,20869399.24841036,20869399.24841036,20869399.24841036,20869399.24841036,20869399.24841036,20869399.24841036,20869399.24841036,20869399.24841036,20869399.24841036,20869399.24841036,20869399.24841036,20869399.24841036,20869399.24841036,20869399.24841036,20869399.24841036,20869399.24841036,20869399.24841036,20869399.24841036,20869399.24841036],[17412336.78937301,17412336.78937301,17412336.78937301,17412336.78937301,17412336.78937301,17412336.78937301,17412336.78937301,17412336.78937301,17412336.78937301,17412336.78937301,17412336.78937301,17412336.78937301,17412336.78937301,17412336.78937301,17412336.78937301,17412336.78937301,17412336.78937301,17412336.78937301,17412336.78937301,17412336.78937301],[12068377.458964175,12068377.458964175,12068377.458964175,12068377.458964175,12068377.458964175,12068377.458964175,12068377.458964175,12068377.458964175,12068377.458964175,12068377.458964175,12068377.458964175,12068377.458964175,12068377.458964175,12068377.458964175,12068377.458964175,12068377.458964175,12068377.458964175,12068377.458964175,12068377.458964175,12068377.458964175],[5416622.170706205,5416622.170706205,5416622.170706205,5416622.170706205,5416622.170706205,5416622.170706205,5416622.170706205,5416622.170706205,5416622.170706205,5416622.170706205,5416622.170706205,5416622.170706205,5416622.170706205,5416622.170706205,5416622.170706205,5416622.170706205,5416622.170706205,5416622.170706205,5416622.170706205,5416622.170706205],[-1822108.1773004795,-1822108.1773004795,-1822108.1773004795,-1822108.1773004795,-1822108.1773004795,-1822108.1773004795,-1822108.1773004795,-1822108.1773004795,-1822108.1773004795,-1822108.1773004795,-1822108.1773004795,-1822108.1773004795,-1822108.1773004795,-1822108.1773004795,-1822108.1773004795,-1822108.1773004795,-1822108.1773004795,-1822108.1773004795,-1822108.1773004795,-1822108.1773004795],[-8863384.831375223,-8863384.831375223,-8863384.831375223,-8863384.831375223,-8863384.831375223,-8863384.831375223,-8863384.831375223,-8863384.831375223,-8863384.831375223,-8863384.831375223,-8863384.831375223,-8863384.831375223,-8863384.831375223,-8863384.831375223,-8863384.831375223,-8863384.831375223,-8863384.831375223,-8863384.831375223,-8863384.831375223,-8863384.831375223],[-14944176.209384639,-14944176.209384639,-14944176.209384639,-14944176.209384639,-14944176.209384639,-14944176.209384639,-14944176.209384639,-14944176.209384639,-14944176.209384639,-14944176.209384639,-14944176.209384639,-14944176.209384639,-14944176.209384639,-14944176.209384639,-14944176.209384639,-14944176.209384639,-14944176.209384639,-14944176.209384639,-14944176.209384639,-14944176.209384639],[-19405534.212321628,-19405534.212321628,-19405534.212321628,-19405534.212321628,-19405534.212321628,-19405534.212321628,-19405534.212321628,-19405534.212321628,-19405534.212321628,-19405534.212321628,-19405534.212321628,-19405534.212321628,-19405534.212321628,-19405534.212321628,-19405534.212321628,-19405534.212321628,-19405534.212321628,-19405534.212321628,-19405534.212321628,-19405534.212321628],[-21764001.475466043,-21764001.475466043,-21764001.475466043,-21764001.475466043,-21764001.475466043,-21764001.475466043,-21764001.475466043,-21764001.475466043,-21764001.475466043,-21764001.475466043,-21764001.475466043,-21764001.475466043,-21764001.475466043,-21764001.475466043,-21764001.475466043,-21764001.475466043,-21764001.475466043,-21764001.475466043,-21764001.475466043,-21764001.475466043],[-21764001.475466046,-21764001.475466046,-21764001.475466046,-21764001.475466046,-21764001.475466046,-21764001.475466046,-21764001.475466046,-21764001.475466046,-21764001.475466046,-21764001.475466046,-21764001.475466046,-21764001.475466046,-21764001.475466046,-21764001.475466046,-21764001.475466046,-21764001.475466046,-21764001.475466046,-21764001.475466046,-21764001.475466046,-21764001.475466046],[-19405534.21232163,-19405534.21232163,-19405534.21232163,-19405534.21232163,-19405534.21232163,-19405534.21232163,-19405534.21232163,-19405534.21232163,-19405534.21232163,-19405534.21232163,-19405534.21232163,-19405534.21232163,-19405534.21232163,-19405534.21232163,-19405534.21232163,-19405534.21232163,-19405534.21232163,-19405534.21232163,-19405534.21232163,-19405534.21232163],[-14944176.20938465,-14944176.20938465,-14944176.20938465,-14944176.20938465,-14944176.20938465,-14944176.20938465,-14944176.20938465,-14944176.20938465,-14944176.20938465,-14944176.20938465,-14944176.20938465,-14944176.20938465,-14944176.20938465,-14944176.20938465,-14944176.20938465,-14944176.20938465,-14944176.20938465,-14944176.20938465,-14944176.20938465,-14944176.20938465],[-8863384.831375236,-8863384.831375236,-8863384.831375236,-8863384.831375236,-8863384.831375236,-8863384.831375236,-8863384.831375236,-8863384.831375236,-8863384.831375236,-8863384.831375236,-8863384.831375236,-8863384.831375236,-8863384.831375236,-8863384.831375236,-8863384.831375236,-8863384.831375236,-8863384.831375236,-8863384.831375236,-8863384.831375236,-8863384.831375236],[-1822108.17730049,-1822108.17730049,-1822108.17730049,-1822108.17730049,-1822108.17730049,-1822108.17730049,-1822108.17730049,-1822108.17730049,-1822108.17730049,-1822108.17730049,-1822108.17730049,-1822108.17730049,-1822108.17730049,-1822108.17730049,-1822108.17730049,-1822108.17730049,-1822108.17730049,-1822108.17730049,-1822108.17730049,-1822108.17730049],[5416622.170706195,5416622.170706195,5416622.170706195,5416622.170706195,5416622.170706195,5416622.170706195,5416622.170706195,5416622.170706195,5416622.170706195,5416622.170706195,5416622.170706195,5416622.170706195,5416622.170706195,5416622.170706195,5416622.170706195,5416622.170706195,5416622.170706195,5416622.170706195,5416622.170706195,5416622.170706195],[12068377.458964165,12068377.458964165,12068377.458964165,12068377.458964165,12068377.458964165,12068377.458964165,12068377.458964165,12068377.458964165,12068377.458964165,12068377.458964165,12068377.458964165,12068377.458964165,12068377.458964165,12068377.458964165,12068377.458964165,12068377.458964165,12068377.458964165,12068377.458964165,12068377.458964165,12068377.458964165],[17412336.789373007,17412336.789373007,17412336.789373007,17412336.789373007,17412336.789373007,17412336.789373007,17412336.789373007,17412336.789373007,17412336.789373007,17412336.789373007,17412336.789373007,17412336.789373007,17412336.789373007,17412336.789373007,17412336.789373007,17412336.789373007,17412336.789373007,17412336.789373007,17412336.789373007,17412336.789373007],[20869399.24841036,20869399.24841036,20869399.24841036,20869399.24841036,20869399.24841036,20869399.24841036,20869399.24841036,20869399.24841036,20869399.24841036,20869399.24841036,20869399.24841036,20869399.24841036,20869399.24841036,20869399.24841036,20869399.24841036,20869399.24841036,20869399.24841036,20869399.24841036,20869399.24841036,20869399.24841036],[22064938.47678856,22064938.47678856,22064938.47678856,22064938.47678856,22064938.47678856,22064938.47678856,22064938.47678856,22064938.47678856,22064938.47678856,22064938.47678856,22064938.47678856,22064938.47678856,22064938.47678856,22064938.47678856,22064938.47678856,22064938.47678856,22064938.47678856,22064938.47678856,22064938.47678856,22064938.47678856]],\"type\":\"surface\"},{\"cauto\":false,\"cmax\":1,\"cmin\":1,\"colorscale\":[[0,\"#ffcc00\"],[1,\"#ffcc00\"]],\"name\":\"Sun\",\"showscale\":false,\"x\":[[0.0,0.0,0.0,0.0,0.0,0.0,0.0,0.0,0.0,0.0,0.0,0.0,0.0,0.0,0.0,0.0,0.0,0.0,0.0,0.0],[5432406.525418914,5138063.755668245,4286932.052717375,2971244.7432501283,1333576.9622393185,-448604.57520872063,-2182172.8461157116,-3679268.829245652,-4777658.944988781,-5358315.5810256535,-5358315.581025654,-4777658.944988782,-3679268.8292456553,-2182172.8461157153,-448604.5752087232,1333576.9622393162,2971244.743250126,4286932.052717373,5138063.755668245,5432406.525418914],[10276127.511336492,9719338.578136288,8109308.498918374,5620509.014956694,2522640.1680414076,-848595.8838763942,-4127873.404454373,-6959831.791104493,-9037584.410271307,-10135974.526014436,-10135974.526014438,-9037584.410271307,-6959831.791104498,-4127873.404454379,-848595.8838763991,2522640.168041403,5620509.014956689,8109308.498918372,9719338.578136288,10276127.511336492],[14006270.630853662,13247372.254586618,11052915.540375607,7660703.923709655,3438336.1688409806,-1156628.6612042459,-5626254.828865174,-9486188.985480025,-12318147.372130148,-13815243.355260089,-13815243.35526009,-12318147.37213015,-9486188.985480033,-5626254.828865183,-1156628.6612042524,3438336.1688409746,7660703.923709649,11052915.540375603,13247372.254586618,14006270.630853662],[16218616.997836748,15339847.59309298,12798767.679377899,8870742.694259895,3981435.094464001,-1339322.7761478012,-6514944.2422298975,-10984570.409890827,-14263847.930468809,-15997416.201375801,-15997416.201375803,-14263847.93046881,-10984570.409890836,-6514944.242229908,-1339322.7761478089,3981435.0944639933,8870742.69425989,12798767.679377895,15339847.59309298,16218616.997836748],[16673424.5553323,15770012.422628026,13157674.74697727,9119498.850132247,4093083.7492711134,-1376880.486561654,-6697638.357173453,-11292603.18721868,-14663839.239136484,-16446020.776584523,-16446020.776584525,-14663839.239136485,-11292603.187218688,-6697638.357173463,-1376880.4865616618,4093083.749271106,9119498.85013224,13157674.746977266,15770012.422628026,16673424.5553323],[15321407.847419307,14491251.709216587,12090743.593382375,8380015.801988489,3761183.2691065925,-1265231.8317545417,-6154539.431550435,-10376907.186419107,-13474776.033334395,-15112443.814345205,-15112443.814345207,-13474776.033334397,-10376907.186419116,-6154539.431550444,-1265231.831754549,3761183.269106586,8380015.8019884825,12090743.593382372,14491251.709216587,15321407.847419307],[12309078.863100877,11642139.018173655,9713592.764227808,6732428.012356723,3021700.2209628336,-1016475.6758821902,-4944500.661000195,-8336712.27766615,-10825511.761627832,-12141199.071095081,-12141199.071095081,-10825511.761627834,-8336712.277666156,-4944500.661000202,-1016475.675882196,3021700.2209628285,6732428.012356717,9713592.764227806,11642139.018173655,12309078.863100877],[7962870.188928002,7531419.918112094,6283823.437148,4355277.183202153,1954769.0673679383,-657568.6082828211,-3198648.521997903,-5393105.236208917,-7003135.315426833,-7854267.0183777055,-7854267.0183777055,-7003135.315426834,-5393105.236208921,-3198648.521997908,-657568.6082828249,1954769.0673679349,4355277.183202149,6283823.437147998,7531419.918112094,7962870.188928002],[2753760.973123312,2604554.6079023466,2173104.337086439,1506164.4921592178,676008.3539564976,-227403.77874777588,-1106173.1834915427,-1865071.5597585866,-2421860.4929587906,-2716203.2627094593,-2716203.2627094598,-2421860.492958791,-1865071.559758588,-1106173.1834915446,-227403.7787477772,676008.3539564963,1506164.4921592167,2173104.3370864387,2604554.6079023466,2753760.973123312],[-2753760.973123308,-2604554.6079023425,-2173104.337086436,-1506164.4921592155,-676008.3539564966,227403.77874777553,1106173.183491541,1865071.5597585835,2421860.4929587874,2716203.262709455,2716203.2627094556,2421860.4929587874,1865071.5597585852,1106173.1834915427,227403.77874777684,-676008.3539564954,-1506164.4921592143,-2173104.3370864354,-2604554.6079023425,-2753760.973123308],[-7962870.188927999,-7531419.918112091,-6283823.437147997,-4355277.183202151,-1954769.0673679376,657568.6082828209,3198648.521997902,5393105.236208915,7003135.31542683,7854267.018377703,7854267.018377704,7003135.315426831,5393105.236208919,3198648.5219979067,657568.6082828246,-1954769.0673679342,-4355277.1832021475,-6283823.437147996,-7531419.918112091,-7962870.188927999],[-12309078.863100868,-11642139.018173646,-9713592.7642278,-6732428.012356717,-3021700.2209628318,1016475.6758821894,4944500.661000191,8336712.277666143,10825511.761627825,12141199.071095072,12141199.071095072,10825511.761627825,8336712.27766615,4944500.661000199,1016475.6758821952,-3021700.220962826,-6732428.012356712,-9713592.764227798,-11642139.018173646,-12309078.863100868],[-15321407.847419303,-14491251.709216584,-12090743.593382372,-8380015.801988487,-3761183.2691065916,1265231.8317545413,6154539.431550433,10376907.186419105,13474776.033334393,15112443.814345201,15112443.814345203,13474776.033334393,10376907.186419114,6154539.431550442,1265231.8317545485,-3761183.269106585,-8380015.801988481,-12090743.593382368,-14491251.709216584,-15321407.847419303],[-16673424.5553323,-15770012.422628026,-13157674.74697727,-9119498.850132247,-4093083.7492711134,1376880.486561654,6697638.357173453,11292603.18721868,14663839.239136484,16446020.776584523,16446020.776584525,14663839.239136485,11292603.187218688,6697638.357173463,1376880.4865616618,-4093083.749271106,-9119498.85013224,-13157674.746977266,-15770012.422628026,-16673424.5553323],[-16218616.99783675,-15339847.593092982,-12798767.6793779,-8870742.694259897,-3981435.094464001,1339322.7761478014,6514944.242229898,10984570.409890829,14263847.93046881,15997416.201375803,15997416.201375805,14263847.930468813,10984570.409890838,6514944.242229909,1339322.7761478089,-3981435.094463994,-8870742.69425989,-12798767.679377897,-15339847.593092982,-16218616.99783675],[-14006270.630853666,-13247372.254586622,-11052915.540375609,-7660703.923709657,-3438336.1688409816,1156628.661204246,5626254.828865175,9486188.98548003,12318147.37213015,13815243.355260093,13815243.355260095,12318147.372130152,9486188.985480037,5626254.8288651835,1156628.6612042529,-3438336.1688409755,-7660703.9237096505,-11052915.540375607,-13247372.254586622,-14006270.630853666],[-10276127.511336496,-9719338.578136291,-8109308.498918377,-5620509.014956696,-2522640.1680414085,848595.8838763945,4127873.404454374,6959831.7911044955,9037584.41027131,10135974.52601444,10135974.52601444,9037584.410271311,6959831.791104501,4127873.4044543803,848595.8838763994,-2522640.168041404,-5620509.014956691,-8109308.498918375,-9719338.578136291,-10276127.511336496],[-5432406.525418919,-5138063.75566825,-4286932.052717378,-2971244.7432501307,-1333576.9622393197,448604.57520872104,2182172.8461157135,3679268.8292456553,4777658.944988785,5358315.581025658,5358315.581025659,4777658.944988785,3679268.829245658,2182172.846115717,448604.5752087236,-1333576.9622393171,-2971244.7432501283,-4286932.0527173765,-5138063.75566825,-5432406.525418919],[-4.097807291965544e-9,-3.875776789907598e-9,-3.2337457337899457e-9,-2.241288150681205e-9,-1.005952219277281e-9,3.38394244042265e-10,1.6460704402921333e-9,2.775369362921845e-9,3.603913950786241e-9,4.0419185415963136e-9,4.041918541596314e-9,3.6039139507862416e-9,2.775369362921847e-9,1.6460704402921358e-9,3.383942440422669e-10,-1.005952219277279e-9,-2.241288150681203e-9,-3.233745733789945e-9,-3.875776789907598e-9,-4.097807291965544e-9]],\"y\":[[0.0,0.0,0.0,0.0,0.0,0.0,0.0,0.0,0.0,0.0,0.0,0.0,0.0,0.0,0.0,0.0,0.0,0.0,0.0,0.0],[0.0,1763899.5153075801,3336653.148410604,4547828.639375331,5266176.3304316485,5413852.102940733,4974852.99552552,3996751.373247443,2585539.7236907193,894144.726289712,-894144.7262897106,-2585539.723690719,-3996751.3732474404,-4974852.995525519,-5413852.102940733,-5266176.330431649,-4547828.639375332,-3336653.1484106053,-1763899.5153075815,-1.3305558526042933e-9],[0.0,3336653.148410604,6311728.154682912,8602829.478842253,9961680.742316065,10241029.32595717,9410603.476188177,7560392.7192162415,4890896.099537156,1691394.9974010088,-1691394.9974010063,-4890896.099537154,-7560392.719216236,-9410603.476188174,-10241029.32595717,-9961680.742316067,-8602829.478842255,-6311728.154682915,-3336653.1484106067,-2.5169253328776584e-9],[0.0,4547828.639375332,8602829.478842253,11725580.257623645,13577682.474367773,13958432.115563506,12826569.04964789,10304748.20247789,6666247.992926531,2305356.3758464367,-2305356.375846433,-6666247.992926528,-10304748.202477882,-12826569.049647886,-13958432.115563506,-13577682.474367775,-11725580.257623648,-8602829.478842257,-4547828.639375336,-3.4305468992133034e-9],[0.0,5266176.3304316485,9961680.742316065,13577682.474367773,15722331.630871087,16163222.198058492,14852576.84185322,11932424.32335818,7719208.478787171,2669496.619679088,-2669496.6196790836,-7719208.478787168,-11932424.32335817,-14852576.841853216,-16163222.198058492,-15722331.63087109,-13577682.474367777,-9961680.74231607,-5266176.330431653,-3.972415478599526e-9],[0.0,5413852.102940734,10241029.32595717,13958432.115563506,16163222.198058493,16616476.3571608,15269077.471768783,12267037.118162503,7935672.950110738,2744355.4832616495,-2744355.4832616453,-7935672.950110735,-12267037.118162494,-15269077.47176878,-16616476.3571608,-16163222.198058495,-13958432.11556351,-10241029.325957173,-5413852.102940738,-4.083811202502516e-9],[0.0,4974852.995525521,9410603.476188177,12826569.04964789,14852576.84185322,15269077.471768783,14030936.633470083,11272326.098521343,7292184.122636982,2521820.8471700037,-2521820.84717,-7292184.122636979,-11272326.098521335,-14030936.633470079,-15269077.471768783,-14852576.841853222,-12826569.049647892,-9410603.476188181,-4974852.995525525,-3.752662615754639e-9],[0.0,3996751.373247443,7560392.7192162415,10304748.20247789,11932424.32335818,12267037.118162503,11272326.098521343,9056083.637944564,5858473.995580609,2026007.792205332,-2026007.792205329,-5858473.995580607,-9056083.637944557,-11272326.09852134,-12267037.118162503,-11932424.323358182,-10304748.202477893,-7560392.719216244,-3996751.373247447,-3.014854806029766e-9],[0.0,2585539.72369072,4890896.099537156,6666247.99292653,7719208.478787171,7935672.950110737,7292184.122636981,5858473.995580609,3789907.3075129124,1310645.3562052755,-1310645.3562052734,-3789907.3075129115,-5858473.995580604,-7292184.122636979,-7935672.950110737,-7719208.478787172,-6666247.9929265315,-4890896.099537157,-2585539.7236907217,-1.950340697779311e-9],[0.0,894144.7262897121,1691394.997401009,2305356.3758464367,2669496.6196790882,2744355.48326165,2521820.847170004,2026007.7922053323,1310645.3562052755,453254.159102307,-453254.1591023063,-1310645.356205275,-2026007.7922053307,-2521820.847170003,-2744355.48326165,-2669496.6196790887,-2305356.375846437,-1691394.9974010095,-894144.7262897128,-6.74476912270473e-10],[0.0,-894144.7262897107,-1691394.9974010065,-2305356.3758464335,-2669496.619679084,-2744355.483261646,-2521820.84717,-2026007.7922053293,-1310645.3562052737,-453254.1591023063,453254.1591023056,1310645.3562052732,2026007.7922053277,2521820.8471699995,2744355.483261646,2669496.6196790845,2305356.375846434,1691394.997401007,894144.7262897115,6.744769122704719e-10],[0.0,-2585539.723690719,-4890896.099537154,-6666247.992926528,-7719208.478787168,-7935672.950110734,-7292184.122636979,-5858473.995580607,-3789907.3075129115,-1310645.356205275,1310645.356205273,3789907.30751291,5858473.995580602,7292184.122636978,7935672.950110734,7719208.478787169,6666247.99292653,4890896.099537156,2585539.7236907207,1.9503406977793103e-9],[0.0,-3996751.3732474404,-7560392.719216236,-10304748.202477882,-11932424.323358173,-12267037.118162494,-11272326.098521335,-9056083.637944557,-5858473.995580605,-2026007.7922053307,2026007.7922053274,5858473.995580602,9056083.637944551,11272326.098521331,12267037.118162494,11932424.323358173,10304748.202477884,7560392.719216239,3996751.3732474437,3.0148548060297637e-9],[0.0,-4974852.995525519,-9410603.476188175,-12826569.049647886,-14852576.841853216,-15269077.47176878,-14030936.633470079,-11272326.09852134,-7292184.12263698,-2521820.847170003,2521820.8471699995,7292184.122636978,11272326.098521331,14030936.633470075,15269077.47176878,14852576.841853218,12826569.04964789,9410603.476188177,4974852.995525524,3.752662615754637e-9],[0.0,-5413852.102940734,-10241029.32595717,-13958432.115563506,-16163222.198058493,-16616476.3571608,-15269077.471768783,-12267037.118162503,-7935672.950110738,-2744355.4832616495,2744355.4832616453,7935672.950110735,12267037.118162494,15269077.47176878,16616476.3571608,16163222.198058495,13958432.11556351,10241029.325957173,5413852.102940738,4.083811202502516e-9],[0.0,-5266176.330431649,-9961680.742316065,-13577682.474367775,-15722331.63087109,-16163222.198058493,-14852576.84185322,-11932424.323358182,-7719208.478787172,-2669496.6196790882,2669496.619679084,7719208.478787169,11932424.323358173,14852576.841853218,16163222.198058493,15722331.630871091,13577682.474367779,9961680.74231607,5266176.330431654,3.972415478599526e-9],[0.0,-4547828.639375333,-8602829.478842255,-11725580.257623648,-13577682.474367777,-13958432.11556351,-12826569.049647892,-10304748.202477893,-6666247.992926532,-2305356.375846437,2305356.375846434,6666247.99292653,10304748.202477885,12826569.04964789,13958432.11556351,13577682.474367779,11725580.25762365,8602829.478842258,4547828.6393753365,3.4305468992133042e-9],[0.0,-3336653.1484106053,-6311728.154682915,-8602829.478842257,-9961680.74231607,-10241029.325957173,-9410603.47618818,-7560392.719216244,-4890896.099537157,-1691394.9974010095,1691394.997401007,4890896.099537156,7560392.719216239,9410603.476188177,10241029.325957173,9961680.742316071,8602829.478842258,6311728.154682917,3336653.148410608,2.516925332877659e-9],[0.0,-1763899.5153075815,-3336653.1484106067,-4547828.639375335,-5266176.330431653,-5413852.102940737,-4974852.995525525,-3996751.3732474465,-2585539.7236907217,-894144.7262897127,894144.7262897114,2585539.7236907207,3996751.3732474437,4974852.995525524,5413852.102940737,5266176.330431654,4547828.6393753365,3336653.148410608,1763899.5153075831,1.3305558526042945e-9],[0.0,-1.3305558526042935e-9,-2.5169253328776584e-9,-3.4305468992133034e-9,-3.972415478599526e-9,-4.083811202502516e-9,-3.752662615754639e-9,-3.0148548060297662e-9,-1.9503406977793116e-9,-6.744769122704729e-10,6.744769122704719e-10,1.9503406977793107e-9,3.0148548060297637e-9,3.752662615754638e-9,4.083811202502516e-9,3.9724154785995265e-9,3.4305468992133042e-9,2.516925332877659e-9,1.3305558526042947e-9,1.0036733167256574e-24]],\"z\":[[16730567.92708966,16730567.92708966,16730567.92708966,16730567.92708966,16730567.92708966,16730567.92708966,16730567.92708966,16730567.92708966,16730567.92708966,16730567.92708966,16730567.92708966,16730567.92708966,16730567.92708966,16730567.92708966,16730567.92708966,16730567.92708966,16730567.92708966,16730567.92708966,16730567.92708966,16730567.92708966],[15824059.608885046,15824059.608885046,15824059.608885046,15824059.608885046,15824059.608885046,15824059.608885046,15824059.608885046,15824059.608885046,15824059.608885046,15824059.608885046,15824059.608885046,15824059.608885046,15824059.608885046,15824059.608885046,15824059.608885046,15824059.608885046,15824059.608885046,15824059.608885046,15824059.608885046,15824059.608885046],[13202768.8964745,13202768.8964745,13202768.8964745,13202768.8964745,13202768.8964745,13202768.8964745,13202768.8964745,13202768.8964745,13202768.8964745,13202768.8964745,13202768.8964745,13202768.8964745,13202768.8964745,13202768.8964745,13202768.8964745,13202768.8964745,13202768.8964745,13202768.8964745,13202768.8964745,13202768.8964745],[9150753.312063841,9150753.312063841,9150753.312063841,9150753.312063841,9150753.312063841,9150753.312063841,9150753.312063841,9150753.312063841,9150753.312063841,9150753.312063841,9150753.312063841,9150753.312063841,9150753.312063841,9150753.312063841,9150753.312063841,9150753.312063841,9150753.312063841,9150753.312063841,9150753.312063841,9150753.312063841],[4107111.6177238366,4107111.6177238366,4107111.6177238366,4107111.6177238366,4107111.6177238366,4107111.6177238366,4107111.6177238366,4107111.6177238366,4107111.6177238366,4107111.6177238366,4107111.6177238366,4107111.6177238366,4107111.6177238366,4107111.6177238366,4107111.6177238366,4107111.6177238366,4107111.6177238366,4107111.6177238366,4107111.6177238366,4107111.6177238366],[-1381599.348799459,-1381599.348799459,-1381599.348799459,-1381599.348799459,-1381599.348799459,-1381599.348799459,-1381599.348799459,-1381599.348799459,-1381599.348799459,-1381599.348799459,-1381599.348799459,-1381599.348799459,-1381599.348799459,-1381599.348799459,-1381599.348799459,-1381599.348799459,-1381599.348799459,-1381599.348799459,-1381599.348799459,-1381599.348799459],[-6720592.588157629,-6720592.588157629,-6720592.588157629,-6720592.588157629,-6720592.588157629,-6720592.588157629,-6720592.588157629,-6720592.588157629,-6720592.588157629,-6720592.588157629,-6720592.588157629,-6720592.588157629,-6720592.588157629,-6720592.588157629,-6720592.588157629,-6720592.588157629,-6720592.588157629,-6720592.588157629,-6720592.588157629,-6720592.588157629],[-11331305.339850498,-11331305.339850498,-11331305.339850498,-11331305.339850498,-11331305.339850498,-11331305.339850498,-11331305.339850498,-11331305.339850498,-11331305.339850498,-11331305.339850498,-11331305.339850498,-11331305.339850498,-11331305.339850498,-11331305.339850498,-11331305.339850498,-11331305.339850498,-11331305.339850498,-11331305.339850498,-11331305.339850498,-11331305.339850498],[-14714095.334652515,-14714095.334652515,-14714095.334652515,-14714095.334652515,-14714095.334652515,-14714095.334652515,-14714095.334652515,-14714095.334652515,-14714095.334652515,-14714095.334652515,-14714095.334652515,-14714095.334652515,-14714095.334652515,-14714095.334652515,-14714095.334652515,-14714095.334652515,-14714095.334652515,-14714095.334652515,-14714095.334652515,-14714095.334652515],[-16502384.787231939,-16502384.787231939,-16502384.787231939,-16502384.787231939,-16502384.787231939,-16502384.787231939,-16502384.787231939,-16502384.787231939,-16502384.787231939,-16502384.787231939,-16502384.787231939,-16502384.787231939,-16502384.787231939,-16502384.787231939,-16502384.787231939,-16502384.787231939,-16502384.787231939,-16502384.787231939,-16502384.787231939,-16502384.787231939],[-16502384.78723194,-16502384.78723194,-16502384.78723194,-16502384.78723194,-16502384.78723194,-16502384.78723194,-16502384.78723194,-16502384.78723194,-16502384.78723194,-16502384.78723194,-16502384.78723194,-16502384.78723194,-16502384.78723194,-16502384.78723194,-16502384.78723194,-16502384.78723194,-16502384.78723194,-16502384.78723194,-16502384.78723194,-16502384.78723194],[-14714095.334652517,-14714095.334652517,-14714095.334652517,-14714095.334652517,-14714095.334652517,-14714095.334652517,-14714095.334652517,-14714095.334652517,-14714095.334652517,-14714095.334652517,-14714095.334652517,-14714095.334652517,-14714095.334652517,-14714095.334652517,-14714095.334652517,-14714095.334652517,-14714095.334652517,-14714095.334652517,-14714095.334652517,-14714095.334652517],[-11331305.339850508,-11331305.339850508,-11331305.339850508,-11331305.339850508,-11331305.339850508,-11331305.339850508,-11331305.339850508,-11331305.339850508,-11331305.339850508,-11331305.339850508,-11331305.339850508,-11331305.339850508,-11331305.339850508,-11331305.339850508,-11331305.339850508,-11331305.339850508,-11331305.339850508,-11331305.339850508,-11331305.339850508,-11331305.339850508],[-6720592.588157639,-6720592.588157639,-6720592.588157639,-6720592.588157639,-6720592.588157639,-6720592.588157639,-6720592.588157639,-6720592.588157639,-6720592.588157639,-6720592.588157639,-6720592.588157639,-6720592.588157639,-6720592.588157639,-6720592.588157639,-6720592.588157639,-6720592.588157639,-6720592.588157639,-6720592.588157639,-6720592.588157639,-6720592.588157639],[-1381599.3487994669,-1381599.3487994669,-1381599.3487994669,-1381599.3487994669,-1381599.3487994669,-1381599.3487994669,-1381599.3487994669,-1381599.3487994669,-1381599.3487994669,-1381599.3487994669,-1381599.3487994669,-1381599.3487994669,-1381599.3487994669,-1381599.3487994669,-1381599.3487994669,-1381599.3487994669,-1381599.3487994669,-1381599.3487994669,-1381599.3487994669,-1381599.3487994669],[4107111.617723829,4107111.617723829,4107111.617723829,4107111.617723829,4107111.617723829,4107111.617723829,4107111.617723829,4107111.617723829,4107111.617723829,4107111.617723829,4107111.617723829,4107111.617723829,4107111.617723829,4107111.617723829,4107111.617723829,4107111.617723829,4107111.617723829,4107111.617723829,4107111.617723829,4107111.617723829],[9150753.312063834,9150753.312063834,9150753.312063834,9150753.312063834,9150753.312063834,9150753.312063834,9150753.312063834,9150753.312063834,9150753.312063834,9150753.312063834,9150753.312063834,9150753.312063834,9150753.312063834,9150753.312063834,9150753.312063834,9150753.312063834,9150753.312063834,9150753.312063834,9150753.312063834,9150753.312063834],[13202768.896474496,13202768.896474496,13202768.896474496,13202768.896474496,13202768.896474496,13202768.896474496,13202768.896474496,13202768.896474496,13202768.896474496,13202768.896474496,13202768.896474496,13202768.896474496,13202768.896474496,13202768.896474496,13202768.896474496,13202768.896474496,13202768.896474496,13202768.896474496,13202768.896474496,13202768.896474496],[15824059.608885046,15824059.608885046,15824059.608885046,15824059.608885046,15824059.608885046,15824059.608885046,15824059.608885046,15824059.608885046,15824059.608885046,15824059.608885046,15824059.608885046,15824059.608885046,15824059.608885046,15824059.608885046,15824059.608885046,15824059.608885046,15824059.608885046,15824059.608885046,15824059.608885046,15824059.608885046],[16730567.92708966,16730567.92708966,16730567.92708966,16730567.92708966,16730567.92708966,16730567.92708966,16730567.92708966,16730567.92708966,16730567.92708966,16730567.92708966,16730567.92708966,16730567.92708966,16730567.92708966,16730567.92708966,16730567.92708966,16730567.92708966,16730567.92708966,16730567.92708966,16730567.92708966,16730567.92708966]],\"type\":\"surface\"},{\"line\":{\"color\":\"red\",\"dash\":\"dash\",\"width\":5},\"mode\":\"lines\",\"name\":\"2021-05-27 13:19 (BODY#2)\",\"x\":[-61179200.68003837,-55733145.60721322,-50049500.41528234,-44138370.41798354,-38010265.388736956,-31676080.87465188,-25147078.82464072,-18434867.566085532,-11551381.165655272,-4508858.210970933,2680179.949157162,10002951.467229845,17446436.722717654,24997401.470471803,32642420.370728064,40367900.858871415,48160107.31252029,56005185.472960584,63889187.07751397,71798094.65903856,79717846.46847372,87634361.47611831,95533564.40718558,103401410.7671303,111223911.812246,118987159.42114052,126677350.82286946,134280813.13775918,141784027.68728682,149173654.029798,156436553.67932573,163559813.46533796,170530768.49188453,177337024.65531918,183966480.68056405,190407349.63673517,196648179.8938751,202677875.48353297,208485715.8269924,214061374.79606855,219394939.07258657,224476925.7739006,229298299.31311294,233850487.464017,238125396.6022035,242115426.09522924,245813481.81626377,249212988.7571881,252307902.7187195,255092721.05677736,257562492.46598268,259712825.78289956,261539897.79336238,263040460.03001192,264211844.54795164,265051968.6682559,265559338.68089738,265733052.5005091,265572801.27025914,265078869.91098678,264252136.61462387,263094071.28280136,261606732.91341782,259792765.9398167,257655395.52907988,255198421.84779856,252426213.30551574,249343698.78785342,245956358.89313367,242270216.1880752,238291824.49988914,234028257.26381347,229487094.94680384,224676411.56973892,219604760.352107,214281158.50469324,208715071.19730815,202916394.73006085,196895438.9380991,190662908.8610981,184229885.7100911,177607807.16548005,170808447.04125822,163843894.35159677,156726531.81702092,149469013.84838286,142084244.0477823,134585352.26643232,126985671.26026297,119298712.98476821,111538144.5712415,103717764.02711546,95851475.70360851,87953265.57429534,80037176.36855644,72117282.60411772,64207665.56307194,56322388.25587171,48475470.41781213,40680863.582451634,32952426.276294757,25303899.378838114,17748881.69178782,10300805.760885578,2972913.993334122,-4221764.886720589,-11270439.002785293,-18160576.06950889,-24879925.67462847,-31416541.05975573,-37758800.36127654,-43895427.27360074,-49815511.09802231,-55508526.14154308,-60964350.43117064,-66173283.71041792,-71126064.6860038,-75813887.49409556,-80228417.35681327,-84361805.40116033,-88206702.61403371,-91756272.90850066,-95004205.27811235,-97944725.0176423,-100572603.99030207,-102883169.9231774,-104872314.71435921,-106536501.73699851,-107872772.12730043,-108878750.04527543,-109552646.89889656,-109893264.52415055,-109899997.31532988,-109572833.30177754,-108912354.16917042,-107919734.22530344,-106596738.31221305,-104945718.66835268,-102969610.74639848,-100671927.99412158,-98056755.60760604,-95128743.26791967,-91893096.87415041,-88355569.28750798,-84522450.10294642,-80400554.46649379,-75997210.95817159,-71320248.56204592,-66377982.74658088,-61179200.680038266],\"y\":[-138863826.06405175,-144428876.50746182,-149778291.5787836,-154902560.2132366,-159792571.64818883,-164439631.62175998,-168835477.8309024,-172972294.62147388,-176842726.88418552,-180439893.13171795,-183757397.73375458,-186789342.28817868,-189530336.10821715,-191975505.80688512,-194120503.96169,-195961516.84418997,-197495271.20066398,-198719040.07183757,-199630647.64131677,-200228473.10411042,-200511453.548362,-200479085.84516856,-200131427.5431251,-199469096.76600558,-198493271.11376128,-197205685.56879103,-195608629.41120607,-193704942.14857304,-191498008.46737373,-188991752.21515572,-186190629.42407435,-183099620.38823113,-179724220.8088913,-176070432.0233286,-172144750.33466592,-167954155.46168584,-163506098.1291451,-158808486.82065824,-153869673.7177014,-148698439.84973955,-143303979.48187608,-137695883.76778522,-131884123.69698998,-125879032.36680794,-119691286.61048037,-113331888.01415226,-106812143.35645454,-100143644.50546327,-93338247.80878241,-86408053.0133887,-79365381.75272536,-72222755.63928503,-64992874.00164165,-57688591.30550696,-50322894.29895957,-42908878.92248022,-35459727.02484912,-27988682.926298004,-20509029.87059317,-13034066.407912968,-5577082.750509857,1848662.8568009597,9229967.709317306,16553708.116377704,23806862.73480351,30976535.72037259,38049979.65615957,45014618.21697785,51858068.529626854,58568163.18918886,65132971.89223057,71540822.6484477,77780322.53303726,83840377.94290282,89710214.3206751,95379395.3114824,100837841.31840843,106075847.42364818,111084100.643497,115853696.4864963,120376154.78529413,124643434.77407324,128647949.38473934,132382578.73645175,135840682.79451063,139016113.17609775,141903224.08187532,144496882.33401242,146792476.50278702,148785925.1055402,150473683.8634032,151852752.00289595,152920677.5911928,153675561.89556953,154116062.75928098,154241396.9878666,154051341.7416419,153546234.93189886,152726974.62011248,151595017.42121977,150152375.9138117,148401615.06184235,146345847.654216,143988728.77036205,141334449.28163773,138387728.4001114,135153805.28797573,131638429.74250849,127847851.97314301,123788811.4888234,119468525.11540431,114894674.1643975,110075390.7758802,105019243.4598471,99735221.86171225,94232720.77904698,88521523.45797363,82611784.19891034,76514010.30259545,70239043.38849066,63798040.11877671,57202452.36221598,50464006.83314616,43594684.24181215,36606697.993099034,29512472.47154448,22324620.95123615,15055923.169871155,7719302.606847539,327803.50579125824,-7105432.317633943,-14567188.841395205,-22044199.334695175,-29523169.945735015,-36990803.337699085,-44433822.33093254,-51838993.50928354,-59193150.748634,-66483218.62578755,-73696235.66609485,-80819377.38848361,-87839979.10691579,-94745558.44773903,-101523837.5428906,-108162764.8594991,-114650536.62707013,-120975617.82415885,-127126762.68721865,-133093034.70515662,-138863826.06405184],\"z\":[-202082.03829411644,1931244.5754872903,4103546.2701631654,6310960.772594237,8549563.380350437,10815373.939688414,13104363.922119983,15412463.586988486,17735569.217319272,20069550.41607868,22410257.44986939,24753528.627004743,27095197.696844712,29431101.257237755,31757086.156897612,34069016.87955484,36362782.89675394,38634305.97622262,40879547.432820395,43094515.309173085,45275271.47322721,47417938.620105594,49518707.16581327,51573842.02053948,53579689.22951061,55532682.46958836,57429349.39006248,59266317.78636355,61040321.59571937,62748206.704095624,64386936.554095544,65953597.54384798,67445404.20728533,68859704.16660048,70193982.84807785,71445867.95291361,72613133.67507641,73693704.65870924,74685659.68803655,75587235.10321563,76396827.93605942,77112998.76005563,77734474.24961445,78260149.4439949,78689089.71188484,79020532.41314133,79253888.25473686,79388742.33850089,79424854.89879376,79362161.72880112,79200774.29469138,78940979.53743283,78583239.36262318,78128189.81923825,77576639.96876007,76929570.44669501,76188131.71903989,75353642.0367951,74427585.09216258,73411607.38059536,72307515.27338849,71117271.806017,69842993.18793024,68486945.04000896,67051538.36637385,65539325.267708376,63952994.40371673,62295366.21278511,60569387.89734517,58778128.18385562,56924771.86671859,55012614.14583138,53045054.76784141,51025591.98152051,48957816.31800652,46845404.206969865,44692111.44005568,42501766.49322337,40278263.71985618,38025556.42674281,35747649.845242366,33448594.010129075,31132476.558778446,28803415.463496707,26465551.709916975,24123041.934477307,21780051.034073297,19440744.761023063,17109282.316511758,14789808.95568371,12486448.617529871,10203296.592674881,7944412.242099901,5713811.779746775,3515461.131836247,1353268.8855958898,-768920.6600653088,-2847334.329580399,-4878276.779292462,-6858137.0676411055,-8783395.075284712,-10650627.763744116,-12456515.26144012,-14197846.766304221,-15871526.254467126,-17474577.98487647,-19004151.79005576,-20457528.143598124,-21832122.995385025,-23125492.365933143,-24335336.691700567,-25459504.913626898,-26495998.30163785,-27442974.008314304,-28298748.34540773,-29061799.777376644,-29730771.626620993,-30304474.485605612,-30781888.331583396,-31162164.340158433,-31444626.39446489,-31628772.28727812,-31714274.613920737,-31700981.35437619,-31588916.143574856,-31378278.22937193,-31069442.11829207,-30662956.90967042,-30159545.319374006,-29560102.3948394,-28865693.923710953,-28077554.538909268,-27197085.523498945,-26225852.31925848,-25165581.743381705,-24018158.9182601,-22785623.919803828,-21470168.150261227,-20074130.441985633,-18599992.899076793,-17050376.484290153,-15428036.359061139,-13735856.984928293,-11976846.995066151,-10154133.845045118,-8270958.25232963,-6330668.4344009105,-4336714.155748026,-2292640.5943131214,-202082.03829407817],\"type\":\"scatter3d\"},{\"cauto\":false,\"cmax\":1,\"cmin\":1,\"colorscale\":[[0,\"red\"],[1,\"red\"]],\"name\":\"2021-05-27 13:19 (BODY#2)\",\"showscale\":false,\"x\":[[-61179200.68003832,-61179200.68003832,-61179200.68003832,-61179200.68003832,-61179200.68003832,-61179200.68003832,-61179200.68003832,-61179200.68003832,-61179200.68003832,-61179200.68003832,-61179200.68003832,-61179200.68003832,-61179200.68003832,-61179200.68003832,-61179200.68003832,-61179200.68003832,-61179200.68003832,-61179200.68003832,-61179200.68003832,-61179200.68003832],[-58462997.417328864,-58610168.80220419,-59035734.65367963,-59693578.30841325,-60512412.198918656,-61403502.96764268,-62270287.10309617,-63018835.09466115,-63568030.15253271,-63858358.47055115,-63858358.47055115,-63568030.15253271,-63018835.09466115,-62270287.10309617,-61403502.96764268,-60512412.19891866,-59693578.30841325,-59035734.65367963,-58610168.80220419,-58462997.417328864],[-56041136.92437007,-56319531.39097017,-57124546.43057913,-58368946.17255997,-59917880.596017614,-61603498.62197652,-63243137.38226551,-64659116.575590566,-65697992.88517397,-66247187.943045534,-66247187.943045534,-65697992.88517397,-64659116.575590566,-63243137.38226551,-61603498.62197652,-59917880.596017614,-58368946.17255998,-57124546.43057913,-56319531.39097017,-56041136.92437007],[-54176065.364611484,-54555514.55274501,-55652742.909850515,-57348848.71818349,-59460032.59561783,-61757515.01064044,-63992328.0944709,-65922295.17277833,-67338274.3661034,-68086822.35766837,-68086822.35766837,-67338274.3661034,-65922295.17277834,-63992328.09447091,-61757515.01064044,-59460032.59561783,-57348848.718183495,-55652742.909850515,-54555514.55274501,-54176065.364611484],[-53069892.18111994,-53509276.88349183,-54779816.84034937,-56743829.33290837,-59188483.132806316,-61848862.06811222,-64436672.801153265,-66671485.88498373,-68311124.64527272,-69177908.78072622,-69177908.78072622,-68311124.64527272,-66671485.88498373,-64436672.80115327,-61848862.068112224,-59188483.13280632,-56743829.33290838,-54779816.84034937,-53509276.88349183,-53069892.18111994],[-52842488.40237217,-53294194.4687243,-54600363.30654968,-56619451.2549722,-59132658.80540276,-61867640.923319146,-64528019.85862505,-66825502.27364766,-68511120.29960656,-69402211.06833059,-69402211.06833059,-68511120.29960656,-66825502.273647666,-64528019.85862505,-61867640.923319146,-59132658.80540276,-56619451.2549722,-54600363.30654968,-53294194.4687243,-52842488.40237217],[-53518496.756328665,-53933574.82543002,-55133828.88334713,-56989192.77904408,-59298609.04548502,-61811816.595915586,-64256470.39581353,-66367654.27324787,-67916588.69670552,-68735422.58721092,-68735422.58721092,-67916588.69670552,-66367654.273247875,-64256470.39581354,-61811816.59591559,-59298609.04548503,-56989192.77904408,-55133828.88334713,-53933574.82543002,-53518496.756328665],[-55024661.24848788,-55358131.17095149,-56322404.297924414,-57812986.673859954,-59668350.5695569,-61687438.51797941,-63651451.010538414,-65347556.818871394,-66591956.56085224,-67249800.21558586,-67249800.21558586,-66591956.56085224,-65347556.818871394,-63651451.01053842,-61687438.51797941,-59668350.56955691,-57812986.67385996,-56322404.297924414,-55358131.17095149,-55024661.24848788],[-57197765.585574314,-57413490.72098227,-58037288.961464316,-59001562.088437244,-60201816.14635435,-61507984.98417973,-62778524.94103727,-63875753.298142776,-64680768.33775173,-65106334.18922717,-65106334.18922717,-64680768.33775173,-63875753.298142776,-62778524.941037275,-61507984.98417973,-60201816.14635435,-59001562.088437244,-58037288.961464316,-57413490.72098227,-57197765.585574314],[-59802320.19347666,-59876923.376087144,-60092648.5114951,-60426118.43395871,-60841196.50306007,-61292902.56941221,-61732287.27178409,-62111736.45991761,-62390130.92651771,-62537302.311393045,-62537302.311393045,-62390130.92651771,-62111736.45991761,-61732287.27178409,-61292902.56941221,-60841196.50306007,-60426118.43395871,-60092648.5114951,-59876923.376087144,-59802320.19347666],[-62556081.166599974,-62481477.98398949,-62265752.84858154,-61932282.92611793,-61517204.85701656,-61065498.79066443,-60626114.08829255,-60246664.90015902,-59968270.433558926,-59821099.04868359,-59821099.04868359,-59968270.433558926,-60246664.90015902,-60626114.08829255,-61065498.79066443,-61517204.85701656,-61932282.92611793,-62265752.84858154,-62481477.98398949,-62556081.166599974],[-65160635.774502315,-64944910.63909436,-64321112.39861232,-63356839.27163939,-62156585.21372229,-60850416.37589691,-59579876.41903937,-58482648.06193386,-57677633.022324905,-57252067.170849465,-57252067.170849465,-57677633.022324905,-58482648.06193386,-59579876.41903936,-60850416.37589691,-62156585.21372229,-63356839.27163939,-64321112.39861231,-64944910.63909436,-65160635.774502315],[-67333740.11158875,-67000270.18912514,-66035997.06215222,-64545414.686216675,-62690050.79051974,-60670962.84209722,-58706950.34953822,-57010844.54120525,-55766444.79922441,-55108601.14449078,-55108601.14449078,-55766444.79922441,-57010844.54120524,-58706950.34953822,-60670962.84209722,-62690050.79051973,-64545414.686216675,-66035997.062152214,-67000270.18912514,-67333740.11158875],[-68839904.60374796,-68424826.53464662,-67224572.4767295,-65369208.58103256,-63059792.31459162,-60546584.76416105,-58101930.964263104,-55990747.08682877,-54441812.66337112,-53622978.77286572,-53622978.77286571,-54441812.66337112,-55990747.08682876,-58101930.9642631,-60546584.76416104,-63059792.31459161,-65369208.58103256,-67224572.4767295,-68424826.53464662,-68839904.60374796],[-69515912.95770447,-69064206.89135233,-67758038.05352695,-65738950.10510444,-63225742.55467387,-60490760.43675749,-57830381.50145159,-55532899.08642898,-53847281.060470074,-52956190.29174606,-52956190.29174606,-53847281.060470074,-55532899.08642897,-57830381.50145159,-60490760.43675749,-63225742.55467387,-65738950.10510444,-67758038.05352695,-69064206.89135233,-69515912.95770447],[-69288509.17895669,-68849124.4765848,-67578584.51972727,-65614572.02716827,-63169918.22727032,-60509539.29196442,-57921728.55892337,-55686915.4750929,-54047276.71480391,-53180492.57935042,-53180492.57935041,-54047276.71480391,-55686915.4750929,-57921728.55892336,-60509539.29196441,-63169918.22727031,-65614572.02716826,-67578584.51972726,-68849124.4765848,-69288509.17895669],[-68182335.99546514,-67802886.80733162,-66705658.45022612,-65009552.64189315,-62898368.764458805,-60600886.34943619,-58366073.26560573,-56436106.187298305,-55020126.99397324,-54271579.00240827,-54271579.00240827,-55020126.99397324,-56436106.1872983,-58366073.265605725,-60600886.34943619,-62898368.764458805,-65009552.64189314,-66705658.45022612,-67802886.80733162,-68182335.99546514],[-66317264.43570656,-66038869.969106466,-65233854.92949751,-63989455.18751667,-62440520.76405902,-60754902.73810012,-59115263.97781113,-57699284.78448607,-56660408.47490266,-56111213.417031094,-56111213.417031094,-56660408.47490266,-57699284.78448607,-59115263.97781113,-60754902.73810012,-62440520.76405902,-63989455.18751667,-65233854.9294975,-66038869.969106466,-66317264.43570656],[-63895403.94274778,-63748232.557872444,-63322666.706397004,-62664823.051663384,-61845989.16115798,-60954898.392433956,-60088114.256980464,-59339566.26541549,-58790371.207543924,-58500042.88952549,-58500042.88952549,-58790371.207543924,-59339566.26541549,-60088114.25698046,-60954898.392433956,-61845989.16115797,-62664823.051663384,-63322666.706397004,-63748232.557872444,-63895403.94274778],[-61179200.68003832,-61179200.68003832,-61179200.68003832,-61179200.68003832,-61179200.68003832,-61179200.68003832,-61179200.68003832,-61179200.68003832,-61179200.68003832,-61179200.68003832,-61179200.68003832,-61179200.68003832,-61179200.68003832,-61179200.68003832,-61179200.68003832,-61179200.68003832,-61179200.68003832,-61179200.68003832,-61179200.68003832,-61179200.68003832]],\"y\":[[-138863826.06405178,-138863826.06405178,-138863826.06405178,-138863826.06405178,-138863826.06405178,-138863826.06405178,-138863826.06405178,-138863826.06405178,-138863826.06405178,-138863826.06405178,-138863826.06405178,-138863826.06405178,-138863826.06405178,-138863826.06405178,-138863826.06405178,-138863826.06405178,-138863826.06405178,-138863826.06405178,-138863826.06405178,-138863826.06405178],[-138863826.06405178,-137981876.30639797,-137195499.48984647,-136589911.7443641,-136230737.89883596,-136156900.0125814,-136376399.566289,-136865450.37742805,-137571056.2022064,-138416753.70090693,-139310898.42719662,-140156595.92589715,-140862201.7506755,-141351252.56181455,-141570752.11552215,-141496914.2292676,-141137740.38373944,-140532152.6382571,-139745775.82170558,-138863826.06405178],[-138863826.06405178,-137195499.48984647,-135707961.9867103,-134562411.32463065,-133882985.69289374,-133743311.40107319,-134158524.32595769,-135083629.70444366,-136418378.0142832,-138018128.56535128,-139709523.56275228,-141309274.11382034,-142644022.4236599,-143569127.80214587,-143984340.72703037,-143844666.4352098,-143165240.8034729,-142019690.14139324,-140532152.6382571,-138863826.06405178],[-138863826.06405178,-136589911.7443641,-134562411.32463065,-133001035.93523996,-132074984.8268679,-131884610.00627002,-132450541.53922783,-133711451.96281283,-135530702.0675885,-137711147.87612855,-140016504.251975,-142196950.06051505,-144016200.1652907,-145277110.5888757,-145843042.12183353,-145652667.30123568,-144726616.1928636,-143165240.8034729,-141137740.38373944,-138863826.06405178],[-138863826.06405178,-136230737.89883596,-133882985.69289374,-132074984.8268679,-131002660.24861623,-130782214.96502253,-131437537.64312516,-132897613.90237269,-135004221.8246582,-137529077.75421223,-140198574.37389132,-142723430.30344537,-144830038.22573087,-146290114.48497838,-146945437.16308102,-146724991.87948734,-145652667.30123568,-143844666.4352098,-141496914.2292676,-138863826.06405178],[-138863826.06405178,-136156900.0125814,-133743311.40107319,-131884610.00627002,-130782214.96502253,-130555587.88547137,-131229287.32816738,-132730307.50497052,-134895989.5889964,-137491648.32242095,-140236003.8056826,-142831662.53910714,-144997344.62313303,-146498364.79993618,-147172064.24263218,-146945437.16308102,-145843042.12183353,-143984340.72703037,-141570752.11552215,-138863826.06405178],[-138863826.06405178,-136376399.566289,-134158524.32595769,-132450541.53922783,-131437537.64312516,-131229287.32816738,-131848357.74731673,-133227663.0147911,-135217734.0027333,-137602915.64046678,-140124736.48763677,-142509918.12537026,-144499989.11331245,-145879294.3807868,-146498364.79993618,-146290114.48497838,-145277110.5888757,-143569127.80214587,-141351252.56181455,-138863826.06405178],[-138863826.06405178,-136865450.37742805,-135083629.70444366,-133711451.96281283,-132897613.90237269,-132730307.50497052,-133227663.0147911,-134335784.2450795,-135934589.06626147,-137850822.1679491,-139876829.96015444,-141793063.06184208,-143391867.88302407,-144499989.11331245,-144997344.62313303,-144830038.22573087,-144016200.1652907,-142644022.4236599,-140862201.7506755,-138863826.06405178],[-138863826.06405178,-137571056.2022064,-136418378.0142832,-135530702.0675885,-135004221.8246582,-134895989.5889964,-135217734.0027333,-135934589.06626147,-136968872.4102953,-138208503.38594913,-139519148.74215442,-140758779.71780825,-141793063.06184208,-142509918.12537026,-142831662.53910714,-142723430.30344537,-142196950.06051505,-141309274.11382034,-140156595.92589715,-138863826.06405178],[-138863826.06405178,-138416753.70090693,-138018128.56535128,-137711147.87612855,-137529077.75421223,-137491648.32242095,-137602915.64046678,-137850822.1679491,-138208503.38594913,-138637198.98450062,-139090453.14360294,-139519148.74215442,-139876829.96015444,-140124736.48763677,-140236003.8056826,-140198574.37389132,-140016504.251975,-139709523.56275228,-139310898.42719662,-138863826.06405178],[-138863826.06405178,-139310898.42719662,-139709523.56275228,-140016504.251975,-140198574.37389132,-140236003.8056826,-140124736.48763677,-139876829.96015444,-139519148.74215442,-139090453.14360294,-138637198.98450062,-138208503.38594913,-137850822.1679491,-137602915.64046678,-137491648.32242095,-137529077.75421223,-137711147.87612855,-138018128.56535128,-138416753.70090693,-138863826.06405178],[-138863826.06405178,-140156595.92589715,-141309274.11382034,-142196950.06051505,-142723430.30344537,-142831662.53910714,-142509918.12537026,-141793063.06184208,-140758779.71780825,-139519148.74215442,-138208503.38594913,-136968872.4102953,-135934589.06626147,-135217734.0027333,-134895989.5889964,-135004221.8246582,-135530702.0675885,-136418378.0142832,-137571056.2022064,-138863826.06405178],[-138863826.06405178,-140862201.7506755,-142644022.4236599,-144016200.1652907,-144830038.22573087,-144997344.62313303,-144499989.11331245,-143391867.88302407,-141793063.06184208,-139876829.96015444,-137850822.1679491,-135934589.06626147,-134335784.2450795,-133227663.01479112,-132730307.50497054,-132897613.90237269,-133711451.96281284,-135083629.70444366,-136865450.37742805,-138863826.06405178],[-138863826.06405178,-141351252.56181455,-143569127.80214587,-145277110.5888757,-146290114.48497838,-146498364.79993618,-145879294.3807868,-144499989.11331245,-142509918.12537026,-140124736.48763677,-137602915.64046678,-135217734.0027333,-133227663.01479112,-131848357.74731673,-131229287.3281674,-131437537.64312516,-132450541.53922783,-134158524.32595769,-136376399.566289,-138863826.06405178],[-138863826.06405178,-141570752.11552215,-143984340.72703037,-145843042.12183353,-146945437.16308102,-147172064.24263218,-146498364.79993618,-144997344.62313303,-142831662.53910714,-140236003.8056826,-137491648.32242095,-134895989.5889964,-132730307.50497054,-131229287.3281674,-130555587.88547137,-130782214.96502253,-131884610.00627002,-133743311.40107319,-136156900.0125814,-138863826.06405178],[-138863826.06405178,-141496914.2292676,-143844666.4352098,-145652667.30123568,-146724991.87948734,-146945437.16308102,-146290114.48497838,-144830038.22573087,-142723430.30344537,-140198574.37389132,-137529077.75421223,-135004221.8246582,-132897613.90237269,-131437537.64312516,-130782214.96502253,-131002660.24861623,-132074984.8268679,-133882985.69289374,-136230737.89883596,-138863826.06405178],[-138863826.06405178,-141137740.38373944,-143165240.8034729,-144726616.1928636,-145652667.30123568,-145843042.12183353,-145277110.5888757,-144016200.1652907,-142196950.06051505,-140016504.251975,-137711147.87612855,-135530702.0675885,-133711451.96281284,-132450541.53922783,-131884610.00627002,-132074984.8268679,-133001035.93523996,-134562411.32463065,-136589911.7443641,-138863826.06405178],[-138863826.06405178,-140532152.6382571,-142019690.14139324,-143165240.8034729,-143844666.4352098,-143984340.72703037,-143569127.80214587,-142644022.4236599,-141309274.11382034,-139709523.56275228,-138018128.56535128,-136418378.0142832,-135083629.70444366,-134158524.32595769,-133743311.40107319,-133882985.69289374,-134562411.32463065,-135707961.9867103,-137195499.48984647,-138863826.06405178],[-138863826.06405178,-139745775.82170558,-140532152.6382571,-141137740.38373944,-141496914.2292676,-141570752.11552215,-141351252.56181455,-140862201.7506755,-140156595.92589715,-139310898.42719662,-138416753.70090693,-137571056.2022064,-136865450.37742805,-136376399.566289,-136156900.0125814,-136230737.89883596,-136589911.7443641,-137195499.48984647,-137981876.30639797,-138863826.06405178],[-138863826.06405178,-138863826.06405178,-138863826.06405178,-138863826.06405178,-138863826.06405178,-138863826.06405178,-138863826.06405178,-138863826.06405178,-138863826.06405178,-138863826.06405178,-138863826.06405178,-138863826.06405178,-138863826.06405178,-138863826.06405178,-138863826.06405178,-138863826.06405178,-138863826.06405178,-138863826.06405178,-138863826.06405178,-138863826.06405178]],\"z\":[[8163201.925250733,8163201.925250733,8163201.925250733,8163201.925250733,8163201.925250733,8163201.925250733,8163201.925250733,8163201.925250733,8163201.925250733,8163201.925250733,8163201.925250733,8163201.925250733,8163201.925250733,8163201.925250733,8163201.925250733,8163201.925250733,8163201.925250733,8163201.925250733,8163201.925250733,8163201.925250733],[7709947.766148427,7709947.766148427,7709947.766148427,7709947.766148427,7709947.766148427,7709947.766148427,7709947.766148427,7709947.766148427,7709947.766148427,7709947.766148427,7709947.766148427,7709947.766148427,7709947.766148427,7709947.766148427,7709947.766148427,7709947.766148427,7709947.766148427,7709947.766148427,7709947.766148427,7709947.766148427],[6399302.409943153,6399302.409943153,6399302.409943153,6399302.409943153,6399302.409943153,6399302.409943153,6399302.409943153,6399302.409943153,6399302.409943153,6399302.409943153,6399302.409943153,6399302.409943153,6399302.409943153,6399302.409943153,6399302.409943153,6399302.409943153,6399302.409943153,6399302.409943153,6399302.409943153,6399302.409943153],[4373294.617737824,4373294.617737824,4373294.617737824,4373294.617737824,4373294.617737824,4373294.617737824,4373294.617737824,4373294.617737824,4373294.617737824,4373294.617737824,4373294.617737824,4373294.617737824,4373294.617737824,4373294.617737824,4373294.617737824,4373294.617737824,4373294.617737824,4373294.617737824,4373294.617737824,4373294.617737824],[1851473.7705678213,1851473.7705678213,1851473.7705678213,1851473.7705678213,1851473.7705678213,1851473.7705678213,1851473.7705678213,1851473.7705678213,1851473.7705678213,1851473.7705678213,1851473.7705678213,1851473.7705678213,1851473.7705678213,1851473.7705678213,1851473.7705678213,1851473.7705678213,1851473.7705678213,1851473.7705678213,1851473.7705678213,1851473.7705678213],[-892881.7126938263,-892881.7126938263,-892881.7126938263,-892881.7126938263,-892881.7126938263,-892881.7126938263,-892881.7126938263,-892881.7126938263,-892881.7126938263,-892881.7126938263,-892881.7126938263,-892881.7126938263,-892881.7126938263,-892881.7126938263,-892881.7126938263,-892881.7126938263,-892881.7126938263,-892881.7126938263,-892881.7126938263,-892881.7126938263],[-3562378.3323729113,-3562378.3323729113,-3562378.3323729113,-3562378.3323729113,-3562378.3323729113,-3562378.3323729113,-3562378.3323729113,-3562378.3323729113,-3562378.3323729113,-3562378.3323729113,-3562378.3323729113,-3562378.3323729113,-3562378.3323729113,-3562378.3323729113,-3562378.3323729113,-3562378.3323729113,-3562378.3323729113,-3562378.3323729113,-3562378.3323729113,-3562378.3323729113],[-5867734.708219346,-5867734.708219346,-5867734.708219346,-5867734.708219346,-5867734.708219346,-5867734.708219346,-5867734.708219346,-5867734.708219346,-5867734.708219346,-5867734.708219346,-5867734.708219346,-5867734.708219346,-5867734.708219346,-5867734.708219346,-5867734.708219346,-5867734.708219346,-5867734.708219346,-5867734.708219346,-5867734.708219346,-5867734.708219346],[-7559129.705620354,-7559129.705620354,-7559129.705620354,-7559129.705620354,-7559129.705620354,-7559129.705620354,-7559129.705620354,-7559129.705620354,-7559129.705620354,-7559129.705620354,-7559129.705620354,-7559129.705620354,-7559129.705620354,-7559129.705620354,-7559129.705620354,-7559129.705620354,-7559129.705620354,-7559129.705620354,-7559129.705620354,-7559129.705620354],[-8453274.431910066,-8453274.431910066,-8453274.431910066,-8453274.431910066,-8453274.431910066,-8453274.431910066,-8453274.431910066,-8453274.431910066,-8453274.431910066,-8453274.431910066,-8453274.431910066,-8453274.431910066,-8453274.431910066,-8453274.431910066,-8453274.431910066,-8453274.431910066,-8453274.431910066,-8453274.431910066,-8453274.431910066,-8453274.431910066],[-8453274.431910068,-8453274.431910068,-8453274.431910068,-8453274.431910068,-8453274.431910068,-8453274.431910068,-8453274.431910068,-8453274.431910068,-8453274.431910068,-8453274.431910068,-8453274.431910068,-8453274.431910068,-8453274.431910068,-8453274.431910068,-8453274.431910068,-8453274.431910068,-8453274.431910068,-8453274.431910068,-8453274.431910068,-8453274.431910068],[-7559129.705620355,-7559129.705620355,-7559129.705620355,-7559129.705620355,-7559129.705620355,-7559129.705620355,-7559129.705620355,-7559129.705620355,-7559129.705620355,-7559129.705620355,-7559129.705620355,-7559129.705620355,-7559129.705620355,-7559129.705620355,-7559129.705620355,-7559129.705620355,-7559129.705620355,-7559129.705620355,-7559129.705620355,-7559129.705620355],[-5867734.70821935,-5867734.70821935,-5867734.70821935,-5867734.70821935,-5867734.70821935,-5867734.70821935,-5867734.70821935,-5867734.70821935,-5867734.70821935,-5867734.70821935,-5867734.70821935,-5867734.70821935,-5867734.70821935,-5867734.70821935,-5867734.70821935,-5867734.70821935,-5867734.70821935,-5867734.70821935,-5867734.70821935,-5867734.70821935],[-3562378.3323729164,-3562378.3323729164,-3562378.3323729164,-3562378.3323729164,-3562378.3323729164,-3562378.3323729164,-3562378.3323729164,-3562378.3323729164,-3562378.3323729164,-3562378.3323729164,-3562378.3323729164,-3562378.3323729164,-3562378.3323729164,-3562378.3323729164,-3562378.3323729164,-3562378.3323729164,-3562378.3323729164,-3562378.3323729164,-3562378.3323729164,-3562378.3323729164],[-892881.7126938303,-892881.7126938303,-892881.7126938303,-892881.7126938303,-892881.7126938303,-892881.7126938303,-892881.7126938303,-892881.7126938303,-892881.7126938303,-892881.7126938303,-892881.7126938303,-892881.7126938303,-892881.7126938303,-892881.7126938303,-892881.7126938303,-892881.7126938303,-892881.7126938303,-892881.7126938303,-892881.7126938303,-892881.7126938303],[1851473.7705678176,1851473.7705678176,1851473.7705678176,1851473.7705678176,1851473.7705678176,1851473.7705678176,1851473.7705678176,1851473.7705678176,1851473.7705678176,1851473.7705678176,1851473.7705678176,1851473.7705678176,1851473.7705678176,1851473.7705678176,1851473.7705678176,1851473.7705678176,1851473.7705678176,1851473.7705678176,1851473.7705678176,1851473.7705678176],[4373294.61773782,4373294.61773782,4373294.61773782,4373294.61773782,4373294.61773782,4373294.61773782,4373294.61773782,4373294.61773782,4373294.61773782,4373294.61773782,4373294.61773782,4373294.61773782,4373294.61773782,4373294.61773782,4373294.61773782,4373294.61773782,4373294.61773782,4373294.61773782,4373294.61773782,4373294.61773782],[6399302.409943151,6399302.409943151,6399302.409943151,6399302.409943151,6399302.409943151,6399302.409943151,6399302.409943151,6399302.409943151,6399302.409943151,6399302.409943151,6399302.409943151,6399302.409943151,6399302.409943151,6399302.409943151,6399302.409943151,6399302.409943151,6399302.409943151,6399302.409943151,6399302.409943151,6399302.409943151],[7709947.766148427,7709947.766148427,7709947.766148427,7709947.766148427,7709947.766148427,7709947.766148427,7709947.766148427,7709947.766148427,7709947.766148427,7709947.766148427,7709947.766148427,7709947.766148427,7709947.766148427,7709947.766148427,7709947.766148427,7709947.766148427,7709947.766148427,7709947.766148427,7709947.766148427,7709947.766148427],[8163201.925250733,8163201.925250733,8163201.925250733,8163201.925250733,8163201.925250733,8163201.925250733,8163201.925250733,8163201.925250733,8163201.925250733,8163201.925250733,8163201.925250733,8163201.925250733,8163201.925250733,8163201.925250733,8163201.925250733,8163201.925250733,8163201.925250733,8163201.925250733,8163201.925250733,8163201.925250733]],\"type\":\"surface\"},{\"cauto\":false,\"cmax\":1,\"cmin\":1,\"colorscale\":[[0,\"#ffcc00\"],[1,\"#ffcc00\"]],\"name\":\"Sun\",\"showscale\":false,\"x\":[[0.0,0.0,0.0,0.0,0.0,0.0,0.0,0.0,0.0,0.0,0.0,0.0,0.0,0.0,0.0,0.0,0.0,0.0,0.0,0.0],[5432406.525418914,5138063.755668245,4286932.052717375,2971244.7432501283,1333576.9622393185,-448604.57520872063,-2182172.8461157116,-3679268.829245652,-4777658.944988781,-5358315.5810256535,-5358315.581025654,-4777658.944988782,-3679268.8292456553,-2182172.8461157153,-448604.5752087232,1333576.9622393162,2971244.743250126,4286932.052717373,5138063.755668245,5432406.525418914],[10276127.511336492,9719338.578136288,8109308.498918374,5620509.014956694,2522640.1680414076,-848595.8838763942,-4127873.404454373,-6959831.791104493,-9037584.410271307,-10135974.526014436,-10135974.526014438,-9037584.410271307,-6959831.791104498,-4127873.404454379,-848595.8838763991,2522640.168041403,5620509.014956689,8109308.498918372,9719338.578136288,10276127.511336492],[14006270.630853662,13247372.254586618,11052915.540375607,7660703.923709655,3438336.1688409806,-1156628.6612042459,-5626254.828865174,-9486188.985480025,-12318147.372130148,-13815243.355260089,-13815243.35526009,-12318147.37213015,-9486188.985480033,-5626254.828865183,-1156628.6612042524,3438336.1688409746,7660703.923709649,11052915.540375603,13247372.254586618,14006270.630853662],[16218616.997836748,15339847.59309298,12798767.679377899,8870742.694259895,3981435.094464001,-1339322.7761478012,-6514944.2422298975,-10984570.409890827,-14263847.930468809,-15997416.201375801,-15997416.201375803,-14263847.93046881,-10984570.409890836,-6514944.242229908,-1339322.7761478089,3981435.0944639933,8870742.69425989,12798767.679377895,15339847.59309298,16218616.997836748],[16673424.5553323,15770012.422628026,13157674.74697727,9119498.850132247,4093083.7492711134,-1376880.486561654,-6697638.357173453,-11292603.18721868,-14663839.239136484,-16446020.776584523,-16446020.776584525,-14663839.239136485,-11292603.187218688,-6697638.357173463,-1376880.4865616618,4093083.749271106,9119498.85013224,13157674.746977266,15770012.422628026,16673424.5553323],[15321407.847419307,14491251.709216587,12090743.593382375,8380015.801988489,3761183.2691065925,-1265231.8317545417,-6154539.431550435,-10376907.186419107,-13474776.033334395,-15112443.814345205,-15112443.814345207,-13474776.033334397,-10376907.186419116,-6154539.431550444,-1265231.831754549,3761183.269106586,8380015.8019884825,12090743.593382372,14491251.709216587,15321407.847419307],[12309078.863100877,11642139.018173655,9713592.764227808,6732428.012356723,3021700.2209628336,-1016475.6758821902,-4944500.661000195,-8336712.27766615,-10825511.761627832,-12141199.071095081,-12141199.071095081,-10825511.761627834,-8336712.277666156,-4944500.661000202,-1016475.675882196,3021700.2209628285,6732428.012356717,9713592.764227806,11642139.018173655,12309078.863100877],[7962870.188928002,7531419.918112094,6283823.437148,4355277.183202153,1954769.0673679383,-657568.6082828211,-3198648.521997903,-5393105.236208917,-7003135.315426833,-7854267.0183777055,-7854267.0183777055,-7003135.315426834,-5393105.236208921,-3198648.521997908,-657568.6082828249,1954769.0673679349,4355277.183202149,6283823.437147998,7531419.918112094,7962870.188928002],[2753760.973123312,2604554.6079023466,2173104.337086439,1506164.4921592178,676008.3539564976,-227403.77874777588,-1106173.1834915427,-1865071.5597585866,-2421860.4929587906,-2716203.2627094593,-2716203.2627094598,-2421860.492958791,-1865071.559758588,-1106173.1834915446,-227403.7787477772,676008.3539564963,1506164.4921592167,2173104.3370864387,2604554.6079023466,2753760.973123312],[-2753760.973123308,-2604554.6079023425,-2173104.337086436,-1506164.4921592155,-676008.3539564966,227403.77874777553,1106173.183491541,1865071.5597585835,2421860.4929587874,2716203.262709455,2716203.2627094556,2421860.4929587874,1865071.5597585852,1106173.1834915427,227403.77874777684,-676008.3539564954,-1506164.4921592143,-2173104.3370864354,-2604554.6079023425,-2753760.973123308],[-7962870.188927999,-7531419.918112091,-6283823.437147997,-4355277.183202151,-1954769.0673679376,657568.6082828209,3198648.521997902,5393105.236208915,7003135.31542683,7854267.018377703,7854267.018377704,7003135.315426831,5393105.236208919,3198648.5219979067,657568.6082828246,-1954769.0673679342,-4355277.1832021475,-6283823.437147996,-7531419.918112091,-7962870.188927999],[-12309078.863100868,-11642139.018173646,-9713592.7642278,-6732428.012356717,-3021700.2209628318,1016475.6758821894,4944500.661000191,8336712.277666143,10825511.761627825,12141199.071095072,12141199.071095072,10825511.761627825,8336712.27766615,4944500.661000199,1016475.6758821952,-3021700.220962826,-6732428.012356712,-9713592.764227798,-11642139.018173646,-12309078.863100868],[-15321407.847419303,-14491251.709216584,-12090743.593382372,-8380015.801988487,-3761183.2691065916,1265231.8317545413,6154539.431550433,10376907.186419105,13474776.033334393,15112443.814345201,15112443.814345203,13474776.033334393,10376907.186419114,6154539.431550442,1265231.8317545485,-3761183.269106585,-8380015.801988481,-12090743.593382368,-14491251.709216584,-15321407.847419303],[-16673424.5553323,-15770012.422628026,-13157674.74697727,-9119498.850132247,-4093083.7492711134,1376880.486561654,6697638.357173453,11292603.18721868,14663839.239136484,16446020.776584523,16446020.776584525,14663839.239136485,11292603.187218688,6697638.357173463,1376880.4865616618,-4093083.749271106,-9119498.85013224,-13157674.746977266,-15770012.422628026,-16673424.5553323],[-16218616.99783675,-15339847.593092982,-12798767.6793779,-8870742.694259897,-3981435.094464001,1339322.7761478014,6514944.242229898,10984570.409890829,14263847.93046881,15997416.201375803,15997416.201375805,14263847.930468813,10984570.409890838,6514944.242229909,1339322.7761478089,-3981435.094463994,-8870742.69425989,-12798767.679377897,-15339847.593092982,-16218616.99783675],[-14006270.630853666,-13247372.254586622,-11052915.540375609,-7660703.923709657,-3438336.1688409816,1156628.661204246,5626254.828865175,9486188.98548003,12318147.37213015,13815243.355260093,13815243.355260095,12318147.372130152,9486188.985480037,5626254.8288651835,1156628.6612042529,-3438336.1688409755,-7660703.9237096505,-11052915.540375607,-13247372.254586622,-14006270.630853666],[-10276127.511336496,-9719338.578136291,-8109308.498918377,-5620509.014956696,-2522640.1680414085,848595.8838763945,4127873.404454374,6959831.7911044955,9037584.41027131,10135974.52601444,10135974.52601444,9037584.410271311,6959831.791104501,4127873.4044543803,848595.8838763994,-2522640.168041404,-5620509.014956691,-8109308.498918375,-9719338.578136291,-10276127.511336496],[-5432406.525418919,-5138063.75566825,-4286932.052717378,-2971244.7432501307,-1333576.9622393197,448604.57520872104,2182172.8461157135,3679268.8292456553,4777658.944988785,5358315.581025658,5358315.581025659,4777658.944988785,3679268.829245658,2182172.846115717,448604.5752087236,-1333576.9622393171,-2971244.7432501283,-4286932.0527173765,-5138063.75566825,-5432406.525418919],[-4.097807291965544e-9,-3.875776789907598e-9,-3.2337457337899457e-9,-2.241288150681205e-9,-1.005952219277281e-9,3.38394244042265e-10,1.6460704402921333e-9,2.775369362921845e-9,3.603913950786241e-9,4.0419185415963136e-9,4.041918541596314e-9,3.6039139507862416e-9,2.775369362921847e-9,1.6460704402921358e-9,3.383942440422669e-10,-1.005952219277279e-9,-2.241288150681203e-9,-3.233745733789945e-9,-3.875776789907598e-9,-4.097807291965544e-9]],\"y\":[[0.0,0.0,0.0,0.0,0.0,0.0,0.0,0.0,0.0,0.0,0.0,0.0,0.0,0.0,0.0,0.0,0.0,0.0,0.0,0.0],[0.0,1763899.5153075801,3336653.148410604,4547828.639375331,5266176.3304316485,5413852.102940733,4974852.99552552,3996751.373247443,2585539.7236907193,894144.726289712,-894144.7262897106,-2585539.723690719,-3996751.3732474404,-4974852.995525519,-5413852.102940733,-5266176.330431649,-4547828.639375332,-3336653.1484106053,-1763899.5153075815,-1.3305558526042933e-9],[0.0,3336653.148410604,6311728.154682912,8602829.478842253,9961680.742316065,10241029.32595717,9410603.476188177,7560392.7192162415,4890896.099537156,1691394.9974010088,-1691394.9974010063,-4890896.099537154,-7560392.719216236,-9410603.476188174,-10241029.32595717,-9961680.742316067,-8602829.478842255,-6311728.154682915,-3336653.1484106067,-2.5169253328776584e-9],[0.0,4547828.639375332,8602829.478842253,11725580.257623645,13577682.474367773,13958432.115563506,12826569.04964789,10304748.20247789,6666247.992926531,2305356.3758464367,-2305356.375846433,-6666247.992926528,-10304748.202477882,-12826569.049647886,-13958432.115563506,-13577682.474367775,-11725580.257623648,-8602829.478842257,-4547828.639375336,-3.4305468992133034e-9],[0.0,5266176.3304316485,9961680.742316065,13577682.474367773,15722331.630871087,16163222.198058492,14852576.84185322,11932424.32335818,7719208.478787171,2669496.619679088,-2669496.6196790836,-7719208.478787168,-11932424.32335817,-14852576.841853216,-16163222.198058492,-15722331.63087109,-13577682.474367777,-9961680.74231607,-5266176.330431653,-3.972415478599526e-9],[0.0,5413852.102940734,10241029.32595717,13958432.115563506,16163222.198058493,16616476.3571608,15269077.471768783,12267037.118162503,7935672.950110738,2744355.4832616495,-2744355.4832616453,-7935672.950110735,-12267037.118162494,-15269077.47176878,-16616476.3571608,-16163222.198058495,-13958432.11556351,-10241029.325957173,-5413852.102940738,-4.083811202502516e-9],[0.0,4974852.995525521,9410603.476188177,12826569.04964789,14852576.84185322,15269077.471768783,14030936.633470083,11272326.098521343,7292184.122636982,2521820.8471700037,-2521820.84717,-7292184.122636979,-11272326.098521335,-14030936.633470079,-15269077.471768783,-14852576.841853222,-12826569.049647892,-9410603.476188181,-4974852.995525525,-3.752662615754639e-9],[0.0,3996751.373247443,7560392.7192162415,10304748.20247789,11932424.32335818,12267037.118162503,11272326.098521343,9056083.637944564,5858473.995580609,2026007.792205332,-2026007.792205329,-5858473.995580607,-9056083.637944557,-11272326.09852134,-12267037.118162503,-11932424.323358182,-10304748.202477893,-7560392.719216244,-3996751.373247447,-3.014854806029766e-9],[0.0,2585539.72369072,4890896.099537156,6666247.99292653,7719208.478787171,7935672.950110737,7292184.122636981,5858473.995580609,3789907.3075129124,1310645.3562052755,-1310645.3562052734,-3789907.3075129115,-5858473.995580604,-7292184.122636979,-7935672.950110737,-7719208.478787172,-6666247.9929265315,-4890896.099537157,-2585539.7236907217,-1.950340697779311e-9],[0.0,894144.7262897121,1691394.997401009,2305356.3758464367,2669496.6196790882,2744355.48326165,2521820.847170004,2026007.7922053323,1310645.3562052755,453254.159102307,-453254.1591023063,-1310645.356205275,-2026007.7922053307,-2521820.847170003,-2744355.48326165,-2669496.6196790887,-2305356.375846437,-1691394.9974010095,-894144.7262897128,-6.74476912270473e-10],[0.0,-894144.7262897107,-1691394.9974010065,-2305356.3758464335,-2669496.619679084,-2744355.483261646,-2521820.84717,-2026007.7922053293,-1310645.3562052737,-453254.1591023063,453254.1591023056,1310645.3562052732,2026007.7922053277,2521820.8471699995,2744355.483261646,2669496.6196790845,2305356.375846434,1691394.997401007,894144.7262897115,6.744769122704719e-10],[0.0,-2585539.723690719,-4890896.099537154,-6666247.992926528,-7719208.478787168,-7935672.950110734,-7292184.122636979,-5858473.995580607,-3789907.3075129115,-1310645.356205275,1310645.356205273,3789907.30751291,5858473.995580602,7292184.122636978,7935672.950110734,7719208.478787169,6666247.99292653,4890896.099537156,2585539.7236907207,1.9503406977793103e-9],[0.0,-3996751.3732474404,-7560392.719216236,-10304748.202477882,-11932424.323358173,-12267037.118162494,-11272326.098521335,-9056083.637944557,-5858473.995580605,-2026007.7922053307,2026007.7922053274,5858473.995580602,9056083.637944551,11272326.098521331,12267037.118162494,11932424.323358173,10304748.202477884,7560392.719216239,3996751.3732474437,3.0148548060297637e-9],[0.0,-4974852.995525519,-9410603.476188175,-12826569.049647886,-14852576.841853216,-15269077.47176878,-14030936.633470079,-11272326.09852134,-7292184.12263698,-2521820.847170003,2521820.8471699995,7292184.122636978,11272326.098521331,14030936.633470075,15269077.47176878,14852576.841853218,12826569.04964789,9410603.476188177,4974852.995525524,3.752662615754637e-9],[0.0,-5413852.102940734,-10241029.32595717,-13958432.115563506,-16163222.198058493,-16616476.3571608,-15269077.471768783,-12267037.118162503,-7935672.950110738,-2744355.4832616495,2744355.4832616453,7935672.950110735,12267037.118162494,15269077.47176878,16616476.3571608,16163222.198058495,13958432.11556351,10241029.325957173,5413852.102940738,4.083811202502516e-9],[0.0,-5266176.330431649,-9961680.742316065,-13577682.474367775,-15722331.63087109,-16163222.198058493,-14852576.84185322,-11932424.323358182,-7719208.478787172,-2669496.6196790882,2669496.619679084,7719208.478787169,11932424.323358173,14852576.841853218,16163222.198058493,15722331.630871091,13577682.474367779,9961680.74231607,5266176.330431654,3.972415478599526e-9],[0.0,-4547828.639375333,-8602829.478842255,-11725580.257623648,-13577682.474367777,-13958432.11556351,-12826569.049647892,-10304748.202477893,-6666247.992926532,-2305356.375846437,2305356.375846434,6666247.99292653,10304748.202477885,12826569.04964789,13958432.11556351,13577682.474367779,11725580.25762365,8602829.478842258,4547828.6393753365,3.4305468992133042e-9],[0.0,-3336653.1484106053,-6311728.154682915,-8602829.478842257,-9961680.74231607,-10241029.325957173,-9410603.47618818,-7560392.719216244,-4890896.099537157,-1691394.9974010095,1691394.997401007,4890896.099537156,7560392.719216239,9410603.476188177,10241029.325957173,9961680.742316071,8602829.478842258,6311728.154682917,3336653.148410608,2.516925332877659e-9],[0.0,-1763899.5153075815,-3336653.1484106067,-4547828.639375335,-5266176.330431653,-5413852.102940737,-4974852.995525525,-3996751.3732474465,-2585539.7236907217,-894144.7262897127,894144.7262897114,2585539.7236907207,3996751.3732474437,4974852.995525524,5413852.102940737,5266176.330431654,4547828.6393753365,3336653.148410608,1763899.5153075831,1.3305558526042945e-9],[0.0,-1.3305558526042935e-9,-2.5169253328776584e-9,-3.4305468992133034e-9,-3.972415478599526e-9,-4.083811202502516e-9,-3.752662615754639e-9,-3.0148548060297662e-9,-1.9503406977793116e-9,-6.744769122704729e-10,6.744769122704719e-10,1.9503406977793107e-9,3.0148548060297637e-9,3.752662615754638e-9,4.083811202502516e-9,3.9724154785995265e-9,3.4305468992133042e-9,2.516925332877659e-9,1.3305558526042947e-9,1.0036733167256574e-24]],\"z\":[[16730567.92708966,16730567.92708966,16730567.92708966,16730567.92708966,16730567.92708966,16730567.92708966,16730567.92708966,16730567.92708966,16730567.92708966,16730567.92708966,16730567.92708966,16730567.92708966,16730567.92708966,16730567.92708966,16730567.92708966,16730567.92708966,16730567.92708966,16730567.92708966,16730567.92708966,16730567.92708966],[15824059.608885046,15824059.608885046,15824059.608885046,15824059.608885046,15824059.608885046,15824059.608885046,15824059.608885046,15824059.608885046,15824059.608885046,15824059.608885046,15824059.608885046,15824059.608885046,15824059.608885046,15824059.608885046,15824059.608885046,15824059.608885046,15824059.608885046,15824059.608885046,15824059.608885046,15824059.608885046],[13202768.8964745,13202768.8964745,13202768.8964745,13202768.8964745,13202768.8964745,13202768.8964745,13202768.8964745,13202768.8964745,13202768.8964745,13202768.8964745,13202768.8964745,13202768.8964745,13202768.8964745,13202768.8964745,13202768.8964745,13202768.8964745,13202768.8964745,13202768.8964745,13202768.8964745,13202768.8964745],[9150753.312063841,9150753.312063841,9150753.312063841,9150753.312063841,9150753.312063841,9150753.312063841,9150753.312063841,9150753.312063841,9150753.312063841,9150753.312063841,9150753.312063841,9150753.312063841,9150753.312063841,9150753.312063841,9150753.312063841,9150753.312063841,9150753.312063841,9150753.312063841,9150753.312063841,9150753.312063841],[4107111.6177238366,4107111.6177238366,4107111.6177238366,4107111.6177238366,4107111.6177238366,4107111.6177238366,4107111.6177238366,4107111.6177238366,4107111.6177238366,4107111.6177238366,4107111.6177238366,4107111.6177238366,4107111.6177238366,4107111.6177238366,4107111.6177238366,4107111.6177238366,4107111.6177238366,4107111.6177238366,4107111.6177238366,4107111.6177238366],[-1381599.348799459,-1381599.348799459,-1381599.348799459,-1381599.348799459,-1381599.348799459,-1381599.348799459,-1381599.348799459,-1381599.348799459,-1381599.348799459,-1381599.348799459,-1381599.348799459,-1381599.348799459,-1381599.348799459,-1381599.348799459,-1381599.348799459,-1381599.348799459,-1381599.348799459,-1381599.348799459,-1381599.348799459,-1381599.348799459],[-6720592.588157629,-6720592.588157629,-6720592.588157629,-6720592.588157629,-6720592.588157629,-6720592.588157629,-6720592.588157629,-6720592.588157629,-6720592.588157629,-6720592.588157629,-6720592.588157629,-6720592.588157629,-6720592.588157629,-6720592.588157629,-6720592.588157629,-6720592.588157629,-6720592.588157629,-6720592.588157629,-6720592.588157629,-6720592.588157629],[-11331305.339850498,-11331305.339850498,-11331305.339850498,-11331305.339850498,-11331305.339850498,-11331305.339850498,-11331305.339850498,-11331305.339850498,-11331305.339850498,-11331305.339850498,-11331305.339850498,-11331305.339850498,-11331305.339850498,-11331305.339850498,-11331305.339850498,-11331305.339850498,-11331305.339850498,-11331305.339850498,-11331305.339850498,-11331305.339850498],[-14714095.334652515,-14714095.334652515,-14714095.334652515,-14714095.334652515,-14714095.334652515,-14714095.334652515,-14714095.334652515,-14714095.334652515,-14714095.334652515,-14714095.334652515,-14714095.334652515,-14714095.334652515,-14714095.334652515,-14714095.334652515,-14714095.334652515,-14714095.334652515,-14714095.334652515,-14714095.334652515,-14714095.334652515,-14714095.334652515],[-16502384.787231939,-16502384.787231939,-16502384.787231939,-16502384.787231939,-16502384.787231939,-16502384.787231939,-16502384.787231939,-16502384.787231939,-16502384.787231939,-16502384.787231939,-16502384.787231939,-16502384.787231939,-16502384.787231939,-16502384.787231939,-16502384.787231939,-16502384.787231939,-16502384.787231939,-16502384.787231939,-16502384.787231939,-16502384.787231939],[-16502384.78723194,-16502384.78723194,-16502384.78723194,-16502384.78723194,-16502384.78723194,-16502384.78723194,-16502384.78723194,-16502384.78723194,-16502384.78723194,-16502384.78723194,-16502384.78723194,-16502384.78723194,-16502384.78723194,-16502384.78723194,-16502384.78723194,-16502384.78723194,-16502384.78723194,-16502384.78723194,-16502384.78723194,-16502384.78723194],[-14714095.334652517,-14714095.334652517,-14714095.334652517,-14714095.334652517,-14714095.334652517,-14714095.334652517,-14714095.334652517,-14714095.334652517,-14714095.334652517,-14714095.334652517,-14714095.334652517,-14714095.334652517,-14714095.334652517,-14714095.334652517,-14714095.334652517,-14714095.334652517,-14714095.334652517,-14714095.334652517,-14714095.334652517,-14714095.334652517],[-11331305.339850508,-11331305.339850508,-11331305.339850508,-11331305.339850508,-11331305.339850508,-11331305.339850508,-11331305.339850508,-11331305.339850508,-11331305.339850508,-11331305.339850508,-11331305.339850508,-11331305.339850508,-11331305.339850508,-11331305.339850508,-11331305.339850508,-11331305.339850508,-11331305.339850508,-11331305.339850508,-11331305.339850508,-11331305.339850508],[-6720592.588157639,-6720592.588157639,-6720592.588157639,-6720592.588157639,-6720592.588157639,-6720592.588157639,-6720592.588157639,-6720592.588157639,-6720592.588157639,-6720592.588157639,-6720592.588157639,-6720592.588157639,-6720592.588157639,-6720592.588157639,-6720592.588157639,-6720592.588157639,-6720592.588157639,-6720592.588157639,-6720592.588157639,-6720592.588157639],[-1381599.3487994669,-1381599.3487994669,-1381599.3487994669,-1381599.3487994669,-1381599.3487994669,-1381599.3487994669,-1381599.3487994669,-1381599.3487994669,-1381599.3487994669,-1381599.3487994669,-1381599.3487994669,-1381599.3487994669,-1381599.3487994669,-1381599.3487994669,-1381599.3487994669,-1381599.3487994669,-1381599.3487994669,-1381599.3487994669,-1381599.3487994669,-1381599.3487994669],[4107111.617723829,4107111.617723829,4107111.617723829,4107111.617723829,4107111.617723829,4107111.617723829,4107111.617723829,4107111.617723829,4107111.617723829,4107111.617723829,4107111.617723829,4107111.617723829,4107111.617723829,4107111.617723829,4107111.617723829,4107111.617723829,4107111.617723829,4107111.617723829,4107111.617723829,4107111.617723829],[9150753.312063834,9150753.312063834,9150753.312063834,9150753.312063834,9150753.312063834,9150753.312063834,9150753.312063834,9150753.312063834,9150753.312063834,9150753.312063834,9150753.312063834,9150753.312063834,9150753.312063834,9150753.312063834,9150753.312063834,9150753.312063834,9150753.312063834,9150753.312063834,9150753.312063834,9150753.312063834],[13202768.896474496,13202768.896474496,13202768.896474496,13202768.896474496,13202768.896474496,13202768.896474496,13202768.896474496,13202768.896474496,13202768.896474496,13202768.896474496,13202768.896474496,13202768.896474496,13202768.896474496,13202768.896474496,13202768.896474496,13202768.896474496,13202768.896474496,13202768.896474496,13202768.896474496,13202768.896474496],[15824059.608885046,15824059.608885046,15824059.608885046,15824059.608885046,15824059.608885046,15824059.608885046,15824059.608885046,15824059.608885046,15824059.608885046,15824059.608885046,15824059.608885046,15824059.608885046,15824059.608885046,15824059.608885046,15824059.608885046,15824059.608885046,15824059.608885046,15824059.608885046,15824059.608885046,15824059.608885046],[16730567.92708966,16730567.92708966,16730567.92708966,16730567.92708966,16730567.92708966,16730567.92708966,16730567.92708966,16730567.92708966,16730567.92708966,16730567.92708966,16730567.92708966,16730567.92708966,16730567.92708966,16730567.92708966,16730567.92708966,16730567.92708966,16730567.92708966,16730567.92708966,16730567.92708966,16730567.92708966]],\"type\":\"surface\"}],                        {\"template\":{\"data\":{\"histogram2dcontour\":[{\"type\":\"histogram2dcontour\",\"colorbar\":{\"outlinewidth\":0,\"ticks\":\"\"},\"colorscale\":[[0.0,\"#0d0887\"],[0.1111111111111111,\"#46039f\"],[0.2222222222222222,\"#7201a8\"],[0.3333333333333333,\"#9c179e\"],[0.4444444444444444,\"#bd3786\"],[0.5555555555555556,\"#d8576b\"],[0.6666666666666666,\"#ed7953\"],[0.7777777777777778,\"#fb9f3a\"],[0.8888888888888888,\"#fdca26\"],[1.0,\"#f0f921\"]]}],\"choropleth\":[{\"type\":\"choropleth\",\"colorbar\":{\"outlinewidth\":0,\"ticks\":\"\"}}],\"histogram2d\":[{\"type\":\"histogram2d\",\"colorbar\":{\"outlinewidth\":0,\"ticks\":\"\"},\"colorscale\":[[0.0,\"#0d0887\"],[0.1111111111111111,\"#46039f\"],[0.2222222222222222,\"#7201a8\"],[0.3333333333333333,\"#9c179e\"],[0.4444444444444444,\"#bd3786\"],[0.5555555555555556,\"#d8576b\"],[0.6666666666666666,\"#ed7953\"],[0.7777777777777778,\"#fb9f3a\"],[0.8888888888888888,\"#fdca26\"],[1.0,\"#f0f921\"]]}],\"heatmap\":[{\"type\":\"heatmap\",\"colorbar\":{\"outlinewidth\":0,\"ticks\":\"\"},\"colorscale\":[[0.0,\"#0d0887\"],[0.1111111111111111,\"#46039f\"],[0.2222222222222222,\"#7201a8\"],[0.3333333333333333,\"#9c179e\"],[0.4444444444444444,\"#bd3786\"],[0.5555555555555556,\"#d8576b\"],[0.6666666666666666,\"#ed7953\"],[0.7777777777777778,\"#fb9f3a\"],[0.8888888888888888,\"#fdca26\"],[1.0,\"#f0f921\"]]}],\"heatmapgl\":[{\"type\":\"heatmapgl\",\"colorbar\":{\"outlinewidth\":0,\"ticks\":\"\"},\"colorscale\":[[0.0,\"#0d0887\"],[0.1111111111111111,\"#46039f\"],[0.2222222222222222,\"#7201a8\"],[0.3333333333333333,\"#9c179e\"],[0.4444444444444444,\"#bd3786\"],[0.5555555555555556,\"#d8576b\"],[0.6666666666666666,\"#ed7953\"],[0.7777777777777778,\"#fb9f3a\"],[0.8888888888888888,\"#fdca26\"],[1.0,\"#f0f921\"]]}],\"contourcarpet\":[{\"type\":\"contourcarpet\",\"colorbar\":{\"outlinewidth\":0,\"ticks\":\"\"}}],\"contour\":[{\"type\":\"contour\",\"colorbar\":{\"outlinewidth\":0,\"ticks\":\"\"},\"colorscale\":[[0.0,\"#0d0887\"],[0.1111111111111111,\"#46039f\"],[0.2222222222222222,\"#7201a8\"],[0.3333333333333333,\"#9c179e\"],[0.4444444444444444,\"#bd3786\"],[0.5555555555555556,\"#d8576b\"],[0.6666666666666666,\"#ed7953\"],[0.7777777777777778,\"#fb9f3a\"],[0.8888888888888888,\"#fdca26\"],[1.0,\"#f0f921\"]]}],\"surface\":[{\"type\":\"surface\",\"colorbar\":{\"outlinewidth\":0,\"ticks\":\"\"},\"colorscale\":[[0.0,\"#0d0887\"],[0.1111111111111111,\"#46039f\"],[0.2222222222222222,\"#7201a8\"],[0.3333333333333333,\"#9c179e\"],[0.4444444444444444,\"#bd3786\"],[0.5555555555555556,\"#d8576b\"],[0.6666666666666666,\"#ed7953\"],[0.7777777777777778,\"#fb9f3a\"],[0.8888888888888888,\"#fdca26\"],[1.0,\"#f0f921\"]]}],\"mesh3d\":[{\"type\":\"mesh3d\",\"colorbar\":{\"outlinewidth\":0,\"ticks\":\"\"}}],\"scatter\":[{\"fillpattern\":{\"fillmode\":\"overlay\",\"size\":10,\"solidity\":0.2},\"type\":\"scatter\"}],\"parcoords\":[{\"type\":\"parcoords\",\"line\":{\"colorbar\":{\"outlinewidth\":0,\"ticks\":\"\"}}}],\"scatterpolargl\":[{\"type\":\"scatterpolargl\",\"marker\":{\"colorbar\":{\"outlinewidth\":0,\"ticks\":\"\"}}}],\"bar\":[{\"error_x\":{\"color\":\"#2a3f5f\"},\"error_y\":{\"color\":\"#2a3f5f\"},\"marker\":{\"line\":{\"color\":\"#E5ECF6\",\"width\":0.5},\"pattern\":{\"fillmode\":\"overlay\",\"size\":10,\"solidity\":0.2}},\"type\":\"bar\"}],\"scattergeo\":[{\"type\":\"scattergeo\",\"marker\":{\"colorbar\":{\"outlinewidth\":0,\"ticks\":\"\"}}}],\"scatterpolar\":[{\"type\":\"scatterpolar\",\"marker\":{\"colorbar\":{\"outlinewidth\":0,\"ticks\":\"\"}}}],\"histogram\":[{\"marker\":{\"pattern\":{\"fillmode\":\"overlay\",\"size\":10,\"solidity\":0.2}},\"type\":\"histogram\"}],\"scattergl\":[{\"type\":\"scattergl\",\"marker\":{\"colorbar\":{\"outlinewidth\":0,\"ticks\":\"\"}}}],\"scatter3d\":[{\"type\":\"scatter3d\",\"line\":{\"colorbar\":{\"outlinewidth\":0,\"ticks\":\"\"}},\"marker\":{\"colorbar\":{\"outlinewidth\":0,\"ticks\":\"\"}}}],\"scattermapbox\":[{\"type\":\"scattermapbox\",\"marker\":{\"colorbar\":{\"outlinewidth\":0,\"ticks\":\"\"}}}],\"scatterternary\":[{\"type\":\"scatterternary\",\"marker\":{\"colorbar\":{\"outlinewidth\":0,\"ticks\":\"\"}}}],\"scattercarpet\":[{\"type\":\"scattercarpet\",\"marker\":{\"colorbar\":{\"outlinewidth\":0,\"ticks\":\"\"}}}],\"carpet\":[{\"aaxis\":{\"endlinecolor\":\"#2a3f5f\",\"gridcolor\":\"white\",\"linecolor\":\"white\",\"minorgridcolor\":\"white\",\"startlinecolor\":\"#2a3f5f\"},\"baxis\":{\"endlinecolor\":\"#2a3f5f\",\"gridcolor\":\"white\",\"linecolor\":\"white\",\"minorgridcolor\":\"white\",\"startlinecolor\":\"#2a3f5f\"},\"type\":\"carpet\"}],\"table\":[{\"cells\":{\"fill\":{\"color\":\"#EBF0F8\"},\"line\":{\"color\":\"white\"}},\"header\":{\"fill\":{\"color\":\"#C8D4E3\"},\"line\":{\"color\":\"white\"}},\"type\":\"table\"}],\"barpolar\":[{\"marker\":{\"line\":{\"color\":\"#E5ECF6\",\"width\":0.5},\"pattern\":{\"fillmode\":\"overlay\",\"size\":10,\"solidity\":0.2}},\"type\":\"barpolar\"}],\"pie\":[{\"automargin\":true,\"type\":\"pie\"}]},\"layout\":{\"autotypenumbers\":\"strict\",\"colorway\":[\"#636efa\",\"#EF553B\",\"#00cc96\",\"#ab63fa\",\"#FFA15A\",\"#19d3f3\",\"#FF6692\",\"#B6E880\",\"#FF97FF\",\"#FECB52\"],\"font\":{\"color\":\"#2a3f5f\"},\"hovermode\":\"closest\",\"hoverlabel\":{\"align\":\"left\"},\"paper_bgcolor\":\"white\",\"plot_bgcolor\":\"#E5ECF6\",\"polar\":{\"bgcolor\":\"#E5ECF6\",\"angularaxis\":{\"gridcolor\":\"white\",\"linecolor\":\"white\",\"ticks\":\"\"},\"radialaxis\":{\"gridcolor\":\"white\",\"linecolor\":\"white\",\"ticks\":\"\"}},\"ternary\":{\"bgcolor\":\"#E5ECF6\",\"aaxis\":{\"gridcolor\":\"white\",\"linecolor\":\"white\",\"ticks\":\"\"},\"baxis\":{\"gridcolor\":\"white\",\"linecolor\":\"white\",\"ticks\":\"\"},\"caxis\":{\"gridcolor\":\"white\",\"linecolor\":\"white\",\"ticks\":\"\"}},\"coloraxis\":{\"colorbar\":{\"outlinewidth\":0,\"ticks\":\"\"}},\"colorscale\":{\"sequential\":[[0.0,\"#0d0887\"],[0.1111111111111111,\"#46039f\"],[0.2222222222222222,\"#7201a8\"],[0.3333333333333333,\"#9c179e\"],[0.4444444444444444,\"#bd3786\"],[0.5555555555555556,\"#d8576b\"],[0.6666666666666666,\"#ed7953\"],[0.7777777777777778,\"#fb9f3a\"],[0.8888888888888888,\"#fdca26\"],[1.0,\"#f0f921\"]],\"sequentialminus\":[[0.0,\"#0d0887\"],[0.1111111111111111,\"#46039f\"],[0.2222222222222222,\"#7201a8\"],[0.3333333333333333,\"#9c179e\"],[0.4444444444444444,\"#bd3786\"],[0.5555555555555556,\"#d8576b\"],[0.6666666666666666,\"#ed7953\"],[0.7777777777777778,\"#fb9f3a\"],[0.8888888888888888,\"#fdca26\"],[1.0,\"#f0f921\"]],\"diverging\":[[0,\"#8e0152\"],[0.1,\"#c51b7d\"],[0.2,\"#de77ae\"],[0.3,\"#f1b6da\"],[0.4,\"#fde0ef\"],[0.5,\"#f7f7f7\"],[0.6,\"#e6f5d0\"],[0.7,\"#b8e186\"],[0.8,\"#7fbc41\"],[0.9,\"#4d9221\"],[1,\"#276419\"]]},\"xaxis\":{\"gridcolor\":\"white\",\"linecolor\":\"white\",\"ticks\":\"\",\"title\":{\"standoff\":15},\"zerolinecolor\":\"white\",\"automargin\":true,\"zerolinewidth\":2},\"yaxis\":{\"gridcolor\":\"white\",\"linecolor\":\"white\",\"ticks\":\"\",\"title\":{\"standoff\":15},\"zerolinecolor\":\"white\",\"automargin\":true,\"zerolinewidth\":2},\"scene\":{\"xaxis\":{\"backgroundcolor\":\"#E5ECF6\",\"gridcolor\":\"white\",\"linecolor\":\"white\",\"showbackground\":true,\"ticks\":\"\",\"zerolinecolor\":\"white\",\"gridwidth\":2},\"yaxis\":{\"backgroundcolor\":\"#E5ECF6\",\"gridcolor\":\"white\",\"linecolor\":\"white\",\"showbackground\":true,\"ticks\":\"\",\"zerolinecolor\":\"white\",\"gridwidth\":2},\"zaxis\":{\"backgroundcolor\":\"#E5ECF6\",\"gridcolor\":\"white\",\"linecolor\":\"white\",\"showbackground\":true,\"ticks\":\"\",\"zerolinecolor\":\"white\",\"gridwidth\":2}},\"shapedefaults\":{\"line\":{\"color\":\"#2a3f5f\"}},\"annotationdefaults\":{\"arrowcolor\":\"#2a3f5f\",\"arrowhead\":0,\"arrowwidth\":1},\"geo\":{\"bgcolor\":\"white\",\"landcolor\":\"#E5ECF6\",\"subunitcolor\":\"white\",\"showland\":true,\"showlakes\":true,\"lakecolor\":\"white\"},\"title\":{\"x\":0.05},\"mapbox\":{\"style\":\"light\"}}},\"scene\":{\"xaxis\":{\"title\":{\"text\":\"x (km)\"}},\"yaxis\":{\"title\":{\"text\":\"y (km)\"}},\"zaxis\":{\"title\":{\"text\":\"z (km)\"}},\"aspectmode\":\"data\"},\"autosize\":true},                        {\"responsive\": true}                    ).then(function(){\n",
              "                            \n",
              "var gd = document.getElementById('7cd0ff20-e998-4e15-8faa-ace55b6d168e');\n",
              "var x = new MutationObserver(function (mutations, observer) {{\n",
              "        var display = window.getComputedStyle(gd).display;\n",
              "        if (!display || display === 'none') {{\n",
              "            console.log([gd, 'removed!']);\n",
              "            Plotly.purge(gd);\n",
              "            observer.disconnect();\n",
              "        }}\n",
              "}});\n",
              "\n",
              "// Listen for the removal of the full notebook cells\n",
              "var notebookContainer = gd.closest('#notebook-container');\n",
              "if (notebookContainer) {{\n",
              "    x.observe(notebookContainer, {childList: true});\n",
              "}}\n",
              "\n",
              "// Listen for the clearing of the current output cell\n",
              "var outputEl = gd.closest('.output');\n",
              "if (outputEl) {{\n",
              "    x.observe(outputEl, {childList: true});\n",
              "}}\n",
              "\n",
              "                        })                };                            </script>        </div>\n",
              "</body>\n",
              "</html>"
            ]
          },
          "metadata": {}
        }
      ],
      "source": [
        "import numpy as np\n",
        "\n",
        "from poliastro.bodies import Earth, Sun\n",
        "from poliastro.constants import J2000\n",
        "from poliastro.examples import churi, iss, molniya\n",
        "from poliastro.plotting import OrbitPlotter3D\n",
        "from poliastro.twobody import Orbit\n",
        "# More info: https://plotly.com/python/renderers/\n",
        "available_renderers=['plotly_mimetype', 'jupyterlab', 'nteract', 'vscode',\n",
        "         'notebook', 'notebook_connected', 'kaggle', 'azure', 'colab',\n",
        "         'cocalc', 'databricks', 'json', 'png', 'jpeg', 'jpg', 'svg',\n",
        "         'pdf', 'browser', 'firefox', 'chrome', 'chromium', 'iframe',\n",
        "         'iframe_connected', 'sphinx_gallery', 'sphinx_gallery_png']\n",
        "import plotly.io as pio\n",
        "\n",
        "# pio.renderers.default = \"plotly_mimetype+notebook_connected+colab+jupyterlab+vscode+notebook\"\n",
        "pio.renderers.default = \"colab\"\n",
        "\n",
        "\n",
        "frame = OrbitPlotter3D()\n",
        "\n",
        "# frame.plot_body_orbit(Earth, J2000)\n",
        "frame.plot(orbit1, label=\"BODY#1\")\n",
        "frame.plot(orbit2, label=\"BODY#2\", color=\"red\")\n"
      ]
    }
  ],
  "metadata": {
    "colab": {
      "provenance": [],
      "authorship_tag": "ABX9TyMpv7vsIz3AODAKUyK035TL",
      "include_colab_link": true
    },
    "kernelspec": {
      "display_name": "Python 3",
      "name": "python3"
    },
    "language_info": {
      "name": "python"
    }
  },
  "nbformat": 4,
  "nbformat_minor": 0
}